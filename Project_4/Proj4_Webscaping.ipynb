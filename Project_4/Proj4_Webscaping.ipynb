{
 "cells": [
  {
   "cell_type": "code",
   "execution_count": 2,
   "metadata": {},
   "outputs": [],
   "source": [
    "import requests\n",
    "from bs4 import BeautifulSoup\n",
    "from scrapy.selector import Selector\n",
    "import re\n",
    "from time import sleep\n",
    "import os\n",
    "from selenium import webdriver\n",
    "import pandas as pd\n",
    "import numpy as np"
   ]
  },
  {
   "cell_type": "code",
   "execution_count": 2,
   "metadata": {},
   "outputs": [],
   "source": [
    "chromedriver = './chromedriver/chromedriver.exe'\n",
    "os.environ['webdriver.chrome.driver'] = chromedriver"
   ]
  },
  {
   "cell_type": "code",
   "execution_count": 3,
   "metadata": {},
   "outputs": [],
   "source": [
    "search_term = 'https://www.mycareersfuture.sg/search?search=data warehouse&employmentType=Full Time&page='"
   ]
  },
  {
   "cell_type": "code",
   "execution_count": null,
   "metadata": {},
   "outputs": [],
   "source": [
    "# initialise dataframe to hold the scrapping results\n",
    "data_df = pd.DataFrame()\n",
    "\n",
    "# to iterate through the pages of search results\n",
    "for i in range(0,2):\n",
    "    # concatenate the page number to get complete url\n",
    "    url = search_term + str(i)\n",
    "    \n",
    "    # use chromedriver to get the results page\n",
    "    driver = webdriver.Chrome(executable_path=\"./chromedriver/chromedriver.exe\")\n",
    "    driver.get(url)\n",
    "    sleep(2)\n",
    "    html = driver.page_source\n",
    "    \n",
    "    results_soup = BeautifulSoup(html, 'lxml')\n",
    "    \n",
    "    # Get the links of job postings on the results page for the job listings\n",
    "    class_list = results_soup.find_all('a', {'class': 'bg-white mb3 w-100 dib v-top pa3 no-underline flex-ns flex-wrap JobCard__card___22xP3'})\n",
    "    link_list = []    # initialise list to hold the links of job postings\n",
    "\n",
    "    for text in class_list:\n",
    "        link_list.append('https://www.mycareersfuture.sg' + text.get('href'))\n",
    "    \n",
    "    print('==== List of job postings url ====')\n",
    "    print(link_list)\n",
    "    print('='*20)\n",
    "    driver.close\n",
    "    \n",
    "    # iterate through the link_list to load each job posting\n",
    "    for link in link_list:\n",
    "        driver_job = webdriver.Chrome(executable_path=\"./chromedriver/chromedriver.exe\")\n",
    "        driver_job.get(link)\n",
    "        sleep(1)\n",
    "        posting = driver_job.page_source\n",
    "        print('=== job posting ===')\n",
    "        print(link)\n",
    "        \n",
    "        job_soup = BeautifulSoup(posting, 'lxml')\n",
    "                \n",
    "        company = job_soup.find('p', {'id':'company'}).get_text()\n",
    "        job_title = job_soup.find('h1', {'id':'job_title'}).get_text()\n",
    "        if job_soup.find('p', {'id':'address'}) != None:\n",
    "            location = job_soup.find('p', {'id':'address'}).get_text()\n",
    "        else:\n",
    "            location = ''\n",
    "\n",
    "        # getting the salary information\n",
    "        salary_range = job_soup.find_all('div', {'class':'lh-solid'})\n",
    "        for element in salary_range:\n",
    "            salary = element.get_text()\n",
    "        salary_type = job_soup.find('span', {'class':'salary_type dib f5 fw4 black-60 pr1 i pb'}).get_text()\n",
    "\n",
    "        # getting the job description\n",
    "        job_desc_section = job_soup.find('div', {'id':'job_description'})\n",
    "        job_desc = job_desc_section.find('div', {'id':'content'}).get_text()\n",
    "\n",
    "        # getting the job requirements\n",
    "        reqmt_section = job_soup.find('div', {'id':'requirements'})\n",
    "        if reqmt_section != None:\n",
    "            job_reqmt = reqmt_section.find('div', {'id':'content'}).get_text()\n",
    "        else:\n",
    "            job_reqmt = ''\n",
    "\n",
    "        job_posting = [{\n",
    "            'company' : company,\n",
    "            'job_title' : job_title,\n",
    "            'location' : location,\n",
    "            'salary' : salary,\n",
    "            'salary_type' : salary_type,\n",
    "            'job_description' : job_desc,\n",
    "            'job_requirement' : job_reqmt,\n",
    "            'url' : link\n",
    "        }]\n",
    "        \n",
    "        driver_job.close\n",
    "\n",
    "        # append the job posting to dataframe\n",
    "        temp_df = pd.DataFrame(job_posting)\n",
    "        data_df = pd.concat([data_df, temp_df], axis=0)\n",
    "        \n",
    "print('***** Done *****')"
   ]
  },
  {
   "cell_type": "code",
   "execution_count": 5,
   "metadata": {},
   "outputs": [
    {
     "data": {
      "text/plain": [
       "(33, 8)"
      ]
     },
     "execution_count": 5,
     "metadata": {},
     "output_type": "execute_result"
    }
   ],
   "source": [
    "data_df.shape"
   ]
  },
  {
   "cell_type": "code",
   "execution_count": 6,
   "metadata": {},
   "outputs": [],
   "source": [
    "data_df.to_csv('data_wh_ft.csv', encoding='utf-8')"
   ]
  },
  {
   "cell_type": "markdown",
   "metadata": {},
   "source": [
    "Combine CSVs"
   ]
  },
  {
   "cell_type": "code",
   "execution_count": 3,
   "metadata": {},
   "outputs": [],
   "source": [
    "df = pd.read_csv('mycareersfuture.csv')\n",
    "df_k = pd.read_csv('mycareersfuture_master_Kelvin.csv')"
   ]
  },
  {
   "cell_type": "code",
   "execution_count": 4,
   "metadata": {},
   "outputs": [
    {
     "name": "stdout",
     "output_type": "stream",
     "text": [
      "<class 'pandas.core.frame.DataFrame'>\n",
      "RangeIndex: 771 entries, 0 to 770\n",
      "Data columns (total 12 columns):\n",
      "Unnamed: 0        771 non-null int64\n",
      "Company           771 non-null object\n",
      "JobTitle          771 non-null object\n",
      "SalaryLower       771 non-null object\n",
      "SalaryUpper       771 non-null object\n",
      "OfficeLocation    771 non-null object\n",
      "EmploymentType    771 non-null object\n",
      "Seniority         771 non-null object\n",
      "JobCategories     771 non-null object\n",
      "RoleDesc          771 non-null object\n",
      "Requirements      771 non-null object\n",
      "mcfURL            765 non-null object\n",
      "dtypes: int64(1), object(11)\n",
      "memory usage: 72.4+ KB\n"
     ]
    }
   ],
   "source": [
    "df_k.info()"
   ]
  },
  {
   "cell_type": "code",
   "execution_count": 5,
   "metadata": {},
   "outputs": [],
   "source": [
    "df_k = df_k[~df_k['mcfURL'].isnull()]"
   ]
  },
  {
   "cell_type": "code",
   "execution_count": 7,
   "metadata": {},
   "outputs": [
    {
     "data": {
      "text/html": [
       "<div>\n",
       "<style scoped>\n",
       "    .dataframe tbody tr th:only-of-type {\n",
       "        vertical-align: middle;\n",
       "    }\n",
       "\n",
       "    .dataframe tbody tr th {\n",
       "        vertical-align: top;\n",
       "    }\n",
       "\n",
       "    .dataframe thead th {\n",
       "        text-align: right;\n",
       "    }\n",
       "</style>\n",
       "<table border=\"1\" class=\"dataframe\">\n",
       "  <thead>\n",
       "    <tr style=\"text-align: right;\">\n",
       "      <th></th>\n",
       "      <th>Unnamed: 0</th>\n",
       "      <th>Company</th>\n",
       "      <th>JobTitle</th>\n",
       "      <th>SalaryLower</th>\n",
       "      <th>SalaryUpper</th>\n",
       "      <th>OfficeLocation</th>\n",
       "      <th>EmploymentType</th>\n",
       "      <th>Seniority</th>\n",
       "      <th>JobCategories</th>\n",
       "      <th>RoleDesc</th>\n",
       "      <th>Requirements</th>\n",
       "      <th>mcfURL</th>\n",
       "    </tr>\n",
       "  </thead>\n",
       "  <tbody>\n",
       "    <tr>\n",
       "      <th>0</th>\n",
       "      <td>0</td>\n",
       "      <td>SPAN CONSULTANCY SERVICES PTE. LTD.</td>\n",
       "      <td>Business Analyst</td>\n",
       "      <td>$5,800</td>\n",
       "      <td>$7,800Monthly</td>\n",
       "      <td>MOUNTBATTEN CENTRE, 231 MOUNTBATTEN ROAD 397999</td>\n",
       "      <td>Permanent</td>\n",
       "      <td>Senior Executive</td>\n",
       "      <td>Information Technology</td>\n",
       "      <td>§  Should have extensive experience in Retail ...</td>\n",
       "      <td>§  Min 5-8 years of experience §  Should posse...</td>\n",
       "      <td>https://www.mycareersfuture.sg/job/5ef259bb8f5...</td>\n",
       "    </tr>\n",
       "    <tr>\n",
       "      <th>1</th>\n",
       "      <td>1</td>\n",
       "      <td>FUTUREX TECHNOLOGIES PTE. LTD.</td>\n",
       "      <td>Business Analyst</td>\n",
       "      <td>$5,000</td>\n",
       "      <td>$7,000Monthly</td>\n",
       "      <td>TRADEHUB 21, 18 BOON LAY WAY 609966</td>\n",
       "      <td>Contract</td>\n",
       "      <td>Professional</td>\n",
       "      <td>Information Technology</td>\n",
       "      <td>Should have extensive experience in Retail Le...</td>\n",
       "      <td>Requirement Document Functional Specification...</td>\n",
       "      <td>https://www.mycareersfuture.sg/job/2d8dd9bde21...</td>\n",
       "    </tr>\n",
       "    <tr>\n",
       "      <th>2</th>\n",
       "      <td>2</td>\n",
       "      <td>CHUBB ASIA PACIFIC PTE. LTD.</td>\n",
       "      <td>Senior Business Analyst</td>\n",
       "      <td>$108,000</td>\n",
       "      <td>$120,000Annually</td>\n",
       "      <td>CAPITAGREEN, 138 MARKET STREET 048946</td>\n",
       "      <td>Permanent, Contract</td>\n",
       "      <td>Executive</td>\n",
       "      <td>Professional Services</td>\n",
       "      <td>Position Objective As Business Analyst, you wi...</td>\n",
       "      <td>Required Skills and Abilities Comprehensive wr...</td>\n",
       "      <td>https://www.mycareersfuture.sg/job/9251f72bf1e...</td>\n",
       "    </tr>\n",
       "    <tr>\n",
       "      <th>3</th>\n",
       "      <td>3</td>\n",
       "      <td>AXA INSURANCE PTE. LTD.</td>\n",
       "      <td>Senior Business Analyst (12 months Contract)</td>\n",
       "      <td>$4,000</td>\n",
       "      <td>$8,000Monthly</td>\n",
       "      <td>AXA TOWER, 8 SHENTON WAY 068811</td>\n",
       "      <td>Temporary, Contract, Full Time</td>\n",
       "      <td>Senior Executive</td>\n",
       "      <td>Banking and Finance, Insurance</td>\n",
       "      <td>The AXA Group is a worldwide leader in insuran...</td>\n",
       "      <td>Successful qualifier of this mission:  Univers...</td>\n",
       "      <td>https://www.mycareersfuture.sg/job/f5d8acc78b2...</td>\n",
       "    </tr>\n",
       "    <tr>\n",
       "      <th>4</th>\n",
       "      <td>4</td>\n",
       "      <td>APPLE SOUTH ASIA PTE. LTD.</td>\n",
       "      <td>Senior Business Analyst, Asia Pacific Supply C...</td>\n",
       "      <td>$5,000</td>\n",
       "      <td>$10,000Monthly</td>\n",
       "      <td>7 ANG MO KIO STREET 64 569086</td>\n",
       "      <td>Full Time</td>\n",
       "      <td>Executive</td>\n",
       "      <td>Logistics / Supply Chain</td>\n",
       "      <td>The World Wide Supply Chain team is seeking to...</td>\n",
       "      <td>Technical person with the ability to quickly u...</td>\n",
       "      <td>https://www.mycareersfuture.sg/job/e9ca213819d...</td>\n",
       "    </tr>\n",
       "  </tbody>\n",
       "</table>\n",
       "</div>"
      ],
      "text/plain": [
       "   Unnamed: 0                              Company  \\\n",
       "0           0  SPAN CONSULTANCY SERVICES PTE. LTD.   \n",
       "1           1       FUTUREX TECHNOLOGIES PTE. LTD.   \n",
       "2           2         CHUBB ASIA PACIFIC PTE. LTD.   \n",
       "3           3              AXA INSURANCE PTE. LTD.   \n",
       "4           4           APPLE SOUTH ASIA PTE. LTD.   \n",
       "\n",
       "                                            JobTitle SalaryLower  \\\n",
       "0                                   Business Analyst      $5,800   \n",
       "1                                   Business Analyst      $5,000   \n",
       "2                            Senior Business Analyst    $108,000   \n",
       "3       Senior Business Analyst (12 months Contract)      $4,000   \n",
       "4  Senior Business Analyst, Asia Pacific Supply C...      $5,000   \n",
       "\n",
       "        SalaryUpper                                   OfficeLocation  \\\n",
       "0     $7,800Monthly  MOUNTBATTEN CENTRE, 231 MOUNTBATTEN ROAD 397999   \n",
       "1     $7,000Monthly              TRADEHUB 21, 18 BOON LAY WAY 609966   \n",
       "2  $120,000Annually            CAPITAGREEN, 138 MARKET STREET 048946   \n",
       "3     $8,000Monthly                  AXA TOWER, 8 SHENTON WAY 068811   \n",
       "4    $10,000Monthly                    7 ANG MO KIO STREET 64 569086   \n",
       "\n",
       "                   EmploymentType         Seniority  \\\n",
       "0                       Permanent  Senior Executive   \n",
       "1                        Contract      Professional   \n",
       "2             Permanent, Contract         Executive   \n",
       "3  Temporary, Contract, Full Time  Senior Executive   \n",
       "4                       Full Time         Executive   \n",
       "\n",
       "                    JobCategories  \\\n",
       "0          Information Technology   \n",
       "1          Information Technology   \n",
       "2           Professional Services   \n",
       "3  Banking and Finance, Insurance   \n",
       "4        Logistics / Supply Chain   \n",
       "\n",
       "                                            RoleDesc  \\\n",
       "0  §  Should have extensive experience in Retail ...   \n",
       "1   Should have extensive experience in Retail Le...   \n",
       "2  Position Objective As Business Analyst, you wi...   \n",
       "3  The AXA Group is a worldwide leader in insuran...   \n",
       "4  The World Wide Supply Chain team is seeking to...   \n",
       "\n",
       "                                        Requirements  \\\n",
       "0  §  Min 5-8 years of experience §  Should posse...   \n",
       "1   Requirement Document Functional Specification...   \n",
       "2  Required Skills and Abilities Comprehensive wr...   \n",
       "3  Successful qualifier of this mission:  Univers...   \n",
       "4  Technical person with the ability to quickly u...   \n",
       "\n",
       "                                              mcfURL  \n",
       "0  https://www.mycareersfuture.sg/job/5ef259bb8f5...  \n",
       "1  https://www.mycareersfuture.sg/job/2d8dd9bde21...  \n",
       "2  https://www.mycareersfuture.sg/job/9251f72bf1e...  \n",
       "3  https://www.mycareersfuture.sg/job/f5d8acc78b2...  \n",
       "4  https://www.mycareersfuture.sg/job/e9ca213819d...  "
      ]
     },
     "execution_count": 7,
     "metadata": {},
     "output_type": "execute_result"
    }
   ],
   "source": [
    "df_k.head()"
   ]
  },
  {
   "cell_type": "code",
   "execution_count": 13,
   "metadata": {},
   "outputs": [
    {
     "data": {
      "text/plain": [
       "(605, 9)"
      ]
     },
     "execution_count": 13,
     "metadata": {},
     "output_type": "execute_result"
    }
   ],
   "source": [
    "for file in file_list:\n",
    "    df_temp = pd.read_csv(file)\n",
    "    df = pd.concat([df, df_temp], axis=0)\n",
    "\n",
    "df.shape"
   ]
  },
  {
   "cell_type": "code",
   "execution_count": 14,
   "metadata": {},
   "outputs": [],
   "source": [
    "df = df.drop_duplicates(subset='url')"
   ]
  },
  {
   "cell_type": "code",
   "execution_count": 15,
   "metadata": {},
   "outputs": [
    {
     "data": {
      "text/plain": [
       "(431, 9)"
      ]
     },
     "execution_count": 15,
     "metadata": {},
     "output_type": "execute_result"
    }
   ],
   "source": [
    "df.shape"
   ]
  },
  {
   "cell_type": "code",
   "execution_count": 16,
   "metadata": {},
   "outputs": [],
   "source": [
    "df.to_csv('mycareersfuture1.csv')"
   ]
  },
  {
   "cell_type": "code",
   "execution_count": null,
   "metadata": {},
   "outputs": [],
   "source": []
  }
 ],
 "metadata": {
  "kernelspec": {
   "display_name": "Python [conda root]",
   "language": "python",
   "name": "conda-root-py"
  },
  "language_info": {
   "codemirror_mode": {
    "name": "ipython",
    "version": 2
   },
   "file_extension": ".py",
   "mimetype": "text/x-python",
   "name": "python",
   "nbconvert_exporter": "python",
   "pygments_lexer": "ipython2",
   "version": "2.7.14"
  }
 },
 "nbformat": 4,
 "nbformat_minor": 2
}

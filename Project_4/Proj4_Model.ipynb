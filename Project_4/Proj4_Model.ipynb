{
 "cells": [
  {
   "cell_type": "code",
   "execution_count": 46,
   "metadata": {},
   "outputs": [],
   "source": [
    "import pandas as pd\n",
    "import numpy as np\n",
    "import matplotlib.pyplot as plt\n",
    "import re\n",
    "import itertools\n",
    "import seaborn as sns\n",
    "\n",
    "from sklearn.feature_extraction.text import CountVectorizer, TfidfVectorizer\n",
    "from sklearn.feature_extraction import text\n",
    "from sklearn.linear_model import LinearRegression, LogisticRegression\n",
    "from sklearn.model_selection import train_test_split, cross_val_score, GridSearchCV\n",
    "from sklearn.pipeline import Pipeline\n",
    "from sklearn.decomposition import PCA\n",
    "from sklearn.ensemble import RandomForestClassifier\n",
    "from sklearn.metrics import classification_report, confusion_matrix\n",
    "\n",
    "from nltk.corpus import stopwords\n",
    "\n",
    "%matplotlib inline\n",
    "\n",
    "pd.set_option('display.max_columns', 100)"
   ]
  },
  {
   "cell_type": "markdown",
   "metadata": {},
   "source": [
    "# Dataset and parsing/cleaning of data"
   ]
  },
  {
   "cell_type": "code",
   "execution_count": 2,
   "metadata": {},
   "outputs": [],
   "source": [
    "data = pd.read_csv('mycareersfuture_master.csv')"
   ]
  },
  {
   "cell_type": "code",
   "execution_count": 3,
   "metadata": {},
   "outputs": [],
   "source": [
    "# Parse the salary columns\n",
    "\n",
    "# Remove dollar sign and comma\n",
    "for col in ['SalaryLower', 'SalaryUpper']:\n",
    "    data[col] = [re.sub('[$,]', '', text) for text in data[col]]\n",
    "    \n",
    "# Extracting the text and placing into a new column 'SalaryType\n",
    "data['SalaryType'] = data['SalaryUpper'].apply(lambda x: re.search('\\D+', x).group())\n",
    "\n",
    "# Extracting only the numerical value for the SalaryUpper column\n",
    "data['SalaryUpper'] = data['SalaryUpper'].apply(lambda x: re.match('\\d*', x).group())\n",
    "\n",
    "# Replacing the text 'Salary undisclosed' with NaN\n",
    "data[['SalaryLower', 'SalaryType']] = data[['SalaryLower', 'SalaryType']].replace('Salary undisclosed', np.nan)\n",
    "\n",
    "# Replacing '' in SalaryUpper with NaN\n",
    "data['SalaryUpper'] = data['SalaryUpper'].replace('', np.nan)\n",
    "\n",
    "# Set the salary columns to numeric\n",
    "data[['SalaryLower', 'SalaryUpper']] = data[['SalaryLower', 'SalaryUpper']].astype('float32')\n",
    "\n",
    "# Convert the annual salary data into monthly salary data\n",
    "data.loc[data['SalaryType']=='Annually', ['SalaryLower', 'SalaryUpper']] = \\\n",
    "data[data['SalaryType']=='Annually'][['SalaryLower', 'SalaryUpper']].apply(lambda x: x/12)\n",
    "\n",
    "# Update the SalaryType to monthly\n",
    "data.loc[data['SalaryType']=='Annually', 'SalaryType'] = 'Monthly'\n",
    "\n",
    "# Create SalaryMean which is the mean of SalaryLower and SalaryUpper\n",
    "data['SalaryMean'] = (data['SalaryLower'] + data['SalaryUpper']) / 2."
   ]
  },
  {
   "cell_type": "code",
   "execution_count": 4,
   "metadata": {},
   "outputs": [
    {
     "data": {
      "text/plain": [
       "Full Time                                                            252\n",
       "Contract, Full Time                                                  151\n",
       "Permanent, Full Time                                                 125\n",
       "Permanent                                                            125\n",
       "Contract                                                              78\n",
       "Permanent, Contract                                                   12\n",
       "Permanent, Contract, Full Time                                         8\n",
       "Temporary                                                              4\n",
       "Freelance                                                              4\n",
       "Internship                                                             3\n",
       "Part Time, Contract, Flexi work                                        2\n",
       "Freelance, Flexi work                                                  2\n",
       "Part Time, Contract                                                    1\n",
       "Part Time, Permanent, Temporary, Contract, Flexi work, Internship      1\n",
       "Full Time, Internship                                                  1\n",
       "Permanent, Temporary, Full Time, Internship                            1\n",
       "Temporary, Contract, Full Time                                         1\n",
       "Name: EmploymentType, dtype: int64"
      ]
     },
     "execution_count": 4,
     "metadata": {},
     "output_type": "execute_result"
    }
   ],
   "source": [
    "data['EmploymentType'].value_counts()\n",
    "\n",
    "# Exclude all those job listings that are temporary, freelance, internship"
   ]
  },
  {
   "cell_type": "code",
   "execution_count": 5,
   "metadata": {},
   "outputs": [],
   "source": [
    "# Create a list of those Employment Types to drop\n",
    "emp_type_list = data['EmploymentType'].value_counts().index[7::]\n",
    "\n",
    "# Iterate through each Employment Type and exclude them\n",
    "for emp_type in emp_type_list:\n",
    "    data = data[data['EmploymentType'] != emp_type].copy()"
   ]
  },
  {
   "cell_type": "code",
   "execution_count": 6,
   "metadata": {},
   "outputs": [],
   "source": [
    "# Combine RoleDesc and Requirements\n",
    "data['JD'] = data['RoleDesc'] + ' ' + data['Requirements']"
   ]
  },
  {
   "cell_type": "code",
   "execution_count": 7,
   "metadata": {},
   "outputs": [],
   "source": [
    "# Parse dummy variables for columns, JobCategories, EmploymentType, Seniority\n",
    "col_list = ['JobCategories', 'EmploymentType', 'Seniority']\n",
    "\n",
    "for col in col_list:\n",
    "    value_list = data[col].unique()\n",
    "    value_list = [value.split(',') for value in value_list]\n",
    "    value_list = list(itertools.chain(*value_list))\n",
    "    value_list = [str.strip(value) for value in value_list]\n",
    "    value_list = np.unique(value_list)\n",
    "    \n",
    "    # Create dummy variables for the column\n",
    "    for value in value_list:\n",
    "        data.loc[data[col].str.contains(value), value] = 1\n",
    "        \n",
    "    # Replace NaN with zero\n",
    "    data[value_list] = data[value_list].fillna(value=0)\n",
    "    "
   ]
  },
  {
   "cell_type": "markdown",
   "metadata": {},
   "source": [
    "## Question 1"
   ]
  },
  {
   "cell_type": "code",
   "execution_count": 8,
   "metadata": {},
   "outputs": [
    {
     "data": {
      "text/plain": [
       "<matplotlib.axes._subplots.AxesSubplot at 0x11b39cc0>"
      ]
     },
     "execution_count": 8,
     "metadata": {},
     "output_type": "execute_result"
    },
    {
     "data": {
      "image/png": "[encoded data removed]",
      "text/plain": [
       "<Figure size 1296x432 with 2 Axes>"
      ]
     },
     "metadata": {},
     "output_type": "display_data"
    }
   ],
   "source": [
    "# Look at the distribution of SalaryMean\n",
    "fig = plt.figure(figsize=(18,6))\n",
    "ax1 = fig.add_subplot(121)\n",
    "data['SalaryMean'].hist(ax=ax1, bins=15)\n",
    "ax2 = fig.add_subplot(122)\n",
    "data.boxplot(column='SalaryMean', ax=ax2)"
   ]
  },
  {
   "cell_type": "code",
   "execution_count": 9,
   "metadata": {},
   "outputs": [],
   "source": [
    "data1 = data[~data['SalaryMean'].isnull()].copy()"
   ]
  },
  {
   "cell_type": "code",
   "execution_count": 10,
   "metadata": {},
   "outputs": [],
   "source": [
    "# As the distribution of salary is right skewed with a long right tail,\n",
    "# classify the salary into 2 groups - Above Median (1) and Median and Below (0) \n",
    "\n",
    "data1['SalaryLabel'] = data1['SalaryMean'].apply(lambda x: 1 if x > data1['SalaryMean'].median() else 0)"
   ]
  },
  {
   "cell_type": "code",
   "execution_count": 11,
   "metadata": {},
   "outputs": [],
   "source": [
    "# check correlation of dummy variables with target\n",
    "\n",
    "sector_var = pd.concat([data1.iloc[:,15:47].copy(), data1['SalaryLabel']], axis=1)\n",
    "emptype_var = pd.concat([data1.iloc[:,47:50].copy(), data1['SalaryLabel']], axis=1)\n",
    "senior_var = pd.concat([data1.iloc[:,50::].copy(), data1['SalaryLabel']], axis=1)"
   ]
  },
  {
   "cell_type": "code",
   "execution_count": 12,
   "metadata": {},
   "outputs": [
    {
     "data": {
      "text/plain": [
       "<matplotlib.axes._subplots.AxesSubplot at 0x10e4e710>"
      ]
     },
     "execution_count": 12,
     "metadata": {},
     "output_type": "execute_result"
    },
    {
     "data": {
      "image/png": "[encoded data removed]",
      "text/plain": [
       "<Figure size 720x432 with 2 Axes>"
      ]
     },
     "metadata": {},
     "output_type": "display_data"
    }
   ],
   "source": [
    "fig = plt.figure(figsize=(10,6))\n",
    "sns.heatmap(senior_var.corr(), annot=True)\n",
    "\n",
    "# the seniority features have little correlation with the target variable SalaryLabel"
   ]
  },
  {
   "cell_type": "code",
   "execution_count": 13,
   "metadata": {},
   "outputs": [
    {
     "data": {
      "text/plain": [
       "<matplotlib.axes._subplots.AxesSubplot at 0x122e4518>"
      ]
     },
     "execution_count": 13,
     "metadata": {},
     "output_type": "execute_result"
    },
    {
     "data": {
      "image/png": "[encoded data removed]",
      "text/plain": [
       "<Figure size 720x432 with 2 Axes>"
      ]
     },
     "metadata": {},
     "output_type": "display_data"
    }
   ],
   "source": [
    "fig = plt.figure(figsize=(10,6))\n",
    "sns.heatmap(emptype_var.corr(), annot=True)\n",
    "\n",
    "# the EmploymentType features have little correlation with the target variable SalaryLabel"
   ]
  },
  {
   "cell_type": "code",
   "execution_count": 14,
   "metadata": {
    "collapsed": true
   },
   "outputs": [
    {
     "name": "stdout",
     "output_type": "stream",
     "text": [
      "Admin / Secretarial                 -0.050562\n",
      "Advertising / Media                  0.020884\n",
      "Banking and Finance                  0.071733\n",
      "Building and Construction            0.005570\n",
      "Consulting                          -0.022419\n",
      "Customer Service                    -0.094944\n",
      "Design                               0.005570\n",
      "Education and Training              -0.073465\n",
      "Engineering                         -0.037303\n",
      "Environment / Health                -0.050562\n",
      "Events / Promotions                       NaN\n",
      "F&B                                 -0.125044\n",
      "General Management                  -0.024724\n",
      "Healthcare / Pharmaceutical          0.044160\n",
      "Human Resources                      0.027084\n",
      "Information Technology              -0.017691\n",
      "Insurance                           -0.049197\n",
      "Logistics / Supply Chain             0.007900\n",
      "Manufacturing                       -0.011039\n",
      "Marketing / Public Relations         0.031280\n",
      "Others                               0.056161\n",
      "Personal Care / Beauty                    NaN\n",
      "Professional Services                0.005570\n",
      "Public / Civil Service              -0.101575\n",
      "Real Estate / Property Management   -0.061971\n",
      "Repair and Maintenance              -0.035726\n",
      "Risk Management                     -0.050562\n",
      "Sales / Retail                       0.038388\n",
      "Sciences / Laboratory / R&D         -0.105837\n",
      "Telecommunications                   0.038388\n",
      "Travel / Tourism                    -0.035726\n",
      "Contract                            -0.076826\n",
      "SalaryLabel                          1.000000\n",
      "Name: SalaryLabel, dtype: float64\n"
     ]
    }
   ],
   "source": [
    "sector_corr = sector_var.corr()\n",
    "print sector_corr.iloc[:, -1]\n",
    "\n",
    "# the sector features have little correlation with the target variable SalaryLabel"
   ]
  },
  {
   "cell_type": "markdown",
   "metadata": {},
   "source": [
    "Hence for the prediction of classification labels of salary, use only the job description  \n",
    "and job requirements and discard the other features"
   ]
  },
  {
   "cell_type": "markdown",
   "metadata": {},
   "source": [
    "### Set up predictor and target varibles plus split data for train and test"
   ]
  },
  {
   "cell_type": "code",
   "execution_count": 15,
   "metadata": {},
   "outputs": [],
   "source": [
    "# copy JD column to as x variable, SalaryLabel as y\n",
    "\n",
    "x = data1['JD'].copy()\n",
    "y = data1['SalaryLabel'].copy()"
   ]
  },
  {
   "cell_type": "code",
   "execution_count": 16,
   "metadata": {},
   "outputs": [
    {
     "name": "stdout",
     "output_type": "stream",
     "text": [
      "0.536082474227\n"
     ]
    }
   ],
   "source": [
    "# baseline accuracy\n",
    "print(1. - y.mean())"
   ]
  },
  {
   "cell_type": "code",
   "execution_count": 17,
   "metadata": {},
   "outputs": [],
   "source": [
    "# Train test split the data\n",
    "x_train, x_test, y_train, y_test = train_test_split(x, y, test_size=0.3, random_state=29)\n"
   ]
  },
  {
   "cell_type": "markdown",
   "metadata": {},
   "source": [
    "## Try first model of LogisticRegression to predict if the salary of a job posting will be above median or below median  \n",
    "Start with Logistic Regression as it is a simple classification model"
   ]
  },
  {
   "cell_type": "code",
   "execution_count": 18,
   "metadata": {},
   "outputs": [
    {
     "data": {
      "text/plain": [
       "LogisticRegression(C=1.0, class_weight=None, dual=False, fit_intercept=True,\n",
       "          intercept_scaling=1, max_iter=100, multi_class='ovr', n_jobs=1,\n",
       "          penalty='l2', random_state=29, solver='liblinear', tol=0.0001,\n",
       "          verbose=0, warm_start=False)"
      ]
     },
     "execution_count": 18,
     "metadata": {},
     "output_type": "execute_result"
    }
   ],
   "source": [
    "# First model of Logistic Regression\n",
    "\n",
    "# Tokenise the x_train which is job description and job requirements\n",
    "cvt = CountVectorizer(ngram_range=(1,4))\n",
    "tokens_train = pd.DataFrame(cvt.fit_transform(x_train).todense(), columns=cvt.get_feature_names())\n",
    "\n",
    "# Tokenise the x_test using the same trained CountVectorizer\n",
    "tokens_test = pd.DataFrame(cvt.transform(x_test).todense(), columns=cvt.get_feature_names())\n",
    "\n",
    "lr = LogisticRegression(random_state=29)\n",
    "lr.fit(tokens_train, y_train)"
   ]
  },
  {
   "cell_type": "code",
   "execution_count": 35,
   "metadata": {},
   "outputs": [
    {
     "data": {
      "text/plain": [
       "(475, 262501)"
      ]
     },
     "execution_count": 35,
     "metadata": {},
     "output_type": "execute_result"
    }
   ],
   "source": [
    "tokens_train.shape"
   ]
  },
  {
   "cell_type": "code",
   "execution_count": 19,
   "metadata": {},
   "outputs": [
    {
     "name": "stderr",
     "output_type": "stream",
     "text": [
      "[Parallel(n_jobs=-1)]: Done   2 out of   5 | elapsed:   17.9s remaining:   26.9s\n",
      "[Parallel(n_jobs=-1)]: Done   5 out of   5 | elapsed:   29.7s finished\n",
      "C:\\Users\\Yang\\AppData\\Local\\Continuum\\anaconda2\\lib\\site-packages\\sklearn\\externals\\joblib\\pool.py:438: UserWarning: Failed to clean temporary folder: c:\\users\\yang\\appdata\\local\\temp\\joblib_memmaping_pool_16628_366300464\n",
      "  warnings.warn(\"Failed to clean temporary folder: %s\" % folder_path)\n"
     ]
    },
    {
     "name": "stdout",
     "output_type": "stream",
     "text": [
      "Cross validation score: [0.64583333 0.66666667 0.66315789 0.67021277 0.65957447]\n",
      "Mean score: 0.661089025756\n",
      "Score on test data: 0.661764705882\n"
     ]
    }
   ],
   "source": [
    "# Cross-validate the Logistic Regression model\n",
    "scores = cross_val_score(lr, tokens_train, y_train, cv=5, n_jobs=-1, verbose=1)\n",
    "print('Cross validation score: {}'.format(scores))\n",
    "print('Mean score: {}'.format(np.mean(scores)))\n",
    "\n",
    "# Score on test data\n",
    "print('Score on test data: {}'.format(lr.score(tokens_test, y_test)))"
   ]
  },
  {
   "cell_type": "code",
   "execution_count": 38,
   "metadata": {},
   "outputs": [],
   "source": [
    "# Extract the coefficients of the Logistic Regression against the tokens\n",
    "lr_coef = pd.DataFrame({'tokens':tokens_train.columns, 'lr_coef':lr.coef_[0]})"
   ]
  },
  {
   "cell_type": "code",
   "execution_count": 40,
   "metadata": {},
   "outputs": [
    {
     "data": {
      "text/html": [
       "<div>\n",
       "<style scoped>\n",
       "    .dataframe tbody tr th:only-of-type {\n",
       "        vertical-align: middle;\n",
       "    }\n",
       "\n",
       "    .dataframe tbody tr th {\n",
       "        vertical-align: top;\n",
       "    }\n",
       "\n",
       "    .dataframe thead th {\n",
       "        text-align: right;\n",
       "    }\n",
       "</style>\n",
       "<table border=\"1\" class=\"dataframe\">\n",
       "  <thead>\n",
       "    <tr style=\"text-align: right;\">\n",
       "      <th></th>\n",
       "      <th>lr_coef</th>\n",
       "      <th>tokens</th>\n",
       "    </tr>\n",
       "  </thead>\n",
       "  <tbody>\n",
       "    <tr>\n",
       "      <th>209906</th>\n",
       "      <td>0.249690</td>\n",
       "      <td>sr</td>\n",
       "    </tr>\n",
       "    <tr>\n",
       "      <th>209910</th>\n",
       "      <td>0.243978</td>\n",
       "      <td>sr associate</td>\n",
       "    </tr>\n",
       "    <tr>\n",
       "      <th>138507</th>\n",
       "      <td>0.191510</td>\n",
       "      <td>managers</td>\n",
       "    </tr>\n",
       "    <tr>\n",
       "      <th>3175</th>\n",
       "      <td>0.163753</td>\n",
       "      <td>across</td>\n",
       "    </tr>\n",
       "    <tr>\n",
       "      <th>64862</th>\n",
       "      <td>0.163398</td>\n",
       "      <td>data science</td>\n",
       "    </tr>\n",
       "    <tr>\n",
       "      <th>89059</th>\n",
       "      <td>0.152193</td>\n",
       "      <td>experience with</td>\n",
       "    </tr>\n",
       "    <tr>\n",
       "      <th>246654</th>\n",
       "      <td>0.149808</td>\n",
       "      <td>users minimum diploma in</td>\n",
       "    </tr>\n",
       "    <tr>\n",
       "      <th>44053</th>\n",
       "      <td>0.149808</td>\n",
       "      <td>business users minimum</td>\n",
       "    </tr>\n",
       "    <tr>\n",
       "      <th>44054</th>\n",
       "      <td>0.149808</td>\n",
       "      <td>business users minimum diploma</td>\n",
       "    </tr>\n",
       "    <tr>\n",
       "      <th>234478</th>\n",
       "      <td>0.149808</td>\n",
       "      <td>to business users minimum</td>\n",
       "    </tr>\n",
       "    <tr>\n",
       "      <th>246652</th>\n",
       "      <td>0.149808</td>\n",
       "      <td>users minimum</td>\n",
       "    </tr>\n",
       "    <tr>\n",
       "      <th>246653</th>\n",
       "      <td>0.149808</td>\n",
       "      <td>users minimum diploma</td>\n",
       "    </tr>\n",
       "    <tr>\n",
       "      <th>218465</th>\n",
       "      <td>0.148857</td>\n",
       "      <td>team</td>\n",
       "    </tr>\n",
       "    <tr>\n",
       "      <th>180892</th>\n",
       "      <td>0.145814</td>\n",
       "      <td>projects</td>\n",
       "    </tr>\n",
       "    <tr>\n",
       "      <th>125139</th>\n",
       "      <td>0.145150</td>\n",
       "      <td>it</td>\n",
       "    </tr>\n",
       "    <tr>\n",
       "      <th>206565</th>\n",
       "      <td>0.136317</td>\n",
       "      <td>solutions</td>\n",
       "    </tr>\n",
       "    <tr>\n",
       "      <th>194206</th>\n",
       "      <td>0.134411</td>\n",
       "      <td>risk</td>\n",
       "    </tr>\n",
       "    <tr>\n",
       "      <th>209916</th>\n",
       "      <td>0.125896</td>\n",
       "      <td>sr associate will also</td>\n",
       "    </tr>\n",
       "    <tr>\n",
       "      <th>57271</th>\n",
       "      <td>0.125896</td>\n",
       "      <td>consulting sr associate intelligent</td>\n",
       "    </tr>\n",
       "    <tr>\n",
       "      <th>155117</th>\n",
       "      <td>0.125896</td>\n",
       "      <td>of technology consulting sr</td>\n",
       "    </tr>\n",
       "  </tbody>\n",
       "</table>\n",
       "</div>"
      ],
      "text/plain": [
       "         lr_coef                               tokens\n",
       "209906  0.249690                                   sr\n",
       "209910  0.243978                         sr associate\n",
       "138507  0.191510                             managers\n",
       "3175    0.163753                               across\n",
       "64862   0.163398                         data science\n",
       "89059   0.152193                      experience with\n",
       "246654  0.149808             users minimum diploma in\n",
       "44053   0.149808               business users minimum\n",
       "44054   0.149808       business users minimum diploma\n",
       "234478  0.149808            to business users minimum\n",
       "246652  0.149808                        users minimum\n",
       "246653  0.149808                users minimum diploma\n",
       "218465  0.148857                                 team\n",
       "180892  0.145814                             projects\n",
       "125139  0.145150                                   it\n",
       "206565  0.136317                            solutions\n",
       "194206  0.134411                                 risk\n",
       "209916  0.125896               sr associate will also\n",
       "57271   0.125896  consulting sr associate intelligent\n",
       "155117  0.125896          of technology consulting sr"
      ]
     },
     "execution_count": 40,
     "metadata": {},
     "output_type": "execute_result"
    }
   ],
   "source": [
    "# Sort the tokens by descending order of the regression coefficients\n",
    "lr_coef = lr_coef.sort_values(by='lr_coef', axis=0, ascending=False)\n",
    "\n",
    "# Identify the top 20 features which are most important to predict the classification of salary above median\n",
    "lr_coef.head(20)"
   ]
  },
  {
   "cell_type": "code",
   "execution_count": 43,
   "metadata": {},
   "outputs": [
    {
     "name": "stdout",
     "output_type": "stream",
     "text": [
      "              precision    recall  f1-score   support\n",
      "\n",
      "Below Median       0.66      0.75      0.70       107\n",
      "Above Median       0.67      0.57      0.61        97\n",
      "\n",
      " avg / total       0.66      0.66      0.66       204\n",
      "\n"
     ]
    }
   ],
   "source": [
    "print(classification_report(y_test, lr.predict(tokens_test), labels=[0,1], target_names=['Below Median', 'Above Median']))\n",
    "\n",
    "# The model performs better at predicting below median salaries than above median.  This is probably due to the wide variance\n",
    "# in salaries above median.  From the box plot above we saw that there are many salary outliers above the median."
   ]
  },
  {
   "cell_type": "code",
   "execution_count": 50,
   "metadata": {},
   "outputs": [
    {
     "name": "stdout",
     "output_type": "stream",
     "text": [
      "Fitting 3 folds for each of 9 candidates, totalling 27 fits\n"
     ]
    },
    {
     "name": "stderr",
     "output_type": "stream",
     "text": [
      "[Parallel(n_jobs=-1)]: Done  27 out of  27 | elapsed: 23.8min finished\n"
     ]
    },
    {
     "data": {
      "text/plain": [
       "GridSearchCV(cv=3, error_score='raise',\n",
       "       estimator=LogisticRegression(C=1.0, class_weight=None, dual=False, fit_intercept=True,\n",
       "          intercept_scaling=1, max_iter=100, multi_class='ovr', n_jobs=1,\n",
       "          penalty='l2', random_state=29, solver='liblinear', tol=0.0001,\n",
       "          verbose=0, warm_start=False),\n",
       "       fit_params=None, iid=True, n_jobs=-1,\n",
       "       param_grid={'C': [0.2, 0.6, 1.0], 'solver': ['newton-cg', 'lbfgs', 'sag']},\n",
       "       pre_dispatch='2*n_jobs', refit=True, return_train_score='warn',\n",
       "       scoring=None, verbose=1)"
      ]
     },
     "execution_count": 50,
     "metadata": {},
     "output_type": "execute_result"
    }
   ],
   "source": [
    "# Tuning of LogisticRegression model for better results\n",
    "params = {\n",
    "    'C' : [0.2, 0.6, 1.0],\n",
    "    'solver' : ['newton-cg', 'lbfgs', 'sag']\n",
    "}\n",
    "\n",
    "lr_gs = GridSearchCV(lr, param_grid=params, cv=3, n_jobs=-1, verbose=1)\n",
    "lr_gs.fit(tokens_train, y_train)"
   ]
  },
  {
   "cell_type": "code",
   "execution_count": 52,
   "metadata": {},
   "outputs": [
    {
     "name": "stdout",
     "output_type": "stream",
     "text": [
      "{'C': 0.6, 'solver': 'newton-cg'}\n",
      "0.6842105263157895\n"
     ]
    }
   ],
   "source": [
    "print(lr_gs.best_params_)\n",
    "print(lr_gs.best_score_)"
   ]
  },
  {
   "cell_type": "code",
   "execution_count": 53,
   "metadata": {},
   "outputs": [
    {
     "name": "stdout",
     "output_type": "stream",
     "text": [
      "Score on test data: 0.666666666667\n"
     ]
    }
   ],
   "source": [
    "# Score test data with tuned parameters \n",
    "lr = LogisticRegression(C=0.6, solver='newton-cg', random_state=29)\n",
    "lr.fit(tokens_train, y_train)\n",
    "\n",
    "print('Score on test data: {}'.format(lr.score(tokens_test, y_test)))\n",
    "\n",
    "# Accuracy is only improved marginally"
   ]
  },
  {
   "cell_type": "code",
   "execution_count": 21,
   "metadata": {},
   "outputs": [
    {
     "name": "stderr",
     "output_type": "stream",
     "text": [
      "[Parallel(n_jobs=-1)]: Done   6 out of  10 | elapsed:    1.2s remaining:    0.7s\n",
      "[Parallel(n_jobs=-1)]: Done  10 out of  10 | elapsed:    2.1s finished\n"
     ]
    },
    {
     "data": {
      "text/plain": [
       "RandomForestClassifier(bootstrap=True, class_weight=None, criterion='gini',\n",
       "            max_depth=None, max_features='auto', max_leaf_nodes=None,\n",
       "            min_impurity_decrease=0.0, min_impurity_split=None,\n",
       "            min_samples_leaf=1, min_samples_split=2,\n",
       "            min_weight_fraction_leaf=0.0, n_estimators=10, n_jobs=-1,\n",
       "            oob_score=False, random_state=29, verbose=1, warm_start=False)"
      ]
     },
     "execution_count": 21,
     "metadata": {},
     "output_type": "execute_result"
    }
   ],
   "source": [
    "# Second model of RandomForest\n",
    "rfc = RandomForestClassifier(n_jobs=-1, random_state=29, verbose=1)\n",
    "rfc.fit(tokens_train, y_train)\n"
   ]
  },
  {
   "cell_type": "code",
   "execution_count": 23,
   "metadata": {},
   "outputs": [
    {
     "name": "stdout",
     "output_type": "stream",
     "text": [
      "Cross validation score: [0.53125    0.69791667 0.56842105 0.63829787 0.58510638]\n",
      "Mean score: 0.604198394923\n",
      "Score on test data: 0.607843137255\n"
     ]
    },
    {
     "name": "stderr",
     "output_type": "stream",
     "text": [
      "[Parallel(n_jobs=8)]: Done   6 out of  10 | elapsed:    0.0s remaining:    0.0s\n",
      "[Parallel(n_jobs=8)]: Done  10 out of  10 | elapsed:    0.0s finished\n"
     ]
    }
   ],
   "source": [
    "# Cross-validate the RandomForest model\n",
    "scores = cross_val_score(rfc, tokens_train, y_train, cv=5, n_jobs=-1)\n",
    "print('Cross validation score: {}'.format(scores))\n",
    "print('Mean score: {}'.format(np.mean(scores)))\n",
    "\n",
    "# Score on test data\n",
    "print('Score on test data: {}'.format(rfc.score(tokens_test, y_test)))\n"
   ]
  },
  {
   "cell_type": "code",
   "execution_count": 44,
   "metadata": {},
   "outputs": [
    {
     "name": "stderr",
     "output_type": "stream",
     "text": [
      "[Parallel(n_jobs=8)]: Done   6 out of  10 | elapsed:    0.0s remaining:    0.0s\n",
      "[Parallel(n_jobs=8)]: Done  10 out of  10 | elapsed:    0.0s finished\n"
     ]
    },
    {
     "name": "stdout",
     "output_type": "stream",
     "text": [
      "              precision    recall  f1-score   support\n",
      "\n",
      "Below Median       0.59      0.79      0.68       107\n",
      "Above Median       0.64      0.40      0.49        97\n",
      "\n",
      " avg / total       0.62      0.61      0.59       204\n",
      "\n"
     ]
    }
   ],
   "source": [
    "print(classification_report(y_test, rfc.predict(tokens_test), labels=[0,1], target_names=['Below Median', 'Above Median']))\n",
    "\n",
    "# The random forest classifier performs even worse than Logistic Regression in predicting above median salaries. Probably\n",
    "# some pruning of the decision trees is required to improve the performance."
   ]
  },
  {
   "cell_type": "code",
   "execution_count": 54,
   "metadata": {},
   "outputs": [
    {
     "name": "stdout",
     "output_type": "stream",
     "text": [
      "Fitting 3 folds for each of 40 candidates, totalling 120 fits\n"
     ]
    },
    {
     "name": "stderr",
     "output_type": "stream",
     "text": [
      "[Parallel(n_jobs=-1)]: Done  34 tasks      | elapsed:  2.5min\n",
      "[Parallel(n_jobs=-1)]: Done 120 out of 120 | elapsed:  6.3min finished\n",
      "[Parallel(n_jobs=-1)]: Done   3 out of   3 | elapsed:    0.2s finished\n"
     ]
    },
    {
     "data": {
      "text/plain": [
       "GridSearchCV(cv=3, error_score='raise',\n",
       "       estimator=RandomForestClassifier(bootstrap=True, class_weight=None, criterion='gini',\n",
       "            max_depth=None, max_features='auto', max_leaf_nodes=None,\n",
       "            min_impurity_decrease=0.0, min_impurity_split=None,\n",
       "            min_samples_leaf=1, min_samples_split=2,\n",
       "            min_weight_fraction_leaf=0.0, n_estimators=10, n_jobs=-1,\n",
       "            oob_score=False, random_state=29, verbose=1, warm_start=False),\n",
       "       fit_params=None, iid=True, n_jobs=-1,\n",
       "       param_grid={'n_estimators': [1, 3, 5, 7, 9], 'criterion': ['gini', 'entropy'], 'max_depth': [1, 2, 3, None]},\n",
       "       pre_dispatch='2*n_jobs', refit=True, return_train_score='warn',\n",
       "       scoring=None, verbose=1)"
      ]
     },
     "execution_count": 54,
     "metadata": {},
     "output_type": "execute_result"
    }
   ],
   "source": [
    "# Tuning of RandomForest model for better results\n",
    "params = {\n",
    "    'n_estimators' : range(1, 11, 2),\n",
    "    'criterion' : ['gini', 'entropy'],\n",
    "    'max_depth' : [1, 2, 3, None]\n",
    "}\n",
    "\n",
    "rf_gs = GridSearchCV(rfc, param_grid=params, cv=3, n_jobs=-1, verbose=1)\n",
    "rf_gs.fit(tokens_train, y_train)"
   ]
  },
  {
   "cell_type": "code",
   "execution_count": 55,
   "metadata": {},
   "outputs": [
    {
     "name": "stdout",
     "output_type": "stream",
     "text": [
      "{'n_estimators': 3, 'criterion': 'entropy', 'max_depth': None}\n",
      "0.6126315789473684\n"
     ]
    }
   ],
   "source": [
    "print(rf_gs.best_params_)\n",
    "print(rf_gs.best_score_)"
   ]
  },
  {
   "cell_type": "code",
   "execution_count": 56,
   "metadata": {},
   "outputs": [
    {
     "name": "stderr",
     "output_type": "stream",
     "text": [
      "[Parallel(n_jobs=-1)]: Done   3 out of   3 | elapsed:    0.2s finished\n"
     ]
    },
    {
     "name": "stdout",
     "output_type": "stream",
     "text": [
      "Score on test data: 0.651960784314\n"
     ]
    },
    {
     "name": "stderr",
     "output_type": "stream",
     "text": [
      "[Parallel(n_jobs=3)]: Done   3 out of   3 | elapsed:    0.0s finished\n"
     ]
    }
   ],
   "source": [
    "# Score test data with tuned parameters \n",
    "rfc = RandomForestClassifier(n_estimators=3, criterion='entropy', max_depth=None, n_jobs=-1, random_state=29, verbose=1)\n",
    "rfc.fit(tokens_train, y_train)\n",
    "\n",
    "print('Score on test data: {}'.format(rfc.score(tokens_test, y_test)))\n",
    "\n",
    "# Accuracy improved slightly to be almost the same as Logistic Regression"
   ]
  },
  {
   "cell_type": "markdown",
   "metadata": {},
   "source": [
    "## Question 2\n",
    "Set up the target variable as IT sector versus non-IT sector jobs and build a classification model  \n",
    "to predict it"
   ]
  },
  {
   "cell_type": "code",
   "execution_count": 25,
   "metadata": {},
   "outputs": [],
   "source": [
    "# Set up y variable to the binary column \"Information Technology\"\n",
    "x2 = data['JD'].copy()\n",
    "y2 = data['Information Technology'].copy()"
   ]
  },
  {
   "cell_type": "code",
   "execution_count": 26,
   "metadata": {},
   "outputs": [],
   "source": [
    "# Split the data into train and test\n",
    "x2_train, x2_test, y2_train, y2_test = train_test_split(x2, y2, test_size=0.3, random_state=29)"
   ]
  },
  {
   "cell_type": "code",
   "execution_count": 29,
   "metadata": {},
   "outputs": [
    {
     "data": {
      "text/plain": [
       "LogisticRegression(C=1.0, class_weight=None, dual=False, fit_intercept=True,\n",
       "          intercept_scaling=1, max_iter=100, multi_class='ovr', n_jobs=1,\n",
       "          penalty='l2', random_state=29, solver='liblinear', tol=0.0001,\n",
       "          verbose=0, warm_start=False)"
      ]
     },
     "execution_count": 29,
     "metadata": {},
     "output_type": "execute_result"
    }
   ],
   "source": [
    "# Tokenise the x2_train\n",
    "cvt2 = CountVectorizer(ngram_range=(1,4))\n",
    "tokens2_train = pd.DataFrame(cvt2.fit_transform(x2_train).todense(), columns=cvt2.get_feature_names())\n",
    "\n",
    "# Tokenise the x2_test using the same trained CountVectorizer\n",
    "tokens2_test = pd.DataFrame(cvt2.transform(x2_test).todense(), columns=cvt2.get_feature_names())\n",
    "\n",
    "lr2 = LogisticRegression(random_state=29)\n",
    "lr2.fit(tokens2_train, y2_train)"
   ]
  },
  {
   "cell_type": "code",
   "execution_count": 30,
   "metadata": {},
   "outputs": [
    {
     "name": "stderr",
     "output_type": "stream",
     "text": [
      "[Parallel(n_jobs=-1)]: Done   2 out of   5 | elapsed:   22.5s remaining:   33.7s\n",
      "[Parallel(n_jobs=-1)]: Done   5 out of   5 | elapsed:   34.8s finished\n"
     ]
    },
    {
     "name": "stdout",
     "output_type": "stream",
     "text": [
      "Cross validation score: [0.80188679 0.74528302 0.77142857 0.78846154 0.76923077]\n",
      "Mean score: 0.775258138088\n",
      "Score on test data: 0.752212389381\n"
     ]
    }
   ],
   "source": [
    "# Cross-validate the Logistic Regression model\n",
    "scores = cross_val_score(lr2, tokens2_train, y2_train, cv=5, n_jobs=-1, verbose=1)\n",
    "print('Cross validation score: {}'.format(scores))\n",
    "print('Mean score: {}'.format(np.mean(scores)))\n",
    "\n",
    "# Score on test data\n",
    "print('Score on test data: {}'.format(lr2.score(tokens2_test, y2_test)))"
   ]
  },
  {
   "cell_type": "code",
   "execution_count": 45,
   "metadata": {},
   "outputs": [
    {
     "name": "stdout",
     "output_type": "stream",
     "text": [
      "               precision    recall  f1-score   support\n",
      "\n",
      "Non-IT sector       0.78      0.78      0.78       126\n",
      "    IT sector       0.72      0.72      0.72       100\n",
      "\n",
      "  avg / total       0.75      0.75      0.75       226\n",
      "\n"
     ]
    }
   ],
   "source": [
    "print(classification_report(y2_test, lr2.predict(tokens2_test), labels=[0,1], target_names=['Non-IT sector', 'IT sector']))\n"
   ]
  },
  {
   "cell_type": "code",
   "execution_count": 47,
   "metadata": {},
   "outputs": [
    {
     "name": "stderr",
     "output_type": "stream",
     "text": [
      "[Parallel(n_jobs=-1)]: Done   6 out of  10 | elapsed:    0.5s remaining:    0.3s\n",
      "[Parallel(n_jobs=-1)]: Done  10 out of  10 | elapsed:    0.7s finished\n"
     ]
    },
    {
     "data": {
      "text/plain": [
       "RandomForestClassifier(bootstrap=True, class_weight=None, criterion='gini',\n",
       "            max_depth=None, max_features='auto', max_leaf_nodes=None,\n",
       "            min_impurity_decrease=0.0, min_impurity_split=None,\n",
       "            min_samples_leaf=1, min_samples_split=2,\n",
       "            min_weight_fraction_leaf=0.0, n_estimators=10, n_jobs=-1,\n",
       "            oob_score=False, random_state=29, verbose=1, warm_start=False)"
      ]
     },
     "execution_count": 47,
     "metadata": {},
     "output_type": "execute_result"
    }
   ],
   "source": [
    "# Try RandomForestClassifier to compare the performance\n",
    "\n",
    "rfc2 = RandomForestClassifier(n_jobs=-1, random_state=29, verbose=1)\n",
    "rfc2.fit(tokens2_train, y2_train)"
   ]
  },
  {
   "cell_type": "code",
   "execution_count": 48,
   "metadata": {},
   "outputs": [
    {
     "name": "stdout",
     "output_type": "stream",
     "text": [
      "Cross validation score: [0.74528302 0.66037736 0.68571429 0.67307692 0.74038462]\n",
      "Mean score: 0.700967240307\n"
     ]
    },
    {
     "name": "stderr",
     "output_type": "stream",
     "text": [
      "[Parallel(n_jobs=8)]: Done   6 out of  10 | elapsed:    0.0s remaining:    0.0s\n",
      "[Parallel(n_jobs=8)]: Done  10 out of  10 | elapsed:    0.0s finished\n"
     ]
    },
    {
     "name": "stdout",
     "output_type": "stream",
     "text": [
      "Score on test data: 0.676991150442\n"
     ]
    }
   ],
   "source": [
    "# Cross-validate the RandomForest model\n",
    "scores = cross_val_score(rfc2, tokens2_train, y2_train, cv=5, n_jobs=-1)\n",
    "print('Cross validation score: {}'.format(scores))\n",
    "print('Mean score: {}'.format(np.mean(scores)))\n",
    "\n",
    "# Score on test data\n",
    "print('Score on test data: {}'.format(rfc2.score(tokens2_test, y2_test)))\n"
   ]
  },
  {
   "cell_type": "code",
   "execution_count": 49,
   "metadata": {},
   "outputs": [
    {
     "name": "stderr",
     "output_type": "stream",
     "text": [
      "[Parallel(n_jobs=8)]: Done   6 out of  10 | elapsed:    0.0s remaining:    0.0s\n",
      "[Parallel(n_jobs=8)]: Done  10 out of  10 | elapsed:    0.0s finished\n"
     ]
    },
    {
     "name": "stdout",
     "output_type": "stream",
     "text": [
      "               precision    recall  f1-score   support\n",
      "\n",
      "Non-IT sector       0.73      0.67      0.70       126\n",
      "    IT sector       0.62      0.68      0.65       100\n",
      "\n",
      "  avg / total       0.68      0.68      0.68       226\n",
      "\n"
     ]
    }
   ],
   "source": [
    "print(classification_report(y2_test, rfc2.predict(tokens2_test), labels=[0,1], target_names=['Non-IT sector', 'IT sector']))\n"
   ]
  },
  {
   "cell_type": "code",
   "execution_count": null,
   "metadata": {},
   "outputs": [],
   "source": []
  },
  {
   "cell_type": "code",
   "execution_count": null,
   "metadata": {},
   "outputs": [],
   "source": []
  },
  {
   "cell_type": "code",
   "execution_count": null,
   "metadata": {},
   "outputs": [],
   "source": []
  },
  {
   "cell_type": "code",
   "execution_count": null,
   "metadata": {},
   "outputs": [],
   "source": []
  },
  {
   "cell_type": "code",
   "execution_count": null,
   "metadata": {},
   "outputs": [],
   "source": []
  },
  {
   "cell_type": "code",
   "execution_count": null,
   "metadata": {},
   "outputs": [],
   "source": []
  },
  {
   "cell_type": "code",
   "execution_count": null,
   "metadata": {},
   "outputs": [],
   "source": []
  }
 ],
 "metadata": {
  "kernelspec": {
   "display_name": "Python 2",
   "language": "python",
   "name": "python2"
  },
  "language_info": {
   "codemirror_mode": {
    "name": "ipython",
    "version": 2
   },
   "file_extension": ".py",
   "mimetype": "text/x-python",
   "name": "python",
   "nbconvert_exporter": "python",
   "pygments_lexer": "ipython2",
   "version": "2.7.14"
  }
 },
 "nbformat": 4,
 "nbformat_minor": 2
}

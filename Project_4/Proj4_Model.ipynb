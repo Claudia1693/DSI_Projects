{
 "cells": [
  {
   "cell_type": "code",
   "execution_count": 1,
   "metadata": {},
   "outputs": [],
   "source": [
    "import pandas as pd\n",
    "import numpy as np\n",
    "import matplotlib.pyplot as plt\n",
    "import re\n",
    "import itertools\n",
    "import seaborn as sns\n",
    "\n",
    "from sklearn.feature_extraction.text import CountVectorizer, TfidfVectorizer\n",
    "from sklearn.feature_extraction import text\n",
    "from sklearn.linear_model import LinearRegression, LogisticRegression\n",
    "from sklearn.model_selection import train_test_split, cross_val_score, GridSearchCV\n",
    "from sklearn.pipeline import Pipeline\n",
    "from sklearn.decomposition import PCA\n",
    "from sklearn.ensemble import RandomForestClassifier\n",
    "from sklearn.metrics import classification_report, confusion_matrix\n",
    "\n",
    "from nltk.corpus import stopwords\n",
    "\n",
    "%matplotlib inline\n",
    "\n",
    "pd.set_option('display.max_columns', 100)"
   ]
  },
  {
   "cell_type": "markdown",
   "metadata": {},
   "source": [
    "# Dataset and parsing/cleaning of data"
   ]
  },
  {
   "cell_type": "code",
   "execution_count": 2,
   "metadata": {},
   "outputs": [],
   "source": [
    "data = pd.read_csv('mycareersfuture_master.csv')"
   ]
  },
  {
   "cell_type": "code",
   "execution_count": null,
   "metadata": {},
   "outputs": [],
   "source": [
    "data.head()"
   ]
  },
  {
   "cell_type": "code",
   "execution_count": 3,
   "metadata": {},
   "outputs": [],
   "source": [
    "# Parse the salary columns\n",
    "\n",
    "# Remove dollar sign and comma\n",
    "for col in ['SalaryLower', 'SalaryUpper']:\n",
    "    data[col] = [re.sub('[$,]', '', text) for text in data[col]]\n",
    "    \n",
    "# Extracting the text and placing into a new column 'SalaryType\n",
    "data['SalaryType'] = data['SalaryUpper'].apply(lambda x: re.search('\\D+', x).group())\n",
    "\n",
    "# Extracting only the numerical value for the SalaryUpper column\n",
    "data['SalaryUpper'] = data['SalaryUpper'].apply(lambda x: re.match('\\d*', x).group())\n",
    "\n",
    "# Replacing the text 'Salary undisclosed' with NaN\n",
    "data[['SalaryLower', 'SalaryType']] = data[['SalaryLower', 'SalaryType']].replace('Salary undisclosed', np.nan)\n",
    "\n",
    "# Replacing '' in SalaryUpper with NaN\n",
    "data['SalaryUpper'] = data['SalaryUpper'].replace('', np.nan)\n",
    "\n",
    "# Set the salary columns to numeric\n",
    "data[['SalaryLower', 'SalaryUpper']] = data[['SalaryLower', 'SalaryUpper']].astype('float32')\n",
    "\n",
    "# Convert the annual salary data into monthly salary data\n",
    "data.loc[data['SalaryType']=='Annually', ['SalaryLower', 'SalaryUpper']] = \\\n",
    "data[data['SalaryType']=='Annually'][['SalaryLower', 'SalaryUpper']].apply(lambda x: x/12)\n",
    "\n",
    "# Update the SalaryType to monthly\n",
    "data.loc[data['SalaryType']=='Annually', 'SalaryType'] = 'Monthly'\n",
    "\n",
    "# Create SalaryMean which is the mean of SalaryLower and SalaryUpper\n",
    "data['SalaryMean'] = (data['SalaryLower'] + data['SalaryUpper']) / 2."
   ]
  },
  {
   "cell_type": "code",
   "execution_count": 4,
   "metadata": {},
   "outputs": [
    {
     "data": {
      "text/plain": [
       "Full Time                                                            252\n",
       "Contract, Full Time                                                  151\n",
       "Permanent, Full Time                                                 125\n",
       "Permanent                                                            125\n",
       "Contract                                                              78\n",
       "Permanent, Contract                                                   12\n",
       "Permanent, Contract, Full Time                                         8\n",
       "Temporary                                                              4\n",
       "Freelance                                                              4\n",
       "Internship                                                             3\n",
       "Part Time, Contract, Flexi work                                        2\n",
       "Freelance, Flexi work                                                  2\n",
       "Part Time, Contract                                                    1\n",
       "Part Time, Permanent, Temporary, Contract, Flexi work, Internship      1\n",
       "Full Time, Internship                                                  1\n",
       "Permanent, Temporary, Full Time, Internship                            1\n",
       "Temporary, Contract, Full Time                                         1\n",
       "Name: EmploymentType, dtype: int64"
      ]
     },
     "execution_count": 4,
     "metadata": {},
     "output_type": "execute_result"
    }
   ],
   "source": [
    "data['EmploymentType'].value_counts()\n",
    "\n",
    "# Exclude all those job listings that are temporary, freelance, internship"
   ]
  },
  {
   "cell_type": "code",
   "execution_count": 5,
   "metadata": {},
   "outputs": [],
   "source": [
    "# Create a list of those Employment Types to drop\n",
    "emp_type_list = data['EmploymentType'].value_counts().index[7::]\n",
    "\n",
    "# Iterate through each Employment Type and exclude them\n",
    "for emp_type in emp_type_list:\n",
    "    data = data[data['EmploymentType'] != emp_type].copy()"
   ]
  },
  {
   "cell_type": "code",
   "execution_count": 6,
   "metadata": {},
   "outputs": [],
   "source": [
    "# Combine RoleDesc and Requirements\n",
    "data['JD'] = data['RoleDesc'] + ' ' + data['Requirements']"
   ]
  },
  {
   "cell_type": "code",
   "execution_count": 7,
   "metadata": {},
   "outputs": [],
   "source": [
    "# Parse dummy variables for columns, JobCategories, EmploymentType, Seniority\n",
    "col_list = ['JobCategories', 'EmploymentType', 'Seniority']\n",
    "\n",
    "for col in col_list:\n",
    "    value_list = data[col].unique()\n",
    "    value_list = [value.split(',') for value in value_list]\n",
    "    value_list = list(itertools.chain(*value_list))\n",
    "    value_list = [str.strip(value) for value in value_list]\n",
    "    value_list = np.unique(value_list)\n",
    "    \n",
    "    # Create dummy variables for the column\n",
    "    for value in value_list:\n",
    "        data.loc[data[col].str.contains(value), value] = 1\n",
    "        \n",
    "    # Replace NaN with zero\n",
    "    data[value_list] = data[value_list].fillna(value=0)\n",
    "    "
   ]
  },
  {
   "cell_type": "markdown",
   "metadata": {},
   "source": [
    "## Question 1"
   ]
  },
  {
   "cell_type": "code",
   "execution_count": 18,
   "metadata": {},
   "outputs": [
    {
     "name": "stdout",
     "output_type": "stream",
     "text": [
      "3125.0 6500.0\n"
     ]
    }
   ],
   "source": [
    "iqr = np.percentile(data[~data['SalaryMean'].isnull()]['SalaryMean'], 75) - \\\n",
    "np.percentile(data[~data['SalaryMean'].isnull()]['SalaryMean'], 25)\n",
    "sal_median = np.percentile(data[~data['SalaryMean'].isnull()]['SalaryMean'], 50)\n",
    "print iqr, sal_median"
   ]
  },
  {
   "cell_type": "code",
   "execution_count": 21,
   "metadata": {},
   "outputs": [],
   "source": [
    "data2 = data[(~data['SalaryMean'].isnull()) & (data['SalaryMean']<=(1.5*iqr+sal_median))].copy()"
   ]
  },
  {
   "cell_type": "code",
   "execution_count": 22,
   "metadata": {},
   "outputs": [
    {
     "data": {
      "text/plain": [
       "<matplotlib.axes._subplots.AxesSubplot at 0x120cafd0>"
      ]
     },
     "execution_count": 22,
     "metadata": {},
     "output_type": "execute_result"
    },
    {
     "data": {
      "image/png": "[encoded data removed]",
      "text/plain": [
       "<Figure size 1296x432 with 2 Axes>"
      ]
     },
     "metadata": {},
     "output_type": "display_data"
    }
   ],
   "source": [
    "# Look at the distribution of SalaryMean\n",
    "fig = plt.figure(figsize=(18,6))\n",
    "ax1 = fig.add_subplot(121)\n",
    "data2['SalaryMean'].hist(ax=ax1, bins=15)\n",
    "ax2 = fig.add_subplot(122)\n",
    "data2.boxplot(column='SalaryMean', ax=ax2)"
   ]
  },
  {
   "cell_type": "code",
   "execution_count": 23,
   "metadata": {},
   "outputs": [],
   "source": [
    "data2['SalaryLabel'] = data2['SalaryMean'].apply(lambda x: 1 if x > data2['SalaryMean'].median() else 0)"
   ]
  },
  {
   "cell_type": "code",
   "execution_count": 24,
   "metadata": {},
   "outputs": [],
   "source": [
    "x3 = data2['JD'].copy()\n",
    "y3 = data2['SalaryLabel'].copy()"
   ]
  },
  {
   "cell_type": "code",
   "execution_count": 25,
   "metadata": {},
   "outputs": [],
   "source": [
    "x3_train, x3_test, y3_train, y3_test = train_test_split(x3, y3, test_size=0.3, random_state=29)"
   ]
  },
  {
   "cell_type": "code",
   "execution_count": 26,
   "metadata": {},
   "outputs": [
    {
     "name": "stdout",
     "output_type": "stream",
     "text": [
      "              precision    recall  f1-score   support\n",
      "\n",
      "Below Median       0.61      0.70      0.66        88\n",
      "Above Median       0.71      0.62      0.66       103\n",
      "\n",
      " avg / total       0.67      0.66      0.66       191\n",
      "\n"
     ]
    }
   ],
   "source": [
    "cvt3 = CountVectorizer(ngram_range=(1,4))\n",
    "tokens3_train = pd.DataFrame(cvt3.fit_transform(x3_train).todense(), columns=cvt3.get_feature_names())\n",
    "\n",
    "# Tokenise the x_test using the same trained CountVectorizer\n",
    "tokens3_test = pd.DataFrame(cvt3.transform(x3_test).todense(), columns=cvt3.get_feature_names())\n",
    "\n",
    "lr3 = LogisticRegression(random_state=29)\n",
    "lr3.fit(tokens3_train, y3_train)\n",
    "print(classification_report(y3_test, lr3.predict(tokens3_test), labels=[0,1], target_names=['Below Median', 'Above Median']))"
   ]
  },
  {
   "cell_type": "code",
   "execution_count": null,
   "metadata": {},
   "outputs": [],
   "source": []
  },
  {
   "cell_type": "code",
   "execution_count": null,
   "metadata": {},
   "outputs": [],
   "source": []
  },
  {
   "cell_type": "code",
   "execution_count": null,
   "metadata": {},
   "outputs": [],
   "source": [
    "# Look at the distribution of SalaryMean\n",
    "fig = plt.figure(figsize=(18,6))\n",
    "ax1 = fig.add_subplot(121)\n",
    "data['SalaryMean'].hist(ax=ax1, bins=15)\n",
    "ax2 = fig.add_subplot(122)\n",
    "data.boxplot(column='SalaryMean', ax=ax2)"
   ]
  },
  {
   "cell_type": "code",
   "execution_count": null,
   "metadata": {},
   "outputs": [],
   "source": [
    "data1 = data[~data['SalaryMean'].isnull()].copy()"
   ]
  },
  {
   "cell_type": "code",
   "execution_count": null,
   "metadata": {},
   "outputs": [],
   "source": [
    "# As the distribution of salary is right skewed with a long right tail,\n",
    "# classify the salary into 2 groups - Above Median (1) and Median and Below (0) \n",
    "\n",
    "data1['SalaryLabel'] = data1['SalaryMean'].apply(lambda x: 1 if x > data1['SalaryMean'].median() else 0)"
   ]
  },
  {
   "cell_type": "code",
   "execution_count": null,
   "metadata": {},
   "outputs": [],
   "source": [
    "# check correlation of dummy variables with target\n",
    "\n",
    "sector_var = pd.concat([data1.iloc[:,15:47].copy(), data1['SalaryLabel']], axis=1)\n",
    "emptype_var = pd.concat([data1.iloc[:,47:50].copy(), data1['SalaryLabel']], axis=1)\n",
    "senior_var = pd.concat([data1.iloc[:,50::].copy(), data1['SalaryLabel']], axis=1)"
   ]
  },
  {
   "cell_type": "code",
   "execution_count": null,
   "metadata": {},
   "outputs": [],
   "source": [
    "fig = plt.figure(figsize=(10,6))\n",
    "sns.heatmap(senior_var.corr(), annot=True)\n",
    "\n",
    "# the seniority features have little correlation with the target variable SalaryLabel"
   ]
  },
  {
   "cell_type": "code",
   "execution_count": null,
   "metadata": {},
   "outputs": [],
   "source": [
    "fig = plt.figure(figsize=(10,6))\n",
    "sns.heatmap(emptype_var.corr(), annot=True)\n",
    "\n",
    "# the EmploymentType features have little correlation with the target variable SalaryLabel"
   ]
  },
  {
   "cell_type": "code",
   "execution_count": null,
   "metadata": {
    "collapsed": true
   },
   "outputs": [],
   "source": [
    "sector_corr = sector_var.corr()\n",
    "print sector_corr.iloc[:, -1]\n",
    "\n",
    "# the sector features have little correlation with the target variable SalaryLabel"
   ]
  },
  {
   "cell_type": "markdown",
   "metadata": {},
   "source": [
    "Hence for the prediction of classification labels of salary, use only the job description  \n",
    "and job requirements and discard the other features"
   ]
  },
  {
   "cell_type": "markdown",
   "metadata": {},
   "source": [
    "### Set up predictor and target varibles plus split data for train and test"
   ]
  },
  {
   "cell_type": "code",
   "execution_count": null,
   "metadata": {},
   "outputs": [],
   "source": [
    "# copy JD column to as x variable, SalaryLabel as y\n",
    "\n",
    "x = data1['JD'].copy()\n",
    "y = data1['SalaryLabel'].copy()"
   ]
  },
  {
   "cell_type": "code",
   "execution_count": null,
   "metadata": {},
   "outputs": [],
   "source": [
    "# baseline accuracy\n",
    "print(1. - y.mean())"
   ]
  },
  {
   "cell_type": "code",
   "execution_count": null,
   "metadata": {},
   "outputs": [],
   "source": [
    "# Train test split the data\n",
    "x_train, x_test, y_train, y_test = train_test_split(x, y, test_size=0.3, random_state=29)\n"
   ]
  },
  {
   "cell_type": "markdown",
   "metadata": {},
   "source": [
    "## Try first model of LogisticRegression to predict if the salary of a job posting will be above median or below median  \n",
    "Start with Logistic Regression as it is a simple classification model"
   ]
  },
  {
   "cell_type": "code",
   "execution_count": null,
   "metadata": {},
   "outputs": [],
   "source": [
    "# First model of Logistic Regression\n",
    "\n",
    "# Tokenise the x_train which is job description and job requirements\n",
    "cvt = CountVectorizer(ngram_range=(1,4))\n",
    "tokens_train = pd.DataFrame(cvt.fit_transform(x_train).todense(), columns=cvt.get_feature_names())\n",
    "\n",
    "# Tokenise the x_test using the same trained CountVectorizer\n",
    "tokens_test = pd.DataFrame(cvt.transform(x_test).todense(), columns=cvt.get_feature_names())\n",
    "\n",
    "lr = LogisticRegression(random_state=29)\n",
    "lr.fit(tokens_train, y_train)"
   ]
  },
  {
   "cell_type": "code",
   "execution_count": null,
   "metadata": {},
   "outputs": [],
   "source": [
    "tokens_train.shape"
   ]
  },
  {
   "cell_type": "code",
   "execution_count": null,
   "metadata": {},
   "outputs": [],
   "source": [
    "# Cross-validate the Logistic Regression model\n",
    "scores = cross_val_score(lr, tokens_train, y_train, cv=5, n_jobs=-1, verbose=1)\n",
    "print('Cross validation score: {}'.format(scores))\n",
    "print('Mean score: {}'.format(np.mean(scores)))\n",
    "\n",
    "# Score on test data\n",
    "print('Score on test data: {}'.format(lr.score(tokens_test, y_test)))"
   ]
  },
  {
   "cell_type": "code",
   "execution_count": null,
   "metadata": {},
   "outputs": [],
   "source": [
    "# Extract the coefficients of the Logistic Regression against the tokens\n",
    "lr_coef = pd.DataFrame({'tokens':tokens_train.columns, 'lr_coef':lr.coef_[0]})"
   ]
  },
  {
   "cell_type": "code",
   "execution_count": null,
   "metadata": {},
   "outputs": [],
   "source": [
    "# Sort the tokens by descending order of the regression coefficients\n",
    "lr_coef = lr_coef.sort_values(by='lr_coef', axis=0, ascending=False)\n",
    "\n",
    "# Identify the top 20 features which are most important to predict the classification of salary above median\n",
    "lr_coef.head(20)"
   ]
  },
  {
   "cell_type": "code",
   "execution_count": null,
   "metadata": {},
   "outputs": [],
   "source": [
    "print(classification_report(y_test, lr.predict(tokens_test), labels=[0,1], target_names=['Below Median', 'Above Median']))\n",
    "\n",
    "# The model performs better at predicting below median salaries than above median.  This is probably due to the wide variance\n",
    "# in salaries above median.  From the box plot above we saw that there are many salary outliers above the median."
   ]
  },
  {
   "cell_type": "code",
   "execution_count": null,
   "metadata": {},
   "outputs": [],
   "source": [
    "# Tuning of LogisticRegression model for better results\n",
    "params = {\n",
    "    'C' : [0.2, 0.6, 1.0],\n",
    "    'solver' : ['newton-cg', 'lbfgs', 'sag']\n",
    "}\n",
    "\n",
    "lr_gs = GridSearchCV(lr, param_grid=params, cv=3, n_jobs=-1, verbose=1)\n",
    "lr_gs.fit(tokens_train, y_train)"
   ]
  },
  {
   "cell_type": "code",
   "execution_count": null,
   "metadata": {},
   "outputs": [],
   "source": [
    "print(lr_gs.best_params_)\n",
    "print(lr_gs.best_score_)"
   ]
  },
  {
   "cell_type": "code",
   "execution_count": null,
   "metadata": {},
   "outputs": [],
   "source": [
    "# Score test data with tuned parameters \n",
    "lr = LogisticRegression(C=0.6, solver='newton-cg', random_state=29)\n",
    "lr.fit(tokens_train, y_train)\n",
    "\n",
    "print('Score on test data: {}'.format(lr.score(tokens_test, y_test)))\n",
    "\n",
    "# Accuracy is only improved marginally"
   ]
  },
  {
   "cell_type": "code",
   "execution_count": null,
   "metadata": {},
   "outputs": [],
   "source": [
    "# Second model of RandomForest\n",
    "rfc = RandomForestClassifier(n_jobs=-1, random_state=29, verbose=1)\n",
    "rfc.fit(tokens_train, y_train)\n"
   ]
  },
  {
   "cell_type": "code",
   "execution_count": null,
   "metadata": {},
   "outputs": [],
   "source": [
    "# Cross-validate the RandomForest model\n",
    "scores = cross_val_score(rfc, tokens_train, y_train, cv=5, n_jobs=-1)\n",
    "print('Cross validation score: {}'.format(scores))\n",
    "print('Mean score: {}'.format(np.mean(scores)))\n",
    "\n",
    "# Score on test data\n",
    "print('Score on test data: {}'.format(rfc.score(tokens_test, y_test)))\n"
   ]
  },
  {
   "cell_type": "code",
   "execution_count": null,
   "metadata": {},
   "outputs": [],
   "source": [
    "print(classification_report(y_test, rfc.predict(tokens_test), labels=[0,1], target_names=['Below Median', 'Above Median']))\n",
    "\n",
    "# The random forest classifier performs even worse than Logistic Regression in predicting above median salaries. Probably\n",
    "# some pruning of the decision trees is required to improve the performance."
   ]
  },
  {
   "cell_type": "code",
   "execution_count": null,
   "metadata": {},
   "outputs": [],
   "source": [
    "# Tuning of RandomForest model for better results\n",
    "params = {\n",
    "    'n_estimators' : range(1, 11, 2),\n",
    "    'criterion' : ['gini', 'entropy'],\n",
    "    'max_depth' : [1, 2, 3, None]\n",
    "}\n",
    "\n",
    "rf_gs = GridSearchCV(rfc, param_grid=params, cv=3, n_jobs=-1, verbose=1)\n",
    "rf_gs.fit(tokens_train, y_train)"
   ]
  },
  {
   "cell_type": "code",
   "execution_count": null,
   "metadata": {},
   "outputs": [],
   "source": [
    "print(rf_gs.best_params_)\n",
    "print(rf_gs.best_score_)"
   ]
  },
  {
   "cell_type": "code",
   "execution_count": null,
   "metadata": {},
   "outputs": [],
   "source": [
    "# Score test data with tuned parameters \n",
    "rfc = RandomForestClassifier(n_estimators=3, criterion='entropy', max_depth=None, n_jobs=-1, random_state=29, verbose=1)\n",
    "rfc.fit(tokens_train, y_train)\n",
    "\n",
    "print('Score on test data: {}'.format(rfc.score(tokens_test, y_test)))\n",
    "\n",
    "# Accuracy improved slightly to be almost the same as Logistic Regression"
   ]
  },
  {
   "cell_type": "markdown",
   "metadata": {},
   "source": [
    "## Question 2\n",
    "Set up the target variable as IT sector versus non-IT sector jobs and build a classification model  \n",
    "to predict it"
   ]
  },
  {
   "cell_type": "code",
   "execution_count": null,
   "metadata": {},
   "outputs": [],
   "source": [
    "# Set up y variable to the binary column \"Information Technology\"\n",
    "x2 = data['JD'].copy()\n",
    "y2 = data['Information Technology'].copy()"
   ]
  },
  {
   "cell_type": "code",
   "execution_count": null,
   "metadata": {},
   "outputs": [],
   "source": [
    "# Split the data into train and test\n",
    "x2_train, x2_test, y2_train, y2_test = train_test_split(x2, y2, test_size=0.3, random_state=29)"
   ]
  },
  {
   "cell_type": "code",
   "execution_count": null,
   "metadata": {},
   "outputs": [],
   "source": [
    "# Tokenise the x2_train\n",
    "cvt2 = CountVectorizer(ngram_range=(1,4))\n",
    "tokens2_train = pd.DataFrame(cvt2.fit_transform(x2_train).todense(), columns=cvt2.get_feature_names())\n",
    "\n",
    "# Tokenise the x2_test using the same trained CountVectorizer\n",
    "tokens2_test = pd.DataFrame(cvt2.transform(x2_test).todense(), columns=cvt2.get_feature_names())\n",
    "\n",
    "lr2 = LogisticRegression(random_state=29)\n",
    "lr2.fit(tokens2_train, y2_train)"
   ]
  },
  {
   "cell_type": "code",
   "execution_count": null,
   "metadata": {},
   "outputs": [],
   "source": [
    "# Cross-validate the Logistic Regression model\n",
    "scores = cross_val_score(lr2, tokens2_train, y2_train, cv=5, n_jobs=-1, verbose=1)\n",
    "print('Cross validation score: {}'.format(scores))\n",
    "print('Mean score: {}'.format(np.mean(scores)))\n",
    "\n",
    "# Score on test data\n",
    "print('Score on test data: {}'.format(lr2.score(tokens2_test, y2_test)))"
   ]
  },
  {
   "cell_type": "code",
   "execution_count": null,
   "metadata": {},
   "outputs": [],
   "source": [
    "print(classification_report(y2_test, lr2.predict(tokens2_test), labels=[0,1], target_names=['Non-IT sector', 'IT sector']))\n"
   ]
  },
  {
   "cell_type": "code",
   "execution_count": null,
   "metadata": {},
   "outputs": [],
   "source": [
    "# Try RandomForestClassifier to compare the performance\n",
    "\n",
    "rfc2 = RandomForestClassifier(n_jobs=-1, random_state=29, verbose=1)\n",
    "rfc2.fit(tokens2_train, y2_train)"
   ]
  },
  {
   "cell_type": "code",
   "execution_count": null,
   "metadata": {},
   "outputs": [],
   "source": [
    "# Cross-validate the RandomForest model\n",
    "scores = cross_val_score(rfc2, tokens2_train, y2_train, cv=5, n_jobs=-1)\n",
    "print('Cross validation score: {}'.format(scores))\n",
    "print('Mean score: {}'.format(np.mean(scores)))\n",
    "\n",
    "# Score on test data\n",
    "print('Score on test data: {}'.format(rfc2.score(tokens2_test, y2_test)))\n"
   ]
  },
  {
   "cell_type": "code",
   "execution_count": null,
   "metadata": {},
   "outputs": [],
   "source": [
    "print(classification_report(y2_test, rfc2.predict(tokens2_test), labels=[0,1], target_names=['Non-IT sector', 'IT sector']))\n"
   ]
  },
  {
   "cell_type": "code",
   "execution_count": null,
   "metadata": {},
   "outputs": [],
   "source": []
  },
  {
   "cell_type": "code",
   "execution_count": null,
   "metadata": {},
   "outputs": [],
   "source": []
  },
  {
   "cell_type": "code",
   "execution_count": null,
   "metadata": {},
   "outputs": [],
   "source": []
  },
  {
   "cell_type": "code",
   "execution_count": null,
   "metadata": {},
   "outputs": [],
   "source": []
  },
  {
   "cell_type": "code",
   "execution_count": null,
   "metadata": {},
   "outputs": [],
   "source": []
  },
  {
   "cell_type": "code",
   "execution_count": null,
   "metadata": {},
   "outputs": [],
   "source": []
  },
  {
   "cell_type": "code",
   "execution_count": null,
   "metadata": {},
   "outputs": [],
   "source": []
  }
 ],
 "metadata": {
  "kernelspec": {
   "display_name": "Python 2",
   "language": "python",
   "name": "python2"
  },
  "language_info": {
   "codemirror_mode": {
    "name": "ipython",
    "version": 2
   },
   "file_extension": ".py",
   "mimetype": "text/x-python",
   "name": "python",
   "nbconvert_exporter": "python",
   "pygments_lexer": "ipython2",
   "version": "2.7.14"
  }
 },
 "nbformat": 4,
 "nbformat_minor": 2
}

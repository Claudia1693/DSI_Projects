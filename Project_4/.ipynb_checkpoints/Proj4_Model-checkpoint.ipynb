{
 "cells": [
  {
   "cell_type": "code",
   "execution_count": null,
   "metadata": {},
   "outputs": [],
   "source": [
    "import pandas as pd\n",
    "import numpy as np\n",
    "import matplotlib.pyplot as plt\n",
    "import re\n",
    "import itertools\n",
    "import seaborn as sns\n",
    "\n",
    "from sklearn.feature_extraction.text import CountVectorizer, TfidfVectorizer\n",
    "from sklearn.feature_extraction import text\n",
    "from sklearn.linear_model import LinearRegression, LogisticRegression\n",
    "from sklearn.model_selection import train_test_split, cross_val_score, GridSearchCV\n",
    "from sklearn.pipeline import Pipeline\n",
    "from sklearn.decomposition import PCA\n",
    "from sklearn.ensemble import RandomForestClassifier\n",
    "from sklearn.metrics import classification_report, confusion_matrix\n",
    "\n",
    "from nltk.corpus import stopwords\n",
    "\n",
    "%matplotlib inline\n",
    "\n",
    "pd.set_option('display.max_columns', 100)"
   ]
  },
  {
   "cell_type": "markdown",
   "metadata": {},
   "source": [
    "# Dataset and parsing/cleaning of data"
   ]
  },
  {
   "cell_type": "code",
   "execution_count": 2,
   "metadata": {},
   "outputs": [],
   "source": [
    "data = pd.read_csv('mycareersfuture_master.csv')"
   ]
  },
  {
   "cell_type": "code",
   "execution_count": 3,
   "metadata": {},
   "outputs": [],
   "source": [
    "# Parse the salary columns\n",
    "\n",
    "# Remove dollar sign and comma\n",
    "for col in ['SalaryLower', 'SalaryUpper']:\n",
    "    data[col] = [re.sub('[$,]', '', text) for text in data[col]]\n",
    "    \n",
    "# Extracting the text and placing into a new column 'SalaryType\n",
    "data['SalaryType'] = data['SalaryUpper'].apply(lambda x: re.search('\\D+', x).group())\n",
    "\n",
    "# Extracting only the numerical value for the SalaryUpper column\n",
    "data['SalaryUpper'] = data['SalaryUpper'].apply(lambda x: re.match('\\d*', x).group())\n",
    "\n",
    "# Replacing the text 'Salary undisclosed' with NaN\n",
    "data[['SalaryLower', 'SalaryType']] = data[['SalaryLower', 'SalaryType']].replace('Salary undisclosed', np.nan)\n",
    "\n",
    "# Replacing '' in SalaryUpper with NaN\n",
    "data['SalaryUpper'] = data['SalaryUpper'].replace('', np.nan)\n",
    "\n",
    "# Set the salary columns to numeric\n",
    "data[['SalaryLower', 'SalaryUpper']] = data[['SalaryLower', 'SalaryUpper']].astype('float32')\n",
    "\n",
    "# Convert the annual salary data into monthly salary data\n",
    "data.loc[data['SalaryType']=='Annually', ['SalaryLower', 'SalaryUpper']] = \\\n",
    "data[data['SalaryType']=='Annually'][['SalaryLower', 'SalaryUpper']].apply(lambda x: x/12)\n",
    "\n",
    "# Update the SalaryType to monthly\n",
    "data.loc[data['SalaryType']=='Annually', 'SalaryType'] = 'Monthly'\n",
    "\n",
    "# Create SalaryMean which is the mean of SalaryLower and SalaryUpper\n",
    "data['SalaryMean'] = (data['SalaryLower'] + data['SalaryUpper']) / 2."
   ]
  },
  {
   "cell_type": "code",
   "execution_count": 4,
   "metadata": {},
   "outputs": [
    {
     "data": {
      "text/plain": [
       "Full Time                                                            252\n",
       "Contract, Full Time                                                  151\n",
       "Permanent, Full Time                                                 125\n",
       "Permanent                                                            125\n",
       "Contract                                                              78\n",
       "Permanent, Contract                                                   12\n",
       "Permanent, Contract, Full Time                                         8\n",
       "Temporary                                                              4\n",
       "Freelance                                                              4\n",
       "Internship                                                             3\n",
       "Part Time, Contract, Flexi work                                        2\n",
       "Freelance, Flexi work                                                  2\n",
       "Part Time, Contract                                                    1\n",
       "Part Time, Permanent, Temporary, Contract, Flexi work, Internship      1\n",
       "Full Time, Internship                                                  1\n",
       "Permanent, Temporary, Full Time, Internship                            1\n",
       "Temporary, Contract, Full Time                                         1\n",
       "Name: EmploymentType, dtype: int64"
      ]
     },
     "execution_count": 4,
     "metadata": {},
     "output_type": "execute_result"
    }
   ],
   "source": [
    "data['EmploymentType'].value_counts()\n",
    "\n",
    "# Exclude all those job listings that are temporary, freelance, internship"
   ]
  },
  {
   "cell_type": "code",
   "execution_count": 5,
   "metadata": {},
   "outputs": [],
   "source": [
    "# Create a list of those Employment Types to drop\n",
    "emp_type_list = data['EmploymentType'].value_counts().index[7::]\n",
    "\n",
    "# Iterate through each Employment Type and exclude them\n",
    "for emp_type in emp_type_list:\n",
    "    data = data[data['EmploymentType'] != emp_type].copy()"
   ]
  },
  {
   "cell_type": "code",
   "execution_count": 6,
   "metadata": {},
   "outputs": [],
   "source": [
    "# Combine RoleDesc and Requirements\n",
    "data['JD'] = data['RoleDesc'] + ' ' + data['Requirements']"
   ]
  },
  {
   "cell_type": "code",
   "execution_count": 7,
   "metadata": {},
   "outputs": [],
   "source": [
    "# Parse dummy variables for columns, JobCategories, EmploymentType, Seniority\n",
    "col_list = ['JobCategories', 'EmploymentType', 'Seniority']\n",
    "\n",
    "for col in col_list:\n",
    "    value_list = data[col].unique()\n",
    "    value_list = [value.split(',') for value in value_list]\n",
    "    value_list = list(itertools.chain(*value_list))\n",
    "    value_list = [str.strip(value) for value in value_list]\n",
    "    value_list = np.unique(value_list)\n",
    "    \n",
    "    # Create dummy variables for the column\n",
    "    for value in value_list:\n",
    "        data.loc[data[col].str.contains(value), value] = 1\n",
    "        \n",
    "    # Replace NaN with zero\n",
    "    data[value_list] = data[value_list].fillna(value=0)\n",
    "    "
   ]
  },
  {
   "cell_type": "markdown",
   "metadata": {},
   "source": [
    "## Question 1"
   ]
  },
  {
   "cell_type": "code",
   "execution_count": 8,
   "metadata": {},
   "outputs": [
    {
     "data": {
      "text/plain": [
       "<matplotlib.axes._subplots.AxesSubplot at 0x106a1e10>"
      ]
     },
     "execution_count": 8,
     "metadata": {},
     "output_type": "execute_result"
    },
    {
     "data": {
      "image/png": "[encoded data removed]",
      "text/plain": [
       "<Figure size 1296x432 with 2 Axes>"
      ]
     },
     "metadata": {},
     "output_type": "display_data"
    }
   ],
   "source": [
    "# Look at the distribution of SalaryMean\n",
    "fig = plt.figure(figsize=(18,6))\n",
    "ax1 = fig.add_subplot(121)\n",
    "data['SalaryMean'].hist(ax=ax1, bins=15)\n",
    "ax2 = fig.add_subplot(122)\n",
    "data.boxplot(column='SalaryMean', ax=ax2)\n",
    "\n",
    "# There appears to be many outliers with very high salary levels"
   ]
  },
  {
   "cell_type": "code",
   "execution_count": 9,
   "metadata": {},
   "outputs": [
    {
     "name": "stdout",
     "output_type": "stream",
     "text": [
      "3125.0 6500.0\n"
     ]
    }
   ],
   "source": [
    "# Calculating the Inter-Quartile Range and the median in order to exclude outliers\n",
    "\n",
    "iqr = np.percentile(data[~data['SalaryMean'].isnull()]['SalaryMean'], 75) - \\\n",
    "np.percentile(data[~data['SalaryMean'].isnull()]['SalaryMean'], 25)\n",
    "\n",
    "sal_median = np.percentile(data[~data['SalaryMean'].isnull()]['SalaryMean'], 50)\n",
    "\n",
    "print iqr, sal_median"
   ]
  },
  {
   "cell_type": "code",
   "execution_count": 10,
   "metadata": {},
   "outputs": [],
   "source": [
    "# Copy into a new dataframe the rows whereby salary is not null and also not an outlier (greater than 1.5 IQR)\n",
    "data2 = data[(~data['SalaryMean'].isnull()) & (data['SalaryMean']<=(1.5*iqr+sal_median))].copy()"
   ]
  },
  {
   "cell_type": "code",
   "execution_count": 11,
   "metadata": {},
   "outputs": [
    {
     "data": {
      "text/plain": [
       "<matplotlib.axes._subplots.AxesSubplot at 0x108c7eb8>"
      ]
     },
     "execution_count": 11,
     "metadata": {},
     "output_type": "execute_result"
    },
    {
     "data": {
      "image/png": "[encoded data removed]",
      "text/plain": [
       "<Figure size 1296x432 with 2 Axes>"
      ]
     },
     "metadata": {},
     "output_type": "display_data"
    }
   ],
   "source": [
    "# Check the distribution of SalaryMean\n",
    "fig = plt.figure(figsize=(18,6))\n",
    "ax1 = fig.add_subplot(121)\n",
    "data2['SalaryMean'].hist(ax=ax1, bins=15)\n",
    "ax2 = fig.add_subplot(122)\n",
    "data2.boxplot(column='SalaryMean', ax=ax2)\n",
    "\n",
    "# The distribution looks better now"
   ]
  },
  {
   "cell_type": "code",
   "execution_count": 12,
   "metadata": {},
   "outputs": [],
   "source": [
    "# Create the classification label - 1 for salary above median and 0 for equal and below\n",
    "data2['SalaryLabel'] = data2['SalaryMean'].apply(lambda x: 1 if x > data2['SalaryMean'].median() else 0)"
   ]
  },
  {
   "cell_type": "code",
   "execution_count": 13,
   "metadata": {},
   "outputs": [],
   "source": [
    "# check correlation of dummy variables with target\n",
    "\n",
    "sector_var = pd.concat([data2.iloc[:,15:47].copy(), data2['SalaryLabel']], axis=1)\n",
    "emptype_var = pd.concat([data2.iloc[:,47:50].copy(), data2['SalaryLabel']], axis=1)\n",
    "senior_var = pd.concat([data2.iloc[:,50::].copy(), data2['SalaryLabel']], axis=1)"
   ]
  },
  {
   "cell_type": "code",
   "execution_count": 14,
   "metadata": {},
   "outputs": [
    {
     "data": {
      "text/plain": [
       "<matplotlib.axes._subplots.AxesSubplot at 0x10b2d240>"
      ]
     },
     "execution_count": 14,
     "metadata": {},
     "output_type": "execute_result"
    },
    {
     "data": {
      "image/png": "[encoded data removed]",
      "text/plain": [
       "<Figure size 720x432 with 2 Axes>"
      ]
     },
     "metadata": {},
     "output_type": "display_data"
    }
   ],
   "source": [
    "fig = plt.figure(figsize=(10,6))\n",
    "sns.heatmap(senior_var.corr(), annot=True)\n",
    "\n",
    "# the seniority features have little correlation with the target variable SalaryLabel"
   ]
  },
  {
   "cell_type": "code",
   "execution_count": 15,
   "metadata": {},
   "outputs": [
    {
     "data": {
      "text/plain": [
       "<matplotlib.axes._subplots.AxesSubplot at 0xe490cf8>"
      ]
     },
     "execution_count": 15,
     "metadata": {},
     "output_type": "execute_result"
    },
    {
     "data": {
      "image/png": "[encoded data removed]",
      "text/plain": [
       "<Figure size 720x432 with 2 Axes>"
      ]
     },
     "metadata": {},
     "output_type": "display_data"
    }
   ],
   "source": [
    "fig = plt.figure(figsize=(10,6))\n",
    "sns.heatmap(emptype_var.corr(), annot=True)\n",
    "\n",
    "# the EmploymentType features have little correlation with the target variable SalaryLabel"
   ]
  },
  {
   "cell_type": "code",
   "execution_count": 16,
   "metadata": {
    "scrolled": true
   },
   "outputs": [
    {
     "name": "stdout",
     "output_type": "stream",
     "text": [
      "Admin / Secretarial                 -0.055813\n",
      "Advertising / Media                 -0.011226\n",
      "Banking and Finance                  0.039272\n",
      "Building and Construction            0.000500\n",
      "Consulting                          -0.032957\n",
      "Customer Service                    -0.104832\n",
      "Design                              -0.022515\n",
      "Education and Training              -0.099394\n",
      "Engineering                         -0.030246\n",
      "Environment / Health                 0.000353\n",
      "Events / Promotions                       NaN\n",
      "F&B                                  0.141577\n",
      "General Management                  -0.031917\n",
      "Healthcare / Pharmaceutical          0.080058\n",
      "Human Resources                      0.069277\n",
      "Information Technology              -0.028631\n",
      "Insurance                           -0.059469\n",
      "Logistics / Supply Chain             0.028927\n",
      "Manufacturing                       -0.017244\n",
      "Marketing / Public Relations         0.000795\n",
      "Others                               0.055975\n",
      "Personal Care / Beauty                    NaN\n",
      "Professional Services                0.000500\n",
      "Public / Civil Service              -0.083942\n",
      "Real Estate / Property Management   -0.068411\n",
      "Repair and Maintenance              -0.039435\n",
      "Risk Management                     -0.055813\n",
      "Sales / Retail                       0.018364\n",
      "Sciences / Laboratory / R&D         -0.134523\n",
      "Telecommunications                   0.033144\n",
      "Travel / Tourism                    -0.039435\n",
      "Contract                            -0.079975\n",
      "SalaryLabel                          1.000000\n",
      "Name: SalaryLabel, dtype: float64\n"
     ]
    }
   ],
   "source": [
    "sector_corr = sector_var.corr()\n",
    "print sector_corr.iloc[:, -1]\n",
    "\n",
    "# the sector features have little correlation with the target variable SalaryLabel"
   ]
  },
  {
   "cell_type": "markdown",
   "metadata": {},
   "source": [
    "Since the other features are not highly correlated to the salary classification labels, will use only the job description and job requirements."
   ]
  },
  {
   "cell_type": "code",
   "execution_count": 17,
   "metadata": {},
   "outputs": [],
   "source": [
    "# Setting up the predictor and target variables\n",
    "x = data2['JD'].copy()\n",
    "y = data2['SalaryLabel'].copy()"
   ]
  },
  {
   "cell_type": "code",
   "execution_count": 18,
   "metadata": {},
   "outputs": [],
   "source": [
    "# Splitting the data into train and test groups\n",
    "x_train, x_test, y_train, y_test = train_test_split(x, y, test_size=0.3, random_state=29)"
   ]
  },
  {
   "cell_type": "markdown",
   "metadata": {},
   "source": [
    "## Try first model of LogisticRegression to predict if the salary of a job posting will be above median or below median  \n",
    "Start with Logistic Regression as it is a simple classification model"
   ]
  },
  {
   "cell_type": "code",
   "execution_count": 19,
   "metadata": {},
   "outputs": [
    {
     "data": {
      "text/plain": [
       "LogisticRegression(C=1.0, class_weight=None, dual=False, fit_intercept=True,\n",
       "          intercept_scaling=1, max_iter=100, multi_class='ovr', n_jobs=1,\n",
       "          penalty='l2', random_state=29, solver='liblinear', tol=0.0001,\n",
       "          verbose=0, warm_start=False)"
      ]
     },
     "execution_count": 19,
     "metadata": {},
     "output_type": "execute_result"
    }
   ],
   "source": [
    "# First model of Logistic Regression\n",
    "\n",
    "# Count vectorise the x_train which is job description and job requirements\n",
    "cvt = CountVectorizer(ngram_range=(1,4))\n",
    "tokens_train = pd.DataFrame(cvt.fit_transform(x_train).todense(), columns=cvt.get_feature_names())\n",
    "\n",
    "# Count vectorise the x_test using the same trained CountVectorizer\n",
    "tokens_test = pd.DataFrame(cvt.transform(x_test).todense(), columns=cvt.get_feature_names())\n",
    "\n",
    "lr = LogisticRegression(random_state=29)\n",
    "lr.fit(tokens_train, y_train)"
   ]
  },
  {
   "cell_type": "code",
   "execution_count": 20,
   "metadata": {},
   "outputs": [
    {
     "name": "stderr",
     "output_type": "stream",
     "text": [
      "[Parallel(n_jobs=-1)]: Done   2 out of   5 | elapsed:   13.1s remaining:   19.7s\n",
      "[Parallel(n_jobs=-1)]: Done   5 out of   5 | elapsed:   17.6s finished\n"
     ]
    },
    {
     "name": "stdout",
     "output_type": "stream",
     "text": [
      "Cross validation score: [0.68888889 0.67777778 0.64044944 0.61363636 0.67045455]\n",
      "Mean score: 0.658241402792\n",
      "Score on test data: 0.659685863874\n"
     ]
    }
   ],
   "source": [
    "# Cross-validate the Logistic Regression model\n",
    "scores = cross_val_score(lr, tokens_train, y_train, cv=5, n_jobs=-1, verbose=1)\n",
    "print('Cross validation score: {}'.format(scores))\n",
    "print('Mean score: {}'.format(np.mean(scores)))\n",
    "\n",
    "# Score on test data\n",
    "print('Score on test data: {}'.format(lr.score(tokens_test, y_test)))"
   ]
  },
  {
   "cell_type": "code",
   "execution_count": 21,
   "metadata": {},
   "outputs": [],
   "source": [
    "# Extract the coefficients of the Logistic Regression against the tokens\n",
    "lr_coef = pd.DataFrame({'tokens':tokens_train.columns, 'lr_coef':lr.coef_[0]})"
   ]
  },
  {
   "cell_type": "code",
   "execution_count": 22,
   "metadata": {},
   "outputs": [
    {
     "data": {
      "text/html": [
       "<div>\n",
       "<style scoped>\n",
       "    .dataframe tbody tr th:only-of-type {\n",
       "        vertical-align: middle;\n",
       "    }\n",
       "\n",
       "    .dataframe tbody tr th {\n",
       "        vertical-align: top;\n",
       "    }\n",
       "\n",
       "    .dataframe thead th {\n",
       "        text-align: right;\n",
       "    }\n",
       "</style>\n",
       "<table border=\"1\" class=\"dataframe\">\n",
       "  <thead>\n",
       "    <tr style=\"text-align: right;\">\n",
       "      <th></th>\n",
       "      <th>lr_coef</th>\n",
       "      <th>tokens</th>\n",
       "    </tr>\n",
       "  </thead>\n",
       "  <tbody>\n",
       "    <tr>\n",
       "      <th>187428</th>\n",
       "      <td>0.254700</td>\n",
       "      <td>sr</td>\n",
       "    </tr>\n",
       "    <tr>\n",
       "      <th>187432</th>\n",
       "      <td>0.243766</td>\n",
       "      <td>sr associate</td>\n",
       "    </tr>\n",
       "    <tr>\n",
       "      <th>123754</th>\n",
       "      <td>0.180030</td>\n",
       "      <td>managers</td>\n",
       "    </tr>\n",
       "    <tr>\n",
       "      <th>151630</th>\n",
       "      <td>0.178798</td>\n",
       "      <td>phd</td>\n",
       "    </tr>\n",
       "    <tr>\n",
       "      <th>173483</th>\n",
       "      <td>0.175271</td>\n",
       "      <td>risk</td>\n",
       "    </tr>\n",
       "    <tr>\n",
       "      <th>39834</th>\n",
       "      <td>0.168723</td>\n",
       "      <td>by</td>\n",
       "    </tr>\n",
       "    <tr>\n",
       "      <th>84541</th>\n",
       "      <td>0.163533</td>\n",
       "      <td>for</td>\n",
       "    </tr>\n",
       "    <tr>\n",
       "      <th>220118</th>\n",
       "      <td>0.161043</td>\n",
       "      <td>users minimum</td>\n",
       "    </tr>\n",
       "    <tr>\n",
       "      <th>209352</th>\n",
       "      <td>0.161043</td>\n",
       "      <td>to business users minimum</td>\n",
       "    </tr>\n",
       "    <tr>\n",
       "      <th>220119</th>\n",
       "      <td>0.161043</td>\n",
       "      <td>users minimum diploma</td>\n",
       "    </tr>\n",
       "    <tr>\n",
       "      <th>39544</th>\n",
       "      <td>0.161043</td>\n",
       "      <td>business users minimum</td>\n",
       "    </tr>\n",
       "    <tr>\n",
       "      <th>39545</th>\n",
       "      <td>0.161043</td>\n",
       "      <td>business users minimum diploma</td>\n",
       "    </tr>\n",
       "    <tr>\n",
       "      <th>220120</th>\n",
       "      <td>0.161043</td>\n",
       "      <td>users minimum diploma in</td>\n",
       "    </tr>\n",
       "    <tr>\n",
       "      <th>78212</th>\n",
       "      <td>0.159359</td>\n",
       "      <td>experience</td>\n",
       "    </tr>\n",
       "    <tr>\n",
       "      <th>91256</th>\n",
       "      <td>0.159259</td>\n",
       "      <td>good</td>\n",
       "    </tr>\n",
       "    <tr>\n",
       "      <th>61026</th>\n",
       "      <td>0.155478</td>\n",
       "      <td>delivery</td>\n",
       "    </tr>\n",
       "    <tr>\n",
       "      <th>57914</th>\n",
       "      <td>0.142697</td>\n",
       "      <td>data science</td>\n",
       "    </tr>\n",
       "    <tr>\n",
       "      <th>8327</th>\n",
       "      <td>0.136304</td>\n",
       "      <td>analysis</td>\n",
       "    </tr>\n",
       "    <tr>\n",
       "      <th>44331</th>\n",
       "      <td>0.131654</td>\n",
       "      <td>client</td>\n",
       "    </tr>\n",
       "    <tr>\n",
       "      <th>184424</th>\n",
       "      <td>0.130592</td>\n",
       "      <td>solutions</td>\n",
       "    </tr>\n",
       "  </tbody>\n",
       "</table>\n",
       "</div>"
      ],
      "text/plain": [
       "         lr_coef                          tokens\n",
       "187428  0.254700                              sr\n",
       "187432  0.243766                    sr associate\n",
       "123754  0.180030                        managers\n",
       "151630  0.178798                             phd\n",
       "173483  0.175271                            risk\n",
       "39834   0.168723                              by\n",
       "84541   0.163533                             for\n",
       "220118  0.161043                   users minimum\n",
       "209352  0.161043       to business users minimum\n",
       "220119  0.161043           users minimum diploma\n",
       "39544   0.161043          business users minimum\n",
       "39545   0.161043  business users minimum diploma\n",
       "220120  0.161043        users minimum diploma in\n",
       "78212   0.159359                      experience\n",
       "91256   0.159259                            good\n",
       "61026   0.155478                        delivery\n",
       "57914   0.142697                    data science\n",
       "8327    0.136304                        analysis\n",
       "44331   0.131654                          client\n",
       "184424  0.130592                       solutions"
      ]
     },
     "execution_count": 22,
     "metadata": {},
     "output_type": "execute_result"
    }
   ],
   "source": [
    "# Sort the tokens by descending order of the regression coefficients\n",
    "lr_coef = lr_coef.sort_values(by='lr_coef', axis=0, ascending=False)\n",
    "\n",
    "# Identify the top 20 features which are most important to predict the classification of salary above median\n",
    "lr_coef.head(20)"
   ]
  },
  {
   "cell_type": "markdown",
   "metadata": {},
   "source": [
    "The top few tokens like \"sr\" for senior, senior associate, managers make sense in predicting higher salaries as they are for more experienced positions, \"phd\" also makes sense as jobs that require higher qualifications normally pay more. However it is surprising to have words like \"by\" and \"for\" that show up in the top 20 features"
   ]
  },
  {
   "cell_type": "code",
   "execution_count": 23,
   "metadata": {},
   "outputs": [
    {
     "name": "stdout",
     "output_type": "stream",
     "text": [
      "              precision    recall  f1-score   support\n",
      "\n",
      "Below Median       0.61      0.70      0.66        88\n",
      "Above Median       0.71      0.62      0.66       103\n",
      "\n",
      " avg / total       0.67      0.66      0.66       191\n",
      "\n"
     ]
    }
   ],
   "source": [
    "print(classification_report(y_test, lr.predict(tokens_test), labels=[0,1], target_names=['Below Median', 'Above Median']))\n",
    "\n",
    "# The model predicts reasonably well at f1-score of 0.66 though it's not fantastic for a simple 2 class model"
   ]
  },
  {
   "cell_type": "code",
   "execution_count": 24,
   "metadata": {},
   "outputs": [
    {
     "name": "stdout",
     "output_type": "stream",
     "text": [
      "Fitting 3 folds for each of 9 candidates, totalling 27 fits\n"
     ]
    },
    {
     "name": "stderr",
     "output_type": "stream",
     "text": [
      "[Parallel(n_jobs=-1)]: Done  27 out of  27 | elapsed: 19.2min finished\n"
     ]
    },
    {
     "data": {
      "text/plain": [
       "GridSearchCV(cv=3, error_score='raise',\n",
       "       estimator=LogisticRegression(C=1.0, class_weight=None, dual=False, fit_intercept=True,\n",
       "          intercept_scaling=1, max_iter=100, multi_class='ovr', n_jobs=1,\n",
       "          penalty='l2', random_state=29, solver='liblinear', tol=0.0001,\n",
       "          verbose=0, warm_start=False),\n",
       "       fit_params=None, iid=True, n_jobs=-1,\n",
       "       param_grid={'C': [0.2, 0.6, 1.0], 'solver': ['newton-cg', 'lbfgs', 'sag']},\n",
       "       pre_dispatch='2*n_jobs', refit=True, return_train_score='warn',\n",
       "       scoring=None, verbose=1)"
      ]
     },
     "execution_count": 24,
     "metadata": {},
     "output_type": "execute_result"
    }
   ],
   "source": [
    "# Tuning of LogisticRegression model for better results\n",
    "params = {\n",
    "    'C' : [0.2, 0.6, 1.0],\n",
    "    'solver' : ['newton-cg', 'lbfgs', 'sag']\n",
    "}\n",
    "\n",
    "lr_gs = GridSearchCV(lr, param_grid=params, cv=3, n_jobs=-1, verbose=1)\n",
    "lr_gs.fit(tokens_train, y_train)"
   ]
  },
  {
   "cell_type": "code",
   "execution_count": 25,
   "metadata": {},
   "outputs": [
    {
     "name": "stdout",
     "output_type": "stream",
     "text": [
      "{'C': 0.2, 'solver': 'newton-cg'}\n",
      "0.6539325842696629\n"
     ]
    }
   ],
   "source": [
    "print(lr_gs.best_params_)\n",
    "print(lr_gs.best_score_)"
   ]
  },
  {
   "cell_type": "code",
   "execution_count": 39,
   "metadata": {},
   "outputs": [
    {
     "name": "stdout",
     "output_type": "stream",
     "text": [
      "Score on test data: 0.664921465969\n"
     ]
    }
   ],
   "source": [
    "# Score test data with tuned parameters \n",
    "lr2 = LogisticRegression(C=lr_gs.best_params_['C'], solver=lr_gs.best_params_['solver'], random_state=29)\n",
    "lr2.fit(tokens_train, y_train)\n",
    "\n",
    "# Score on test data\n",
    "print('Score on test data: {}'.format(lr2.score(tokens_test, y_test)))"
   ]
  },
  {
   "cell_type": "code",
   "execution_count": 40,
   "metadata": {},
   "outputs": [
    {
     "name": "stdout",
     "output_type": "stream",
     "text": [
      "              precision    recall  f1-score   support\n",
      "\n",
      "Below Median       0.62      0.73      0.67        88\n",
      "Above Median       0.72      0.61      0.66       103\n",
      "\n",
      " avg / total       0.67      0.66      0.66       191\n",
      "\n"
     ]
    }
   ],
   "source": [
    "print(classification_report(y_test, lr2.predict(tokens_test), labels=[0,1], target_names=['Below Median', 'Above Median']))\n",
    "\n",
    "# F1 score only improved marginally for Below Median class"
   ]
  },
  {
   "cell_type": "code",
   "execution_count": 30,
   "metadata": {},
   "outputs": [
    {
     "name": "stderr",
     "output_type": "stream",
     "text": [
      "[Parallel(n_jobs=-1)]: Done   6 out of  10 | elapsed:    0.5s remaining:    0.3s\n",
      "[Parallel(n_jobs=-1)]: Done  10 out of  10 | elapsed:    0.7s finished\n"
     ]
    },
    {
     "data": {
      "text/plain": [
       "RandomForestClassifier(bootstrap=True, class_weight=None, criterion='gini',\n",
       "            max_depth=None, max_features='auto', max_leaf_nodes=None,\n",
       "            min_impurity_decrease=0.0, min_impurity_split=None,\n",
       "            min_samples_leaf=1, min_samples_split=2,\n",
       "            min_weight_fraction_leaf=0.0, n_estimators=10, n_jobs=-1,\n",
       "            oob_score=False, random_state=29, verbose=1, warm_start=False)"
      ]
     },
     "execution_count": 30,
     "metadata": {},
     "output_type": "execute_result"
    }
   ],
   "source": [
    "# Second model of RandomForest\n",
    "rfc = RandomForestClassifier(n_jobs=-1, random_state=29, verbose=1)\n",
    "rfc.fit(tokens_train, y_train)\n"
   ]
  },
  {
   "cell_type": "code",
   "execution_count": 31,
   "metadata": {},
   "outputs": [
    {
     "name": "stdout",
     "output_type": "stream",
     "text": [
      "Cross validation score: [0.65555556 0.66666667 0.69662921 0.55681818 0.63636364]\n",
      "Mean score: 0.642406650777\n",
      "Score on test data: 0.570680628272\n"
     ]
    },
    {
     "name": "stderr",
     "output_type": "stream",
     "text": [
      "[Parallel(n_jobs=8)]: Done   6 out of  10 | elapsed:    0.0s remaining:    0.0s\n",
      "[Parallel(n_jobs=8)]: Done  10 out of  10 | elapsed:    0.0s finished\n"
     ]
    }
   ],
   "source": [
    "# Cross-validate the RandomForest model\n",
    "scores = cross_val_score(rfc, tokens_train, y_train, cv=5, n_jobs=-1)\n",
    "print('Cross validation score: {}'.format(scores))\n",
    "print('Mean score: {}'.format(np.mean(scores)))\n",
    "\n",
    "# Score on test data\n",
    "print('Score on test data: {}'.format(rfc.score(tokens_test, y_test)))\n"
   ]
  },
  {
   "cell_type": "code",
   "execution_count": 32,
   "metadata": {},
   "outputs": [
    {
     "name": "stdout",
     "output_type": "stream",
     "text": [
      "              precision    recall  f1-score   support\n",
      "\n",
      "Below Median       0.52      0.82      0.64        88\n",
      "Above Median       0.70      0.36      0.47       103\n",
      "\n",
      " avg / total       0.62      0.57      0.55       191\n",
      "\n"
     ]
    },
    {
     "name": "stderr",
     "output_type": "stream",
     "text": [
      "[Parallel(n_jobs=8)]: Done   6 out of  10 | elapsed:    0.0s remaining:    0.0s\n",
      "[Parallel(n_jobs=8)]: Done  10 out of  10 | elapsed:    0.0s finished\n"
     ]
    }
   ],
   "source": [
    "print(classification_report(y_test, rfc.predict(tokens_test), labels=[0,1], target_names=['Below Median', 'Above Median']))\n",
    "\n",
    "# The random forest classifier performs even worse than Logistic Regression in predicting above median salaries. Probably\n",
    "# some pruning of the decision trees is required to improve the performance."
   ]
  },
  {
   "cell_type": "code",
   "execution_count": 41,
   "metadata": {},
   "outputs": [
    {
     "name": "stdout",
     "output_type": "stream",
     "text": [
      "Fitting 3 folds for each of 40 candidates, totalling 120 fits\n"
     ]
    },
    {
     "name": "stderr",
     "output_type": "stream",
     "text": [
      "[Parallel(n_jobs=-1)]: Done  34 tasks      | elapsed:  1.2min\n",
      "[Parallel(n_jobs=-1)]: Done 120 out of 120 | elapsed:  4.1min finished\n",
      "[Parallel(n_jobs=-1)]: Done   7 out of   7 | elapsed:    0.0s finished\n"
     ]
    },
    {
     "data": {
      "text/plain": [
       "GridSearchCV(cv=3, error_score='raise',\n",
       "       estimator=RandomForestClassifier(bootstrap=True, class_weight=None, criterion='gini',\n",
       "            max_depth=3, max_features='auto', max_leaf_nodes=None,\n",
       "            min_impurity_decrease=0.0, min_impurity_split=None,\n",
       "            min_samples_leaf=1, min_samples_split=2,\n",
       "            min_weight_fraction_leaf=0.0, n_estimators=7, n_jobs=-1,\n",
       "            oob_score=False, random_state=29, verbose=1, warm_start=False),\n",
       "       fit_params=None, iid=True, n_jobs=-1,\n",
       "       param_grid={'n_estimators': [1, 3, 5, 7, 9], 'criterion': ['gini', 'entropy'], 'max_depth': [1, 2, 3, None]},\n",
       "       pre_dispatch='2*n_jobs', refit=True, return_train_score='warn',\n",
       "       scoring=None, verbose=1)"
      ]
     },
     "execution_count": 41,
     "metadata": {},
     "output_type": "execute_result"
    }
   ],
   "source": [
    "# Tuning of RandomForest model for better results\n",
    "params = {\n",
    "    'n_estimators' : range(1, 11, 2),\n",
    "    'criterion' : ['gini', 'entropy'],\n",
    "    'max_depth' : [1, 2, 3, None]\n",
    "}\n",
    "\n",
    "rf_gs = GridSearchCV(rfc, param_grid=params, cv=3, n_jobs=-1, verbose=1)\n",
    "rf_gs.fit(tokens_train, y_train)"
   ]
  },
  {
   "cell_type": "code",
   "execution_count": 42,
   "metadata": {},
   "outputs": [
    {
     "name": "stdout",
     "output_type": "stream",
     "text": [
      "{'n_estimators': 7, 'criterion': 'gini', 'max_depth': 3}\n",
      "0.6179775280898876\n"
     ]
    }
   ],
   "source": [
    "print(rf_gs.best_params_)\n",
    "print(rf_gs.best_score_)"
   ]
  },
  {
   "cell_type": "code",
   "execution_count": 43,
   "metadata": {},
   "outputs": [
    {
     "name": "stderr",
     "output_type": "stream",
     "text": [
      "[Parallel(n_jobs=-1)]: Done   7 out of   7 | elapsed:    0.0s finished\n"
     ]
    },
    {
     "name": "stdout",
     "output_type": "stream",
     "text": [
      "Score on test data: 0.544502617801\n"
     ]
    },
    {
     "name": "stderr",
     "output_type": "stream",
     "text": [
      "[Parallel(n_jobs=7)]: Done   7 out of   7 | elapsed:    0.0s finished\n"
     ]
    }
   ],
   "source": [
    "# Score test data with tuned parameters \n",
    "rfc2 = RandomForestClassifier(n_estimators=rf_gs.best_params_['n_estimators'], \\\n",
    "                              criterion=rf_gs.best_params_['criterion'], \\\n",
    "                              max_depth=rf_gs.best_params_['max_depth'], n_jobs=-1, random_state=29, verbose=1)\n",
    "rfc2.fit(tokens_train, y_train)\n",
    "\n",
    "print('Score on test data: {}'.format(rfc2.score(tokens_test, y_test)))\n",
    "\n",
    "# Accuracy improved slightly to be almost the same as Logistic Regression"
   ]
  },
  {
   "cell_type": "code",
   "execution_count": 44,
   "metadata": {},
   "outputs": [
    {
     "name": "stdout",
     "output_type": "stream",
     "text": [
      "              precision    recall  f1-score   support\n",
      "\n",
      "Below Median       0.50      0.77      0.61        88\n",
      "Above Median       0.64      0.35      0.45       103\n",
      "\n",
      " avg / total       0.58      0.54      0.53       191\n",
      "\n"
     ]
    },
    {
     "name": "stderr",
     "output_type": "stream",
     "text": [
      "[Parallel(n_jobs=7)]: Done   7 out of   7 | elapsed:    0.0s finished\n"
     ]
    }
   ],
   "source": [
    "print(classification_report(y_test, rfc2.predict(tokens_test), labels=[0,1], target_names=['Below Median', 'Above Median']))\n"
   ]
  },
  {
   "cell_type": "markdown",
   "metadata": {},
   "source": [
    "## Question 2\n",
    "Set up the target variable as IT sector versus non-IT sector jobs and build a classification model  \n",
    "to predict it"
   ]
  },
  {
   "cell_type": "code",
   "execution_count": null,
   "metadata": {},
   "outputs": [],
   "source": [
    "# Set up y variable to the binary column \"Information Technology\"\n",
    "x2 = data['JD'].copy()\n",
    "y2 = data['Information Technology'].copy()"
   ]
  },
  {
   "cell_type": "code",
   "execution_count": null,
   "metadata": {},
   "outputs": [],
   "source": [
    "# Split the data into train and test\n",
    "x2_train, x2_test, y2_train, y2_test = train_test_split(x2, y2, test_size=0.3, random_state=29)"
   ]
  },
  {
   "cell_type": "code",
   "execution_count": null,
   "metadata": {},
   "outputs": [],
   "source": [
    "# Tokenise the x2_train\n",
    "cvt2 = CountVectorizer(ngram_range=(1,4))\n",
    "tokens2_train = pd.DataFrame(cvt2.fit_transform(x2_train).todense(), columns=cvt2.get_feature_names())\n",
    "\n",
    "# Tokenise the x2_test using the same trained CountVectorizer\n",
    "tokens2_test = pd.DataFrame(cvt2.transform(x2_test).todense(), columns=cvt2.get_feature_names())\n",
    "\n",
    "lr2 = LogisticRegression(random_state=29)\n",
    "lr2.fit(tokens2_train, y2_train)"
   ]
  },
  {
   "cell_type": "code",
   "execution_count": null,
   "metadata": {},
   "outputs": [],
   "source": [
    "# Cross-validate the Logistic Regression model\n",
    "scores = cross_val_score(lr2, tokens2_train, y2_train, cv=5, n_jobs=-1, verbose=1)\n",
    "print('Cross validation score: {}'.format(scores))\n",
    "print('Mean score: {}'.format(np.mean(scores)))\n",
    "\n",
    "# Score on test data\n",
    "print('Score on test data: {}'.format(lr2.score(tokens2_test, y2_test)))"
   ]
  },
  {
   "cell_type": "code",
   "execution_count": null,
   "metadata": {},
   "outputs": [],
   "source": [
    "print(classification_report(y2_test, lr2.predict(tokens2_test), labels=[0,1], target_names=['Non-IT sector', 'IT sector']))\n"
   ]
  },
  {
   "cell_type": "code",
   "execution_count": null,
   "metadata": {},
   "outputs": [],
   "source": [
    "# Try RandomForestClassifier to compare the performance\n",
    "\n",
    "rfc2 = RandomForestClassifier(n_jobs=-1, random_state=29, verbose=1)\n",
    "rfc2.fit(tokens2_train, y2_train)"
   ]
  },
  {
   "cell_type": "code",
   "execution_count": null,
   "metadata": {},
   "outputs": [],
   "source": [
    "# Cross-validate the RandomForest model\n",
    "scores = cross_val_score(rfc2, tokens2_train, y2_train, cv=5, n_jobs=-1)\n",
    "print('Cross validation score: {}'.format(scores))\n",
    "print('Mean score: {}'.format(np.mean(scores)))\n",
    "\n",
    "# Score on test data\n",
    "print('Score on test data: {}'.format(rfc2.score(tokens2_test, y2_test)))\n"
   ]
  },
  {
   "cell_type": "code",
   "execution_count": null,
   "metadata": {},
   "outputs": [],
   "source": [
    "print(classification_report(y2_test, rfc2.predict(tokens2_test), labels=[0,1], target_names=['Non-IT sector', 'IT sector']))\n"
   ]
  }
 ],
 "metadata": {
  "kernelspec": {
   "display_name": "Python [conda root]",
   "language": "python",
   "name": "conda-root-py"
  },
  "language_info": {
   "codemirror_mode": {
    "name": "ipython",
    "version": 2
   },
   "file_extension": ".py",
   "mimetype": "text/x-python",
   "name": "python",
   "nbconvert_exporter": "python",
   "pygments_lexer": "ipython2",
   "version": "2.7.14"
  }
 },
 "nbformat": 4,
 "nbformat_minor": 2
}

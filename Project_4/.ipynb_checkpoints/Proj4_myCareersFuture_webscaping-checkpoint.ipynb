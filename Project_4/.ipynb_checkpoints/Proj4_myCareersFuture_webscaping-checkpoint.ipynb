{
 "cells": [
  {
   "cell_type": "code",
   "execution_count": 1,
   "metadata": {},
   "outputs": [],
   "source": [
    "import requests\n",
    "from bs4 import BeautifulSoup\n",
    "from scrapy.selector import Selector\n",
    "import re\n",
    "from time import sleep\n",
    "import os\n",
    "from selenium import webdriver\n",
    "import pandas as pd\n",
    "import numpy as np"
   ]
  },
  {
   "cell_type": "code",
   "execution_count": 2,
   "metadata": {},
   "outputs": [],
   "source": [
    "chromedriver = './chromedriver/chromedriver.exe'\n",
    "os.environ['webdriver.chrome.driver'] = chromedriver"
   ]
  },
  {
   "cell_type": "code",
   "execution_count": 3,
   "metadata": {},
   "outputs": [],
   "source": [
    "search_term = 'https://www.mycareersfuture.sg/search?search=data warehouse&employmentType=Full Time&page='"
   ]
  },
  {
   "cell_type": "code",
   "execution_count": null,
   "metadata": {},
   "outputs": [],
   "source": [
    "# initialise dataframe to hold the scrapping results\n",
    "data_df = pd.DataFrame()\n",
    "\n",
    "# to iterate through the pages of search results\n",
    "for i in range(0,2):\n",
    "    # concatenate the page number to get complete url\n",
    "    url = search_term + str(i)\n",
    "    \n",
    "    # use chromedriver to get the results page\n",
    "    driver = webdriver.Chrome(executable_path=\"./chromedriver/chromedriver.exe\")\n",
    "    driver.get(url)\n",
    "    sleep(2)\n",
    "    html = driver.page_source\n",
    "    \n",
    "    results_soup = BeautifulSoup(html, 'lxml')\n",
    "    \n",
    "    # Get the links of job postings on the results page for the job listings\n",
    "    class_list = results_soup.find_all('a', {'class': 'bg-white mb3 w-100 dib v-top pa3 no-underline flex-ns flex-wrap JobCard__card___22xP3'})\n",
    "    link_list = []    # initialise list to hold the links of job postings\n",
    "\n",
    "    for text in class_list:\n",
    "        link_list.append('https://www.mycareersfuture.sg' + text.get('href'))\n",
    "    \n",
    "    print('==== List of job postings url ====')\n",
    "    print(link_list)\n",
    "    print('='*20)\n",
    "    driver.close\n",
    "    \n",
    "    # iterate through the link_list to load each job posting\n",
    "    for link in link_list:\n",
    "        driver_job = webdriver.Chrome(executable_path=\"./chromedriver/chromedriver.exe\")\n",
    "        driver_job.get(link)\n",
    "        sleep(1)\n",
    "        posting = driver_job.page_source\n",
    "        print('=== job posting ===')\n",
    "        print(link)\n",
    "        \n",
    "        job_soup = BeautifulSoup(posting, 'lxml')\n",
    "                \n",
    "        company = job_soup.find('p', {'id':'company'}).get_text()\n",
    "        job_title = job_soup.find('h1', {'id':'job_title'}).get_text()\n",
    "        if job_soup.find('p', {'id':'address'}) != None:\n",
    "            location = job_soup.find('p', {'id':'address'}).get_text()\n",
    "        else:\n",
    "            location = ''\n",
    "\n",
    "        # getting the salary information\n",
    "        salary_range = job_soup.find_all('div', {'class':'lh-solid'})\n",
    "        for element in salary_range:\n",
    "            salary = element.get_text()\n",
    "        salary_type = job_soup.find('span', {'class':'salary_type dib f5 fw4 black-60 pr1 i pb'}).get_text()\n",
    "\n",
    "        # getting the job description\n",
    "        job_desc_section = job_soup.find('div', {'id':'job_description'})\n",
    "        job_desc = job_desc_section.find('div', {'id':'content'}).get_text()\n",
    "\n",
    "        # getting the job requirements\n",
    "        reqmt_section = job_soup.find('div', {'id':'requirements'})\n",
    "        if reqmt_section != None:\n",
    "            job_reqmt = reqmt_section.find('div', {'id':'content'}).get_text()\n",
    "        else:\n",
    "            job_reqmt = ''\n",
    "\n",
    "        job_posting = [{\n",
    "            'company' : company,\n",
    "            'job_title' : job_title,\n",
    "            'location' : location,\n",
    "            'salary' : salary,\n",
    "            'salary_type' : salary_type,\n",
    "            'job_description' : job_desc,\n",
    "            'job_requirement' : job_reqmt,\n",
    "            'url' : link\n",
    "        }]\n",
    "        \n",
    "        driver_job.close\n",
    "\n",
    "        # append the job posting to dataframe\n",
    "        temp_df = pd.DataFrame(job_posting)\n",
    "        data_df = pd.concat([data_df, temp_df], axis=0)\n",
    "        \n",
    "print('***** Done *****')"
   ]
  },
  {
   "cell_type": "markdown",
   "metadata": {},
   "source": [
    "https://nycdatascience.com/blog/student-works/project-3-web-scraping-company-data-from-indeed-com-and-dice-com/\n"
   ]
  },
  {
   "cell_type": "code",
   "execution_count": 5,
   "metadata": {},
   "outputs": [
    {
     "data": {
      "text/plain": [
       "(33, 8)"
      ]
     },
     "execution_count": 5,
     "metadata": {},
     "output_type": "execute_result"
    }
   ],
   "source": [
    "data_df.shape"
   ]
  },
  {
   "cell_type": "code",
   "execution_count": 6,
   "metadata": {},
   "outputs": [],
   "source": [
    "data_df.to_csv('data_wh_ft.csv', encoding='utf-8')"
   ]
  },
  {
   "cell_type": "markdown",
   "metadata": {},
   "source": [
    "Combine CSVs"
   ]
  },
  {
   "cell_type": "code",
   "execution_count": 7,
   "metadata": {},
   "outputs": [],
   "source": [
    "file_list = ['data_wh_ft.csv', 'data_wh_perm.csv', 'deep_learn_ft.csv', 'deep_learn_perm.csv', 'machine_learn_ft.csv',\\\n",
    "             'machine_learn_perm.csv']\n",
    "\n",
    "df = pd.read_csv('mycareersfuture.csv')"
   ]
  },
  {
   "cell_type": "code",
   "execution_count": 12,
   "metadata": {},
   "outputs": [
    {
     "data": {
      "text/html": [
       "<div>\n",
       "<style scoped>\n",
       "    .dataframe tbody tr th:only-of-type {\n",
       "        vertical-align: middle;\n",
       "    }\n",
       "\n",
       "    .dataframe tbody tr th {\n",
       "        vertical-align: top;\n",
       "    }\n",
       "\n",
       "    .dataframe thead th {\n",
       "        text-align: right;\n",
       "    }\n",
       "</style>\n",
       "<table border=\"1\" class=\"dataframe\">\n",
       "  <thead>\n",
       "    <tr style=\"text-align: right;\">\n",
       "      <th></th>\n",
       "      <th>company</th>\n",
       "      <th>job_description</th>\n",
       "      <th>job_requirement</th>\n",
       "      <th>job_title</th>\n",
       "      <th>location</th>\n",
       "      <th>salary</th>\n",
       "      <th>salary_type</th>\n",
       "      <th>url</th>\n",
       "    </tr>\n",
       "  </thead>\n",
       "  <tbody>\n",
       "    <tr>\n",
       "      <th>0</th>\n",
       "      <td>CERTIS TECHNOLOGY (SINGAPORE) PTE. LTD.</td>\n",
       "      <td>To collaborate with sales team and business d...</td>\n",
       "      <td>Must possess at least a Bachelor's Degree in ...</td>\n",
       "      <td>Solutions Architect, Artificial Intelligence</td>\n",
       "      <td>CERTIS CISCO CENTRE, 20 JALAN AFIFI 409179</td>\n",
       "      <td>$8,500to$12,000</td>\n",
       "      <td>Monthly</td>\n",
       "      <td>https://www.mycareersfuture.sg/job/b012d86f754...</td>\n",
       "    </tr>\n",
       "    <tr>\n",
       "      <th>1</th>\n",
       "      <td>A*STAR RESEARCH ENTITIES</td>\n",
       "      <td>About the Institute for Infocomm Research (I²R...</td>\n",
       "      <td>Ph.D. in Computer Science, Statistics, or Dat...</td>\n",
       "      <td>Scientist (Deep Learning 2.0)  /  I2R (A*STAR)</td>\n",
       "      <td>SINGAPORE SCIENCE PARK II, 11 SCIENCE PARK ROA...</td>\n",
       "      <td>$4,500to$9,000</td>\n",
       "      <td>Monthly</td>\n",
       "      <td>https://www.mycareersfuture.sg/job/62761b90a1e...</td>\n",
       "    </tr>\n",
       "    <tr>\n",
       "      <th>2</th>\n",
       "      <td>A*STAR RESEARCH ENTITIES</td>\n",
       "      <td>About the Institute for Infocomm Research (I²R...</td>\n",
       "      <td>Minimum Bachelor in Computer Science, Statist...</td>\n",
       "      <td>Senior Research Engineer(DL2.0)  /  I2R (A*STAR)</td>\n",
       "      <td>SINGAPORE SCIENCE PARK II, 11 SCIENCE PARK ROA...</td>\n",
       "      <td>$3,400to$6,800</td>\n",
       "      <td>Monthly</td>\n",
       "      <td>https://www.mycareersfuture.sg/job/f46f67866c3...</td>\n",
       "    </tr>\n",
       "    <tr>\n",
       "      <th>3</th>\n",
       "      <td>A*STAR RESEARCH ENTITIES</td>\n",
       "      <td>About the Institute for Infocomm Research (I²R...</td>\n",
       "      <td>PhD in Computer Science, Statistics, Data Sci...</td>\n",
       "      <td>Scientist (DL2.0 / SCD)  / I2R (A*STAR)</td>\n",
       "      <td>SINGAPORE SCIENCE PARK II, 11 SCIENCE PARK ROA...</td>\n",
       "      <td>$4,500to$9,000</td>\n",
       "      <td>Monthly</td>\n",
       "      <td>https://www.mycareersfuture.sg/job/36862a245ed...</td>\n",
       "    </tr>\n",
       "    <tr>\n",
       "      <th>4</th>\n",
       "      <td>A*STAR RESEARCH ENTITIES</td>\n",
       "      <td>The Agency for Science, Technology and Researc...</td>\n",
       "      <td>Bachelor’s degree in any AI-related field (E....</td>\n",
       "      <td>Research Engineer (CHEEM / A*STAR)</td>\n",
       "      <td>SINGAPORE SCIENCE PARK II, 11 SCIENCE PARK ROA...</td>\n",
       "      <td>$2,500to$5,000</td>\n",
       "      <td>Monthly</td>\n",
       "      <td>https://www.mycareersfuture.sg/job/c0271473014...</td>\n",
       "    </tr>\n",
       "  </tbody>\n",
       "</table>\n",
       "</div>"
      ],
      "text/plain": [
       "                                   company  \\\n",
       "0  CERTIS TECHNOLOGY (SINGAPORE) PTE. LTD.   \n",
       "1                 A*STAR RESEARCH ENTITIES   \n",
       "2                 A*STAR RESEARCH ENTITIES   \n",
       "3                 A*STAR RESEARCH ENTITIES   \n",
       "4                 A*STAR RESEARCH ENTITIES   \n",
       "\n",
       "                                     job_description  \\\n",
       "0   To collaborate with sales team and business d...   \n",
       "1  About the Institute for Infocomm Research (I²R...   \n",
       "2  About the Institute for Infocomm Research (I²R...   \n",
       "3  About the Institute for Infocomm Research (I²R...   \n",
       "4  The Agency for Science, Technology and Researc...   \n",
       "\n",
       "                                     job_requirement  \\\n",
       "0   Must possess at least a Bachelor's Degree in ...   \n",
       "1   Ph.D. in Computer Science, Statistics, or Dat...   \n",
       "2   Minimum Bachelor in Computer Science, Statist...   \n",
       "3   PhD in Computer Science, Statistics, Data Sci...   \n",
       "4   Bachelor’s degree in any AI-related field (E....   \n",
       "\n",
       "                                          job_title  \\\n",
       "0      Solutions Architect, Artificial Intelligence   \n",
       "1    Scientist (Deep Learning 2.0)  /  I2R (A*STAR)   \n",
       "2  Senior Research Engineer(DL2.0)  /  I2R (A*STAR)   \n",
       "3           Scientist (DL2.0 / SCD)  / I2R (A*STAR)   \n",
       "4                Research Engineer (CHEEM / A*STAR)   \n",
       "\n",
       "                                            location           salary  \\\n",
       "0         CERTIS CISCO CENTRE, 20 JALAN AFIFI 409179  $8,500to$12,000   \n",
       "1  SINGAPORE SCIENCE PARK II, 11 SCIENCE PARK ROA...   $4,500to$9,000   \n",
       "2  SINGAPORE SCIENCE PARK II, 11 SCIENCE PARK ROA...   $3,400to$6,800   \n",
       "3  SINGAPORE SCIENCE PARK II, 11 SCIENCE PARK ROA...   $4,500to$9,000   \n",
       "4  SINGAPORE SCIENCE PARK II, 11 SCIENCE PARK ROA...   $2,500to$5,000   \n",
       "\n",
       "  salary_type                                                url  \n",
       "0     Monthly  https://www.mycareersfuture.sg/job/b012d86f754...  \n",
       "1     Monthly  https://www.mycareersfuture.sg/job/62761b90a1e...  \n",
       "2     Monthly  https://www.mycareersfuture.sg/job/f46f67866c3...  \n",
       "3     Monthly  https://www.mycareersfuture.sg/job/36862a245ed...  \n",
       "4     Monthly  https://www.mycareersfuture.sg/job/c0271473014...  "
      ]
     },
     "execution_count": 12,
     "metadata": {},
     "output_type": "execute_result"
    }
   ],
   "source": [
    "df.head()"
   ]
  },
  {
   "cell_type": "code",
   "execution_count": 13,
   "metadata": {},
   "outputs": [
    {
     "data": {
      "text/plain": [
       "(605, 9)"
      ]
     },
     "execution_count": 13,
     "metadata": {},
     "output_type": "execute_result"
    }
   ],
   "source": [
    "for file in file_list:\n",
    "    df_temp = pd.read_csv(file)\n",
    "    df = pd.concat([df, df_temp], axis=0)\n",
    "\n",
    "df.shape"
   ]
  },
  {
   "cell_type": "code",
   "execution_count": 14,
   "metadata": {},
   "outputs": [],
   "source": [
    "df = df.drop_duplicates(subset='url')"
   ]
  },
  {
   "cell_type": "code",
   "execution_count": 15,
   "metadata": {},
   "outputs": [
    {
     "data": {
      "text/plain": [
       "(431, 9)"
      ]
     },
     "execution_count": 15,
     "metadata": {},
     "output_type": "execute_result"
    }
   ],
   "source": [
    "df.shape"
   ]
  },
  {
   "cell_type": "code",
   "execution_count": 16,
   "metadata": {},
   "outputs": [],
   "source": [
    "df.to_csv('mycareersfuture1.csv')"
   ]
  },
  {
   "cell_type": "code",
   "execution_count": null,
   "metadata": {},
   "outputs": [],
   "source": []
  }
 ],
 "metadata": {
  "kernelspec": {
   "display_name": "Python 2",
   "language": "python",
   "name": "python2"
  },
  "language_info": {
   "codemirror_mode": {
    "name": "ipython",
    "version": 2
   },
   "file_extension": ".py",
   "mimetype": "text/x-python",
   "name": "python",
   "nbconvert_exporter": "python",
   "pygments_lexer": "ipython2",
   "version": "2.7.14"
  }
 },
 "nbformat": 4,
 "nbformat_minor": 2
}

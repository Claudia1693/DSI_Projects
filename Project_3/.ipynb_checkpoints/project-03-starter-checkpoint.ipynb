{
 "cells": [
  {
   "cell_type": "markdown",
   "metadata": {},
   "source": [
    "<img src=\"http://imgur.com/1ZcRyrc.png\" style=\"float: left; margin: 15px; height: 80px\">\n",
    "\n",
    "# Project 3\n",
    "\n",
    "### Regression and Classification with the Ames Housing Data\n",
    "\n",
    "---\n",
    "\n",
    "You have just joined a new \"full stack\" real estate company in Ames, Iowa. The strategy of the firm is two-fold:\n",
    "- Own the entire process from the purchase of the land all the way to sale of the house, and anything in between.\n",
    "- Use statistical analysis to optimize investment and maximize return.\n",
    "\n",
    "The company is still small, and though investment is substantial the short-term goals of the company are more oriented towards purchasing existing houses and flipping them as opposed to constructing entirely new houses. That being said, the company has access to a large construction workforce operating at rock-bottom prices.\n",
    "\n",
    "This project uses the [Ames housing data recently made available on kaggle](https://www.kaggle.com/c/house-prices-advanced-regression-techniques)."
   ]
  },
  {
   "cell_type": "code",
   "execution_count": 1,
   "metadata": {},
   "outputs": [],
   "source": [
    "import numpy as np\n",
    "import scipy.stats as stats\n",
    "import seaborn as sns\n",
    "import matplotlib.pyplot as plt\n",
    "import pandas as pd\n",
    "import re\n",
    "\n",
    "sns.set_style('whitegrid')\n",
    "\n",
    "%config InlineBackend.figure_format = 'retina'\n",
    "%matplotlib inline"
   ]
  },
  {
   "cell_type": "markdown",
   "metadata": {},
   "source": [
    "<img src=\"http://imgur.com/l5NasQj.png\" style=\"float: left; margin: 25px 15px 0px 0px; height: 25px\">\n",
    "\n",
    "## 1. Estimating the value of homes from fixed characteristics.\n",
    "\n",
    "---\n",
    "\n",
    "Your superiors have outlined this year's strategy for the company:\n",
    "1. Develop an algorithm to reliably estimate the value of residential houses based on *fixed* characteristics.\n",
    "2. Identify characteristics of houses that the company can cost-effectively change/renovate with their construction team.\n",
    "3. Evaluate the mean dollar value of different renovations.\n",
    "\n",
    "Then we can use that to buy houses that are likely to sell for more than the cost of the purchase plus renovations.\n",
    "\n",
    "Your first job is to tackle #1. You have a dataset of housing sale data with a huge amount of features identifying different aspects of the house. The full description of the data features can be found in a separate file:\n",
    "\n",
    "    housing.csv\n",
    "    data_description.txt\n",
    "    \n",
    "You need to build a reliable estimator for the price of the house given characteristics of the house that cannot be renovated. Some examples include:\n",
    "- The neighborhood\n",
    "- Square feet\n",
    "- Bedrooms, bathrooms\n",
    "- Basement and garage space\n",
    "\n",
    "and many more. \n",
    "\n",
    "Some examples of things that **ARE renovate-able:**\n",
    "- Roof and exterior features\n",
    "- \"Quality\" metrics, such as kitchen quality\n",
    "- \"Condition\" metrics, such as condition of garage\n",
    "- Heating and electrical components\n",
    "\n",
    "and generally anything you deem can be modified without having to undergo major construction on the house.\n",
    "\n",
    "---\n",
    "\n",
    "**Your goals:**\n",
    "1. Perform any cleaning, feature engineering, and EDA you deem necessary.\n",
    "- Be sure to remove any houses that are not residential from the dataset.\n",
    "- Identify **fixed** features that can predict price.\n",
    "- Train a model on pre-2010 data and evaluate its performance on the 2010 houses.\n",
    "- Characterize your model. How well does it perform? What are the best estimates of price?\n",
    "\n",
    "> **Note:** The EDA and feature engineering component to this project is not trivial! Be sure to always think critically and creatively. Justify your actions! Use the data description file!"
   ]
  },
  {
   "cell_type": "code",
   "execution_count": 2,
   "metadata": {},
   "outputs": [],
   "source": [
    "# Load the data\n",
    "house = pd.read_csv('./housing.csv')"
   ]
  },
  {
   "cell_type": "code",
   "execution_count": 3,
   "metadata": {},
   "outputs": [
    {
     "name": "stdout",
     "output_type": "stream",
     "text": [
      "<class 'pandas.core.frame.DataFrame'>\n",
      "RangeIndex: 1460 entries, 0 to 1459\n",
      "Data columns (total 81 columns):\n",
      "Id               1460 non-null int64\n",
      "MSSubClass       1460 non-null int64\n",
      "MSZoning         1460 non-null object\n",
      "LotFrontage      1201 non-null float64\n",
      "LotArea          1460 non-null int64\n",
      "Street           1460 non-null object\n",
      "Alley            91 non-null object\n",
      "LotShape         1460 non-null object\n",
      "LandContour      1460 non-null object\n",
      "Utilities        1460 non-null object\n",
      "LotConfig        1460 non-null object\n",
      "LandSlope        1460 non-null object\n",
      "Neighborhood     1460 non-null object\n",
      "Condition1       1460 non-null object\n",
      "Condition2       1460 non-null object\n",
      "BldgType         1460 non-null object\n",
      "HouseStyle       1460 non-null object\n",
      "OverallQual      1460 non-null int64\n",
      "OverallCond      1460 non-null int64\n",
      "YearBuilt        1460 non-null int64\n",
      "YearRemodAdd     1460 non-null int64\n",
      "RoofStyle        1460 non-null object\n",
      "RoofMatl         1460 non-null object\n",
      "Exterior1st      1460 non-null object\n",
      "Exterior2nd      1460 non-null object\n",
      "MasVnrType       1452 non-null object\n",
      "MasVnrArea       1452 non-null float64\n",
      "ExterQual        1460 non-null object\n",
      "ExterCond        1460 non-null object\n",
      "Foundation       1460 non-null object\n",
      "BsmtQual         1423 non-null object\n",
      "BsmtCond         1423 non-null object\n",
      "BsmtExposure     1422 non-null object\n",
      "BsmtFinType1     1423 non-null object\n",
      "BsmtFinSF1       1460 non-null int64\n",
      "BsmtFinType2     1422 non-null object\n",
      "BsmtFinSF2       1460 non-null int64\n",
      "BsmtUnfSF        1460 non-null int64\n",
      "TotalBsmtSF      1460 non-null int64\n",
      "Heating          1460 non-null object\n",
      "HeatingQC        1460 non-null object\n",
      "CentralAir       1460 non-null object\n",
      "Electrical       1459 non-null object\n",
      "1stFlrSF         1460 non-null int64\n",
      "2ndFlrSF         1460 non-null int64\n",
      "LowQualFinSF     1460 non-null int64\n",
      "GrLivArea        1460 non-null int64\n",
      "BsmtFullBath     1460 non-null int64\n",
      "BsmtHalfBath     1460 non-null int64\n",
      "FullBath         1460 non-null int64\n",
      "HalfBath         1460 non-null int64\n",
      "BedroomAbvGr     1460 non-null int64\n",
      "KitchenAbvGr     1460 non-null int64\n",
      "KitchenQual      1460 non-null object\n",
      "TotRmsAbvGrd     1460 non-null int64\n",
      "Functional       1460 non-null object\n",
      "Fireplaces       1460 non-null int64\n",
      "FireplaceQu      770 non-null object\n",
      "GarageType       1379 non-null object\n",
      "GarageYrBlt      1379 non-null float64\n",
      "GarageFinish     1379 non-null object\n",
      "GarageCars       1460 non-null int64\n",
      "GarageArea       1460 non-null int64\n",
      "GarageQual       1379 non-null object\n",
      "GarageCond       1379 non-null object\n",
      "PavedDrive       1460 non-null object\n",
      "WoodDeckSF       1460 non-null int64\n",
      "OpenPorchSF      1460 non-null int64\n",
      "EnclosedPorch    1460 non-null int64\n",
      "3SsnPorch        1460 non-null int64\n",
      "ScreenPorch      1460 non-null int64\n",
      "PoolArea         1460 non-null int64\n",
      "PoolQC           7 non-null object\n",
      "Fence            281 non-null object\n",
      "MiscFeature      54 non-null object\n",
      "MiscVal          1460 non-null int64\n",
      "MoSold           1460 non-null int64\n",
      "YrSold           1460 non-null int64\n",
      "SaleType         1460 non-null object\n",
      "SaleCondition    1460 non-null object\n",
      "SalePrice        1460 non-null int64\n",
      "dtypes: float64(3), int64(35), object(43)\n",
      "memory usage: 924.0+ KB\n"
     ]
    }
   ],
   "source": [
    "house.info()"
   ]
  },
  {
   "cell_type": "markdown",
   "metadata": {},
   "source": [
    "from Chenghan  \n",
    "### Cleaning of data\n",
    "LotFrontage: Replace NaN with zero  \n",
    "Alley: Replace NaN with 'NoAcc'  \n",
    "MasVnrType: Replace NaN (only 8 rows) with 'None' (majority class)  \n",
    "MasVnrArea: Replace NaN (only 8 rows) with zero (majority class)  \n",
    "BsmtQual: Replace NaN with 'NoBsmt'  \n",
    "BsmtCond: Replace NaN with 'NoBsmt'  \n",
    "BsmtExposure: Replace NaN with 'NoBsmt'  \n",
    "BsmtFinType1: Replace NaN with 'NoBsmt'  \n",
    "BsmtFinType2: Replace NaN with 'NoBsmt'  \n",
    "Electrical: Replace only NaN value with 'SBrkr' (majority class)  \n",
    "FireplaceQu: Replace NaN with 'NoFirepl'  \n",
    "GarageType: Replace NaN with 'NoGarage'  \n",
    "<strong><em>GarageYrBlt: Replace NaN with value of column YearBuilt</em></strong>  \n",
    "GarageFinish: Replace NaN with 'NoGarage'  \n",
    "GarageQual: Replace NaN with 'NoGarage'  \n",
    "GarageCond: Replace NaN with 'NoGarage'  \n",
    "PoolQC: Replace NaN with 'NoPool'  \n",
    "Fence: Replace NaN with 'NoFence'  \n",
    "MiscFeature: Replace NaN with 'None'  "
   ]
  },
  {
   "cell_type": "code",
   "execution_count": 4,
   "metadata": {},
   "outputs": [],
   "source": [
    "house.loc[house['LotFrontage'].isnull(), 'LotFrontage'] = 0\n",
    "house.loc[house['Alley'].isnull(), 'Alley'] = 'NoAcc'\n",
    "house.loc[house['MasVnrType'].isnull(), 'MasVnrType'] = 'None'\n",
    "house.loc[house['MasVnrArea'].isnull(), 'MasVnrArea'] = 0"
   ]
  },
  {
   "cell_type": "code",
   "execution_count": 5,
   "metadata": {},
   "outputs": [],
   "source": [
    "house[['BsmtQual','BsmtCond','BsmtExposure','BsmtFinType1','BsmtFinType2']] = \\\n",
    "house[['BsmtQual','BsmtCond','BsmtExposure','BsmtFinType1','BsmtFinType2']].fillna(value='NoBsmt')"
   ]
  },
  {
   "cell_type": "code",
   "execution_count": 6,
   "metadata": {},
   "outputs": [],
   "source": [
    "house.loc[house['Electrical'].isnull(), 'Electrical'] = 'SBrkr'\n",
    "house.loc[house['FireplaceQu'].isnull(), 'FireplaceQu'] = 'NoFirepl'"
   ]
  },
  {
   "cell_type": "code",
   "execution_count": 7,
   "metadata": {},
   "outputs": [],
   "source": [
    "house[['GarageType','GarageFinish','GarageQual','GarageCond']] = \\\n",
    "house[['GarageType','GarageFinish','GarageQual','GarageCond']].fillna(value='NoGarage')"
   ]
  },
  {
   "cell_type": "code",
   "execution_count": 8,
   "metadata": {},
   "outputs": [],
   "source": [
    "house.loc[house['GarageYrBlt'].isnull(), 'GarageYrBlt'] = house.loc[house['GarageYrBlt'].isnull(), 'YearBuilt']\n",
    "house['GarageYrBlt'] = house['GarageYrBlt'].astype('int')"
   ]
  },
  {
   "cell_type": "code",
   "execution_count": 9,
   "metadata": {},
   "outputs": [],
   "source": [
    "house.loc[house['PoolQC'].isnull(),'PoolQC'] = 'NoPool'\n",
    "house.loc[house['Fence'].isnull(),'Fence'] = 'NoFence'\n",
    "house.loc[house['MiscFeature'].isnull(),'MiscFeature'] = 'None'"
   ]
  },
  {
   "cell_type": "code",
   "execution_count": 10,
   "metadata": {},
   "outputs": [
    {
     "name": "stdout",
     "output_type": "stream",
     "text": [
      "<class 'pandas.core.frame.DataFrame'>\n",
      "RangeIndex: 1460 entries, 0 to 1459\n",
      "Data columns (total 81 columns):\n",
      "Id               1460 non-null int64\n",
      "MSSubClass       1460 non-null int64\n",
      "MSZoning         1460 non-null object\n",
      "LotFrontage      1460 non-null float64\n",
      "LotArea          1460 non-null int64\n",
      "Street           1460 non-null object\n",
      "Alley            1460 non-null object\n",
      "LotShape         1460 non-null object\n",
      "LandContour      1460 non-null object\n",
      "Utilities        1460 non-null object\n",
      "LotConfig        1460 non-null object\n",
      "LandSlope        1460 non-null object\n",
      "Neighborhood     1460 non-null object\n",
      "Condition1       1460 non-null object\n",
      "Condition2       1460 non-null object\n",
      "BldgType         1460 non-null object\n",
      "HouseStyle       1460 non-null object\n",
      "OverallQual      1460 non-null int64\n",
      "OverallCond      1460 non-null int64\n",
      "YearBuilt        1460 non-null int64\n",
      "YearRemodAdd     1460 non-null int64\n",
      "RoofStyle        1460 non-null object\n",
      "RoofMatl         1460 non-null object\n",
      "Exterior1st      1460 non-null object\n",
      "Exterior2nd      1460 non-null object\n",
      "MasVnrType       1460 non-null object\n",
      "MasVnrArea       1460 non-null float64\n",
      "ExterQual        1460 non-null object\n",
      "ExterCond        1460 non-null object\n",
      "Foundation       1460 non-null object\n",
      "BsmtQual         1460 non-null object\n",
      "BsmtCond         1460 non-null object\n",
      "BsmtExposure     1460 non-null object\n",
      "BsmtFinType1     1460 non-null object\n",
      "BsmtFinSF1       1460 non-null int64\n",
      "BsmtFinType2     1460 non-null object\n",
      "BsmtFinSF2       1460 non-null int64\n",
      "BsmtUnfSF        1460 non-null int64\n",
      "TotalBsmtSF      1460 non-null int64\n",
      "Heating          1460 non-null object\n",
      "HeatingQC        1460 non-null object\n",
      "CentralAir       1460 non-null object\n",
      "Electrical       1460 non-null object\n",
      "1stFlrSF         1460 non-null int64\n",
      "2ndFlrSF         1460 non-null int64\n",
      "LowQualFinSF     1460 non-null int64\n",
      "GrLivArea        1460 non-null int64\n",
      "BsmtFullBath     1460 non-null int64\n",
      "BsmtHalfBath     1460 non-null int64\n",
      "FullBath         1460 non-null int64\n",
      "HalfBath         1460 non-null int64\n",
      "BedroomAbvGr     1460 non-null int64\n",
      "KitchenAbvGr     1460 non-null int64\n",
      "KitchenQual      1460 non-null object\n",
      "TotRmsAbvGrd     1460 non-null int64\n",
      "Functional       1460 non-null object\n",
      "Fireplaces       1460 non-null int64\n",
      "FireplaceQu      1460 non-null object\n",
      "GarageType       1460 non-null object\n",
      "GarageYrBlt      1460 non-null int32\n",
      "GarageFinish     1460 non-null object\n",
      "GarageCars       1460 non-null int64\n",
      "GarageArea       1460 non-null int64\n",
      "GarageQual       1460 non-null object\n",
      "GarageCond       1460 non-null object\n",
      "PavedDrive       1460 non-null object\n",
      "WoodDeckSF       1460 non-null int64\n",
      "OpenPorchSF      1460 non-null int64\n",
      "EnclosedPorch    1460 non-null int64\n",
      "3SsnPorch        1460 non-null int64\n",
      "ScreenPorch      1460 non-null int64\n",
      "PoolArea         1460 non-null int64\n",
      "PoolQC           1460 non-null object\n",
      "Fence            1460 non-null object\n",
      "MiscFeature      1460 non-null object\n",
      "MiscVal          1460 non-null int64\n",
      "MoSold           1460 non-null int64\n",
      "YrSold           1460 non-null int64\n",
      "SaleType         1460 non-null object\n",
      "SaleCondition    1460 non-null object\n",
      "SalePrice        1460 non-null int64\n",
      "dtypes: float64(2), int32(1), int64(35), object(43)\n",
      "memory usage: 918.3+ KB\n"
     ]
    }
   ],
   "source": [
    "house.info()"
   ]
  },
  {
   "cell_type": "markdown",
   "metadata": {},
   "source": [
    "from Chenghan\n",
    "\n",
    "Selected the following as \"Fixed\" predictors:  \n",
    "MSSubClass  \n",
    "MSZoning  \n",
    "LotFrontage  \n",
    "LotArea  \n",
    "Street  \n",
    "Alley  \n",
    "LotShape  \n",
    "LandContour  \n",
    "LotConfig  \n",
    "LandSlope  \n",
    "Neighborhood  \n",
    "Condition1  \n",
    "Condition2  \n",
    "BldgType   \n",
    "HouseStyle   \n",
    "YearBuilt  \n",
    "YearRemodAdd  \n",
    "Foundation  \n",
    "BsmtQual  \n",
    "BsmtFinSF1  \n",
    "BsmtFinSF2  \n",
    "BsmtUnfSF  \n",
    "TotalBsmtSF  \n",
    "1stFlrSF  \n",
    "2ndFlrSF  \n",
    "LowQualFinSF  \n",
    "GrLivArea  \n",
    "BsmtFullBath  \n",
    "BsmtHalfBath  \n",
    "FullBath  \n",
    "HalfBath  \n",
    "BedroomAbvGr  \n",
    "KitchenAbvGr  \n",
    "TotRmsAbvGrd  \n",
    "Fireplaces  \n",
    "GarageType  \n",
    "GarageYrBlt  \n",
    "GarageCars  \n",
    "GarageArea  "
   ]
  },
  {
   "cell_type": "code",
   "execution_count": 11,
   "metadata": {},
   "outputs": [],
   "source": [
    "# Creating a list of the 'Fixed' characteristics\n",
    "cols = ['MSSubClass','MSZoning','LotFrontage','LotArea','Street','Alley','LotShape','LandContour','LotConfig',\\\n",
    "        'LandSlope','Neighborhood','Condition1','Condition2','BldgType','HouseStyle','YearBuilt','YearRemodAdd',\\\n",
    "        'Foundation','BsmtQual','BsmtFinSF1','BsmtFinSF2','BsmtUnfSF','TotalBsmtSF','1stFlrSF','2ndFlrSF',\\\n",
    "        'LowQualFinSF','GrLivArea','BsmtFullBath','BsmtHalfBath','FullBath','HalfBath','BedroomAbvGr',\\\n",
    "        'KitchenAbvGr','TotRmsAbvGrd','Fireplaces','GarageType','GarageYrBlt','GarageCars','GarageArea']"
   ]
  },
  {
   "cell_type": "code",
   "execution_count": 80,
   "metadata": {},
   "outputs": [],
   "source": [
    "# Copying the columns with fixed characteristics into a new dataframe\n",
    "df1 = house[cols].copy()"
   ]
  },
  {
   "cell_type": "markdown",
   "metadata": {},
   "source": [
    "Notes by Chenghan\n",
    "\n",
    "Convert column \"MSSubClass\" to the following dummy variables:\n",
    "\n",
    "(20, 30) -> 1S_New (1, 0)  \n",
    "(40)     -> 1S_Attic (1, 0)  \n",
    "(45, 50) -> 1_5S_Fin (0, 1)  \n",
    "(60, 70) -> 2S_New (1, 0)  \n",
    "(75)     -> 2_5S (1, 0)  \n",
    "(80)     -> M_Lvl (1, 0)  \n",
    "(85)     -> SplitFoyer (1, 0)  \n",
    "(90)     -> Duplex (1, 0)  \n",
    "(120)    -> 1S_PUD (1, 0)  \n",
    "(150)    -> 1_5S_PUD (1, 0) [no values in this category]  \n",
    "(160)    -> 2S_PUD (1, 0)  \n",
    "(180)    -> M_Lvl_PUD (1, 0)  \n",
    "(190)    -> 2_Fam (1, 0)  \n",
    "\n",
    "Column \"MSZoning\" - verified that non-residential zones are already excluded"
   ]
  },
  {
   "cell_type": "code",
   "execution_count": 13,
   "metadata": {},
   "outputs": [],
   "source": [
    "# Converting all columns with categorical values into binary columns\n",
    "df1.loc[df1['MSSubClass']==20,'MS_1S_New'] = 1\n",
    "df1.loc[df1['MSSubClass']==30,'MS_1S_New'] = 0\n",
    "df1.loc[df1['MSSubClass']==40,'MS_1S_Attic'] = 1\n",
    "df1.loc[df1['MSSubClass']==45,'MS_1_5S_Fin'] = 0\n",
    "df1.loc[df1['MSSubClass']==50,'MS_1_5S_Fin'] = 1\n",
    "df1.loc[df1['MSSubClass']==60,'MS_2S_New'] = 1\n",
    "df1.loc[df1['MSSubClass']==70,'MS_2S_New'] = 0\n",
    "df1.loc[df1['MSSubClass']==75,'MS_2_5S'] = 1\n",
    "df1.loc[df1['MSSubClass']==80,'MS_M_Lvl'] = 1\n",
    "df1.loc[df1['MSSubClass']==85,'MS_SplitFoyer'] = 1\n",
    "df1.loc[df1['MSSubClass']==90,'MS_Duplex'] = 1\n",
    "df1.loc[df1['MSSubClass']==120,'MS_1S_PUD'] = 1\n",
    "df1.loc[df1['MSSubClass']==160,'MS_2S_PUD'] = 1\n",
    "df1.loc[df1['MSSubClass']==180,'MS_M_Lvl_PUD'] = 1\n",
    "df1.loc[df1['MSSubClass']==190,'MS_2_Fam'] = 1"
   ]
  },
  {
   "cell_type": "code",
   "execution_count": 14,
   "metadata": {},
   "outputs": [],
   "source": [
    "df1.fillna(value=0, inplace=True)\n",
    "df1 = df1.drop(columns='MSSubClass')"
   ]
  },
  {
   "cell_type": "code",
   "execution_count": 85,
   "metadata": {},
   "outputs": [
    {
     "data": {
      "text/html": [
       "<div>\n",
       "<style scoped>\n",
       "    .dataframe tbody tr th:only-of-type {\n",
       "        vertical-align: middle;\n",
       "    }\n",
       "\n",
       "    .dataframe tbody tr th {\n",
       "        vertical-align: top;\n",
       "    }\n",
       "\n",
       "    .dataframe thead th {\n",
       "        text-align: right;\n",
       "    }\n",
       "</style>\n",
       "<table border=\"1\" class=\"dataframe\">\n",
       "  <thead>\n",
       "    <tr style=\"text-align: right;\">\n",
       "      <th></th>\n",
       "      <th>MSZ_FV</th>\n",
       "      <th>MSZ_RH</th>\n",
       "      <th>MSZ_RL</th>\n",
       "      <th>MSZ_RM</th>\n",
       "    </tr>\n",
       "  </thead>\n",
       "  <tbody>\n",
       "    <tr>\n",
       "      <th>0</th>\n",
       "      <td>0</td>\n",
       "      <td>0</td>\n",
       "      <td>1</td>\n",
       "      <td>0</td>\n",
       "    </tr>\n",
       "    <tr>\n",
       "      <th>1</th>\n",
       "      <td>0</td>\n",
       "      <td>0</td>\n",
       "      <td>1</td>\n",
       "      <td>0</td>\n",
       "    </tr>\n",
       "    <tr>\n",
       "      <th>2</th>\n",
       "      <td>0</td>\n",
       "      <td>0</td>\n",
       "      <td>1</td>\n",
       "      <td>0</td>\n",
       "    </tr>\n",
       "    <tr>\n",
       "      <th>3</th>\n",
       "      <td>0</td>\n",
       "      <td>0</td>\n",
       "      <td>1</td>\n",
       "      <td>0</td>\n",
       "    </tr>\n",
       "    <tr>\n",
       "      <th>4</th>\n",
       "      <td>0</td>\n",
       "      <td>0</td>\n",
       "      <td>1</td>\n",
       "      <td>0</td>\n",
       "    </tr>\n",
       "    <tr>\n",
       "      <th>5</th>\n",
       "      <td>0</td>\n",
       "      <td>0</td>\n",
       "      <td>1</td>\n",
       "      <td>0</td>\n",
       "    </tr>\n",
       "    <tr>\n",
       "      <th>6</th>\n",
       "      <td>0</td>\n",
       "      <td>0</td>\n",
       "      <td>1</td>\n",
       "      <td>0</td>\n",
       "    </tr>\n",
       "    <tr>\n",
       "      <th>7</th>\n",
       "      <td>0</td>\n",
       "      <td>0</td>\n",
       "      <td>1</td>\n",
       "      <td>0</td>\n",
       "    </tr>\n",
       "    <tr>\n",
       "      <th>8</th>\n",
       "      <td>0</td>\n",
       "      <td>0</td>\n",
       "      <td>0</td>\n",
       "      <td>1</td>\n",
       "    </tr>\n",
       "    <tr>\n",
       "      <th>9</th>\n",
       "      <td>0</td>\n",
       "      <td>0</td>\n",
       "      <td>1</td>\n",
       "      <td>0</td>\n",
       "    </tr>\n",
       "    <tr>\n",
       "      <th>10</th>\n",
       "      <td>0</td>\n",
       "      <td>0</td>\n",
       "      <td>1</td>\n",
       "      <td>0</td>\n",
       "    </tr>\n",
       "    <tr>\n",
       "      <th>11</th>\n",
       "      <td>0</td>\n",
       "      <td>0</td>\n",
       "      <td>1</td>\n",
       "      <td>0</td>\n",
       "    </tr>\n",
       "    <tr>\n",
       "      <th>12</th>\n",
       "      <td>0</td>\n",
       "      <td>0</td>\n",
       "      <td>1</td>\n",
       "      <td>0</td>\n",
       "    </tr>\n",
       "    <tr>\n",
       "      <th>13</th>\n",
       "      <td>0</td>\n",
       "      <td>0</td>\n",
       "      <td>1</td>\n",
       "      <td>0</td>\n",
       "    </tr>\n",
       "    <tr>\n",
       "      <th>14</th>\n",
       "      <td>0</td>\n",
       "      <td>0</td>\n",
       "      <td>1</td>\n",
       "      <td>0</td>\n",
       "    </tr>\n",
       "    <tr>\n",
       "      <th>15</th>\n",
       "      <td>0</td>\n",
       "      <td>0</td>\n",
       "      <td>0</td>\n",
       "      <td>1</td>\n",
       "    </tr>\n",
       "    <tr>\n",
       "      <th>16</th>\n",
       "      <td>0</td>\n",
       "      <td>0</td>\n",
       "      <td>1</td>\n",
       "      <td>0</td>\n",
       "    </tr>\n",
       "    <tr>\n",
       "      <th>17</th>\n",
       "      <td>0</td>\n",
       "      <td>0</td>\n",
       "      <td>1</td>\n",
       "      <td>0</td>\n",
       "    </tr>\n",
       "    <tr>\n",
       "      <th>18</th>\n",
       "      <td>0</td>\n",
       "      <td>0</td>\n",
       "      <td>1</td>\n",
       "      <td>0</td>\n",
       "    </tr>\n",
       "    <tr>\n",
       "      <th>19</th>\n",
       "      <td>0</td>\n",
       "      <td>0</td>\n",
       "      <td>1</td>\n",
       "      <td>0</td>\n",
       "    </tr>\n",
       "    <tr>\n",
       "      <th>20</th>\n",
       "      <td>0</td>\n",
       "      <td>0</td>\n",
       "      <td>1</td>\n",
       "      <td>0</td>\n",
       "    </tr>\n",
       "    <tr>\n",
       "      <th>21</th>\n",
       "      <td>0</td>\n",
       "      <td>0</td>\n",
       "      <td>0</td>\n",
       "      <td>1</td>\n",
       "    </tr>\n",
       "    <tr>\n",
       "      <th>22</th>\n",
       "      <td>0</td>\n",
       "      <td>0</td>\n",
       "      <td>1</td>\n",
       "      <td>0</td>\n",
       "    </tr>\n",
       "    <tr>\n",
       "      <th>23</th>\n",
       "      <td>0</td>\n",
       "      <td>0</td>\n",
       "      <td>0</td>\n",
       "      <td>1</td>\n",
       "    </tr>\n",
       "    <tr>\n",
       "      <th>24</th>\n",
       "      <td>0</td>\n",
       "      <td>0</td>\n",
       "      <td>1</td>\n",
       "      <td>0</td>\n",
       "    </tr>\n",
       "    <tr>\n",
       "      <th>25</th>\n",
       "      <td>0</td>\n",
       "      <td>0</td>\n",
       "      <td>1</td>\n",
       "      <td>0</td>\n",
       "    </tr>\n",
       "    <tr>\n",
       "      <th>26</th>\n",
       "      <td>0</td>\n",
       "      <td>0</td>\n",
       "      <td>1</td>\n",
       "      <td>0</td>\n",
       "    </tr>\n",
       "    <tr>\n",
       "      <th>27</th>\n",
       "      <td>0</td>\n",
       "      <td>0</td>\n",
       "      <td>1</td>\n",
       "      <td>0</td>\n",
       "    </tr>\n",
       "    <tr>\n",
       "      <th>28</th>\n",
       "      <td>0</td>\n",
       "      <td>0</td>\n",
       "      <td>1</td>\n",
       "      <td>0</td>\n",
       "    </tr>\n",
       "    <tr>\n",
       "      <th>29</th>\n",
       "      <td>0</td>\n",
       "      <td>0</td>\n",
       "      <td>0</td>\n",
       "      <td>1</td>\n",
       "    </tr>\n",
       "    <tr>\n",
       "      <th>...</th>\n",
       "      <td>...</td>\n",
       "      <td>...</td>\n",
       "      <td>...</td>\n",
       "      <td>...</td>\n",
       "    </tr>\n",
       "    <tr>\n",
       "      <th>1430</th>\n",
       "      <td>0</td>\n",
       "      <td>0</td>\n",
       "      <td>1</td>\n",
       "      <td>0</td>\n",
       "    </tr>\n",
       "    <tr>\n",
       "      <th>1431</th>\n",
       "      <td>0</td>\n",
       "      <td>0</td>\n",
       "      <td>1</td>\n",
       "      <td>0</td>\n",
       "    </tr>\n",
       "    <tr>\n",
       "      <th>1432</th>\n",
       "      <td>0</td>\n",
       "      <td>0</td>\n",
       "      <td>1</td>\n",
       "      <td>0</td>\n",
       "    </tr>\n",
       "    <tr>\n",
       "      <th>1433</th>\n",
       "      <td>0</td>\n",
       "      <td>0</td>\n",
       "      <td>1</td>\n",
       "      <td>0</td>\n",
       "    </tr>\n",
       "    <tr>\n",
       "      <th>1434</th>\n",
       "      <td>0</td>\n",
       "      <td>0</td>\n",
       "      <td>1</td>\n",
       "      <td>0</td>\n",
       "    </tr>\n",
       "    <tr>\n",
       "      <th>1435</th>\n",
       "      <td>0</td>\n",
       "      <td>0</td>\n",
       "      <td>1</td>\n",
       "      <td>0</td>\n",
       "    </tr>\n",
       "    <tr>\n",
       "      <th>1436</th>\n",
       "      <td>0</td>\n",
       "      <td>0</td>\n",
       "      <td>1</td>\n",
       "      <td>0</td>\n",
       "    </tr>\n",
       "    <tr>\n",
       "      <th>1437</th>\n",
       "      <td>0</td>\n",
       "      <td>0</td>\n",
       "      <td>1</td>\n",
       "      <td>0</td>\n",
       "    </tr>\n",
       "    <tr>\n",
       "      <th>1438</th>\n",
       "      <td>0</td>\n",
       "      <td>0</td>\n",
       "      <td>0</td>\n",
       "      <td>1</td>\n",
       "    </tr>\n",
       "    <tr>\n",
       "      <th>1439</th>\n",
       "      <td>0</td>\n",
       "      <td>0</td>\n",
       "      <td>1</td>\n",
       "      <td>0</td>\n",
       "    </tr>\n",
       "    <tr>\n",
       "      <th>1440</th>\n",
       "      <td>0</td>\n",
       "      <td>0</td>\n",
       "      <td>1</td>\n",
       "      <td>0</td>\n",
       "    </tr>\n",
       "    <tr>\n",
       "      <th>1441</th>\n",
       "      <td>0</td>\n",
       "      <td>0</td>\n",
       "      <td>0</td>\n",
       "      <td>1</td>\n",
       "    </tr>\n",
       "    <tr>\n",
       "      <th>1442</th>\n",
       "      <td>1</td>\n",
       "      <td>0</td>\n",
       "      <td>0</td>\n",
       "      <td>0</td>\n",
       "    </tr>\n",
       "    <tr>\n",
       "      <th>1443</th>\n",
       "      <td>0</td>\n",
       "      <td>0</td>\n",
       "      <td>1</td>\n",
       "      <td>0</td>\n",
       "    </tr>\n",
       "    <tr>\n",
       "      <th>1444</th>\n",
       "      <td>0</td>\n",
       "      <td>0</td>\n",
       "      <td>1</td>\n",
       "      <td>0</td>\n",
       "    </tr>\n",
       "    <tr>\n",
       "      <th>1445</th>\n",
       "      <td>0</td>\n",
       "      <td>0</td>\n",
       "      <td>1</td>\n",
       "      <td>0</td>\n",
       "    </tr>\n",
       "    <tr>\n",
       "      <th>1446</th>\n",
       "      <td>0</td>\n",
       "      <td>0</td>\n",
       "      <td>1</td>\n",
       "      <td>0</td>\n",
       "    </tr>\n",
       "    <tr>\n",
       "      <th>1447</th>\n",
       "      <td>0</td>\n",
       "      <td>0</td>\n",
       "      <td>1</td>\n",
       "      <td>0</td>\n",
       "    </tr>\n",
       "    <tr>\n",
       "      <th>1448</th>\n",
       "      <td>0</td>\n",
       "      <td>0</td>\n",
       "      <td>1</td>\n",
       "      <td>0</td>\n",
       "    </tr>\n",
       "    <tr>\n",
       "      <th>1449</th>\n",
       "      <td>0</td>\n",
       "      <td>0</td>\n",
       "      <td>0</td>\n",
       "      <td>1</td>\n",
       "    </tr>\n",
       "    <tr>\n",
       "      <th>1450</th>\n",
       "      <td>0</td>\n",
       "      <td>0</td>\n",
       "      <td>1</td>\n",
       "      <td>0</td>\n",
       "    </tr>\n",
       "    <tr>\n",
       "      <th>1451</th>\n",
       "      <td>0</td>\n",
       "      <td>0</td>\n",
       "      <td>1</td>\n",
       "      <td>0</td>\n",
       "    </tr>\n",
       "    <tr>\n",
       "      <th>1452</th>\n",
       "      <td>0</td>\n",
       "      <td>0</td>\n",
       "      <td>0</td>\n",
       "      <td>1</td>\n",
       "    </tr>\n",
       "    <tr>\n",
       "      <th>1453</th>\n",
       "      <td>0</td>\n",
       "      <td>0</td>\n",
       "      <td>1</td>\n",
       "      <td>0</td>\n",
       "    </tr>\n",
       "    <tr>\n",
       "      <th>1454</th>\n",
       "      <td>1</td>\n",
       "      <td>0</td>\n",
       "      <td>0</td>\n",
       "      <td>0</td>\n",
       "    </tr>\n",
       "    <tr>\n",
       "      <th>1455</th>\n",
       "      <td>0</td>\n",
       "      <td>0</td>\n",
       "      <td>1</td>\n",
       "      <td>0</td>\n",
       "    </tr>\n",
       "    <tr>\n",
       "      <th>1456</th>\n",
       "      <td>0</td>\n",
       "      <td>0</td>\n",
       "      <td>1</td>\n",
       "      <td>0</td>\n",
       "    </tr>\n",
       "    <tr>\n",
       "      <th>1457</th>\n",
       "      <td>0</td>\n",
       "      <td>0</td>\n",
       "      <td>1</td>\n",
       "      <td>0</td>\n",
       "    </tr>\n",
       "    <tr>\n",
       "      <th>1458</th>\n",
       "      <td>0</td>\n",
       "      <td>0</td>\n",
       "      <td>1</td>\n",
       "      <td>0</td>\n",
       "    </tr>\n",
       "    <tr>\n",
       "      <th>1459</th>\n",
       "      <td>0</td>\n",
       "      <td>0</td>\n",
       "      <td>1</td>\n",
       "      <td>0</td>\n",
       "    </tr>\n",
       "  </tbody>\n",
       "</table>\n",
       "<p>1460 rows × 4 columns</p>\n",
       "</div>"
      ],
      "text/plain": [
       "      MSZ_FV  MSZ_RH  MSZ_RL  MSZ_RM\n",
       "0          0       0       1       0\n",
       "1          0       0       1       0\n",
       "2          0       0       1       0\n",
       "3          0       0       1       0\n",
       "4          0       0       1       0\n",
       "5          0       0       1       0\n",
       "6          0       0       1       0\n",
       "7          0       0       1       0\n",
       "8          0       0       0       1\n",
       "9          0       0       1       0\n",
       "10         0       0       1       0\n",
       "11         0       0       1       0\n",
       "12         0       0       1       0\n",
       "13         0       0       1       0\n",
       "14         0       0       1       0\n",
       "15         0       0       0       1\n",
       "16         0       0       1       0\n",
       "17         0       0       1       0\n",
       "18         0       0       1       0\n",
       "19         0       0       1       0\n",
       "20         0       0       1       0\n",
       "21         0       0       0       1\n",
       "22         0       0       1       0\n",
       "23         0       0       0       1\n",
       "24         0       0       1       0\n",
       "25         0       0       1       0\n",
       "26         0       0       1       0\n",
       "27         0       0       1       0\n",
       "28         0       0       1       0\n",
       "29         0       0       0       1\n",
       "...      ...     ...     ...     ...\n",
       "1430       0       0       1       0\n",
       "1431       0       0       1       0\n",
       "1432       0       0       1       0\n",
       "1433       0       0       1       0\n",
       "1434       0       0       1       0\n",
       "1435       0       0       1       0\n",
       "1436       0       0       1       0\n",
       "1437       0       0       1       0\n",
       "1438       0       0       0       1\n",
       "1439       0       0       1       0\n",
       "1440       0       0       1       0\n",
       "1441       0       0       0       1\n",
       "1442       1       0       0       0\n",
       "1443       0       0       1       0\n",
       "1444       0       0       1       0\n",
       "1445       0       0       1       0\n",
       "1446       0       0       1       0\n",
       "1447       0       0       1       0\n",
       "1448       0       0       1       0\n",
       "1449       0       0       0       1\n",
       "1450       0       0       1       0\n",
       "1451       0       0       1       0\n",
       "1452       0       0       0       1\n",
       "1453       0       0       1       0\n",
       "1454       1       0       0       0\n",
       "1455       0       0       1       0\n",
       "1456       0       0       1       0\n",
       "1457       0       0       1       0\n",
       "1458       0       0       1       0\n",
       "1459       0       0       1       0\n",
       "\n",
       "[1460 rows x 4 columns]"
      ]
     },
     "execution_count": 85,
     "metadata": {},
     "output_type": "execute_result"
    }
   ],
   "source": [
    "df_test"
   ]
  },
  {
   "cell_type": "code",
   "execution_count": 84,
   "metadata": {},
   "outputs": [],
   "source": [
    "dum_dict = {\n",
    "    'MSZoning':'MSZ',\n",
    "    'Street':'St',\n",
    "    'LotShape':'LtShp'\n",
    "}\n",
    "\n",
    "df_test = pd.DataFrame()\n",
    "for key, value in dum_dict.items():\n",
    "    df1 = pd.concat([df1, pd.get_dummies(df1[key], prefix=value, drop_first=True).copy()],axis=1)\n",
    "    \n",
    "# df1 = pd.concat([df1, pd.get_dummies(df1['MSZoning'], prefix='MSZ',drop_first=True).copy()],axis=1)\n",
    "# df1 = pd.concat([df1, pd.get_dummies(df1['Street'], prefix='St',drop_first=True).copy()],axis=1)\n",
    "# df1 = pd.concat([df1, pd.get_dummies(df1['LotShape'], prefix='LtShp',drop_first=True).copy()],axis=1)\n",
    "# df1 = pd.concat([df1, pd.get_dummies(df1['LandContour'], prefix='LdCntr',drop_first=True).copy()],axis=1)\n",
    "# df1 = pd.concat([df1, pd.get_dummies(df1['LotConfig'], prefix='LtCfg',drop_first=True).copy()],axis=1)\n",
    "# df1 = pd.concat([df1, pd.get_dummies(df1['LandSlope'], prefix='LdSlp',drop_first=True).copy()],axis=1)\n",
    "# df1 = pd.concat([df1, pd.get_dummies(df1['Neighborhood'], prefix='Nbrhd',drop_first=True).copy()],axis=1)\n",
    "# df1 = pd.concat([df1, pd.get_dummies(df1['BldgType'], prefix='BlgTy',drop_first=True).copy()],axis=1)\n",
    "# df1 = pd.concat([df1, pd.get_dummies(df1['HouseStyle'], prefix='HsSty',drop_first=True).copy()],axis=1)\n",
    "# df1 = pd.concat([df1, pd.get_dummies(df1['Foundation'], prefix='Fn',drop_first=True).copy()],axis=1)\n",
    "\n",
    "# df1 = pd.concat([df1, pd.get_dummies(df1['Alley'], prefix='All').copy()],axis=1)\n",
    "# df1 = pd.concat([df1, pd.get_dummies(df1['Condition1'], prefix='Cnd1').copy()],axis=1)\n",
    "# df1 = pd.concat([df1, pd.get_dummies(df1['Condition2'], prefix='Cnd2').copy()],axis=1)\n",
    "# df1 = pd.concat([df1, pd.get_dummies(df1['BsmtQual'], prefix='Bsmt').copy()],axis=1)\n",
    "# df1 = pd.concat([df1, pd.get_dummies(df1['GarageType'], prefix='GrgeTy').copy()],axis=1)\n",
    "\n",
    "# Drop the negative dummy variables \n",
    "# df1 = df1.drop(columns=['All_NoAcc','Cnd1_Norm','Cnd2_Norm','Bsmt_NoBsmt','GrgeTy_NoGarage'])\n",
    "\n",
    "# Drop the original columns\n",
    "# df1 = df1.drop(columns=['MSZoning','Street','Alley','LotShape','LandContour','LotConfig','LandSlope',\\\n",
    "#                         'Neighborhood','Condition1','Condition2','BldgType','HouseStyle','Foundation',\\\n",
    "#                         'BsmtQual','GarageType'])"
   ]
  },
  {
   "cell_type": "code",
   "execution_count": null,
   "metadata": {},
   "outputs": [],
   "source": [
    "# check for correlation among the features\n",
    "\n",
    "fig = plt.figure(figsize=(15,15))\n",
    "sns.heatmap(df1.corr())\n",
    "plt.savefig('proj3.pdf')"
   ]
  },
  {
   "cell_type": "code",
   "execution_count": 17,
   "metadata": {},
   "outputs": [],
   "source": [
    "from sklearn.preprocessing import StandardScaler\n",
    "\n",
    "# Setting up the target and predictor matrix\n",
    "y_price = house['SalePrice'].copy()\n",
    "\n",
    "# Standardise the predictor data\n",
    "ss1 = StandardScaler()\n",
    "x_fix_s = ss1.fit_transform(df1)\n",
    "x_fix_s = pd.DataFrame(x_fix_s, columns=df1.columns)"
   ]
  },
  {
   "cell_type": "code",
   "execution_count": 18,
   "metadata": {},
   "outputs": [
    {
     "data": {
      "text/html": [
       "<div>\n",
       "<style scoped>\n",
       "    .dataframe tbody tr th:only-of-type {\n",
       "        vertical-align: middle;\n",
       "    }\n",
       "\n",
       "    .dataframe tbody tr th {\n",
       "        vertical-align: top;\n",
       "    }\n",
       "\n",
       "    .dataframe thead th {\n",
       "        text-align: right;\n",
       "    }\n",
       "</style>\n",
       "<table border=\"1\" class=\"dataframe\">\n",
       "  <thead>\n",
       "    <tr style=\"text-align: right;\">\n",
       "      <th></th>\n",
       "      <th>LotFrontage</th>\n",
       "      <th>LotArea</th>\n",
       "      <th>YearBuilt</th>\n",
       "      <th>YearRemodAdd</th>\n",
       "      <th>BsmtFinSF1</th>\n",
       "      <th>BsmtFinSF2</th>\n",
       "      <th>BsmtUnfSF</th>\n",
       "      <th>TotalBsmtSF</th>\n",
       "      <th>1stFlrSF</th>\n",
       "      <th>2ndFlrSF</th>\n",
       "      <th>...</th>\n",
       "      <th>Bsmt_Ex</th>\n",
       "      <th>Bsmt_Fa</th>\n",
       "      <th>Bsmt_Gd</th>\n",
       "      <th>Bsmt_TA</th>\n",
       "      <th>GrgeTy_2Types</th>\n",
       "      <th>GrgeTy_Attchd</th>\n",
       "      <th>GrgeTy_Basment</th>\n",
       "      <th>GrgeTy_BuiltIn</th>\n",
       "      <th>GrgeTy_CarPort</th>\n",
       "      <th>GrgeTy_Detchd</th>\n",
       "    </tr>\n",
       "  </thead>\n",
       "  <tbody>\n",
       "    <tr>\n",
       "      <th>0</th>\n",
       "      <td>0.212877</td>\n",
       "      <td>-0.207142</td>\n",
       "      <td>1.050994</td>\n",
       "      <td>0.878668</td>\n",
       "      <td>0.575425</td>\n",
       "      <td>-0.288653</td>\n",
       "      <td>-0.944591</td>\n",
       "      <td>-0.459303</td>\n",
       "      <td>-0.793434</td>\n",
       "      <td>1.161852</td>\n",
       "      <td>...</td>\n",
       "      <td>-0.300609</td>\n",
       "      <td>-0.156721</td>\n",
       "      <td>1.167244</td>\n",
       "      <td>-0.894565</td>\n",
       "      <td>-0.064238</td>\n",
       "      <td>0.823505</td>\n",
       "      <td>-0.114827</td>\n",
       "      <td>-0.253259</td>\n",
       "      <td>-0.078757</td>\n",
       "      <td>-0.600559</td>\n",
       "    </tr>\n",
       "    <tr>\n",
       "      <th>1</th>\n",
       "      <td>0.645747</td>\n",
       "      <td>-0.091886</td>\n",
       "      <td>0.156734</td>\n",
       "      <td>-0.429577</td>\n",
       "      <td>1.171992</td>\n",
       "      <td>-0.288653</td>\n",
       "      <td>-0.641228</td>\n",
       "      <td>0.466465</td>\n",
       "      <td>0.257140</td>\n",
       "      <td>-0.795163</td>\n",
       "      <td>...</td>\n",
       "      <td>-0.300609</td>\n",
       "      <td>-0.156721</td>\n",
       "      <td>1.167244</td>\n",
       "      <td>-0.894565</td>\n",
       "      <td>-0.064238</td>\n",
       "      <td>0.823505</td>\n",
       "      <td>-0.114827</td>\n",
       "      <td>-0.253259</td>\n",
       "      <td>-0.078757</td>\n",
       "      <td>-0.600559</td>\n",
       "    </tr>\n",
       "    <tr>\n",
       "      <th>2</th>\n",
       "      <td>0.299451</td>\n",
       "      <td>0.073480</td>\n",
       "      <td>0.984752</td>\n",
       "      <td>0.830215</td>\n",
       "      <td>0.092907</td>\n",
       "      <td>-0.288653</td>\n",
       "      <td>-0.301643</td>\n",
       "      <td>-0.313369</td>\n",
       "      <td>-0.627826</td>\n",
       "      <td>1.189351</td>\n",
       "      <td>...</td>\n",
       "      <td>-0.300609</td>\n",
       "      <td>-0.156721</td>\n",
       "      <td>1.167244</td>\n",
       "      <td>-0.894565</td>\n",
       "      <td>-0.064238</td>\n",
       "      <td>0.823505</td>\n",
       "      <td>-0.114827</td>\n",
       "      <td>-0.253259</td>\n",
       "      <td>-0.078757</td>\n",
       "      <td>-0.600559</td>\n",
       "    </tr>\n",
       "    <tr>\n",
       "      <th>3</th>\n",
       "      <td>0.068587</td>\n",
       "      <td>-0.096897</td>\n",
       "      <td>-1.863632</td>\n",
       "      <td>-0.720298</td>\n",
       "      <td>-0.499274</td>\n",
       "      <td>-0.288653</td>\n",
       "      <td>-0.061670</td>\n",
       "      <td>-0.687324</td>\n",
       "      <td>-0.521734</td>\n",
       "      <td>0.937276</td>\n",
       "      <td>...</td>\n",
       "      <td>-0.300609</td>\n",
       "      <td>-0.156721</td>\n",
       "      <td>-0.856719</td>\n",
       "      <td>1.117862</td>\n",
       "      <td>-0.064238</td>\n",
       "      <td>-1.214321</td>\n",
       "      <td>-0.114827</td>\n",
       "      <td>-0.253259</td>\n",
       "      <td>-0.078757</td>\n",
       "      <td>1.665116</td>\n",
       "    </tr>\n",
       "    <tr>\n",
       "      <th>4</th>\n",
       "      <td>0.761179</td>\n",
       "      <td>0.375148</td>\n",
       "      <td>0.951632</td>\n",
       "      <td>0.733308</td>\n",
       "      <td>0.463568</td>\n",
       "      <td>-0.288653</td>\n",
       "      <td>-0.174865</td>\n",
       "      <td>0.199680</td>\n",
       "      <td>-0.045611</td>\n",
       "      <td>1.617877</td>\n",
       "      <td>...</td>\n",
       "      <td>-0.300609</td>\n",
       "      <td>-0.156721</td>\n",
       "      <td>1.167244</td>\n",
       "      <td>-0.894565</td>\n",
       "      <td>-0.064238</td>\n",
       "      <td>0.823505</td>\n",
       "      <td>-0.114827</td>\n",
       "      <td>-0.253259</td>\n",
       "      <td>-0.078757</td>\n",
       "      <td>-0.600559</td>\n",
       "    </tr>\n",
       "  </tbody>\n",
       "</table>\n",
       "<p>5 rows × 119 columns</p>\n",
       "</div>"
      ],
      "text/plain": [
       "   LotFrontage   LotArea  YearBuilt  YearRemodAdd  BsmtFinSF1  BsmtFinSF2  \\\n",
       "0     0.212877 -0.207142   1.050994      0.878668    0.575425   -0.288653   \n",
       "1     0.645747 -0.091886   0.156734     -0.429577    1.171992   -0.288653   \n",
       "2     0.299451  0.073480   0.984752      0.830215    0.092907   -0.288653   \n",
       "3     0.068587 -0.096897  -1.863632     -0.720298   -0.499274   -0.288653   \n",
       "4     0.761179  0.375148   0.951632      0.733308    0.463568   -0.288653   \n",
       "\n",
       "   BsmtUnfSF  TotalBsmtSF  1stFlrSF  2ndFlrSF      ...         Bsmt_Ex  \\\n",
       "0  -0.944591    -0.459303 -0.793434  1.161852      ...       -0.300609   \n",
       "1  -0.641228     0.466465  0.257140 -0.795163      ...       -0.300609   \n",
       "2  -0.301643    -0.313369 -0.627826  1.189351      ...       -0.300609   \n",
       "3  -0.061670    -0.687324 -0.521734  0.937276      ...       -0.300609   \n",
       "4  -0.174865     0.199680 -0.045611  1.617877      ...       -0.300609   \n",
       "\n",
       "    Bsmt_Fa   Bsmt_Gd   Bsmt_TA  GrgeTy_2Types  GrgeTy_Attchd  GrgeTy_Basment  \\\n",
       "0 -0.156721  1.167244 -0.894565      -0.064238       0.823505       -0.114827   \n",
       "1 -0.156721  1.167244 -0.894565      -0.064238       0.823505       -0.114827   \n",
       "2 -0.156721  1.167244 -0.894565      -0.064238       0.823505       -0.114827   \n",
       "3 -0.156721 -0.856719  1.117862      -0.064238      -1.214321       -0.114827   \n",
       "4 -0.156721  1.167244 -0.894565      -0.064238       0.823505       -0.114827   \n",
       "\n",
       "   GrgeTy_BuiltIn  GrgeTy_CarPort  GrgeTy_Detchd  \n",
       "0       -0.253259       -0.078757      -0.600559  \n",
       "1       -0.253259       -0.078757      -0.600559  \n",
       "2       -0.253259       -0.078757      -0.600559  \n",
       "3       -0.253259       -0.078757       1.665116  \n",
       "4       -0.253259       -0.078757      -0.600559  \n",
       "\n",
       "[5 rows x 119 columns]"
      ]
     },
     "execution_count": 18,
     "metadata": {},
     "output_type": "execute_result"
    }
   ],
   "source": [
    "x_fix_s.head()"
   ]
  },
  {
   "cell_type": "code",
   "execution_count": 19,
   "metadata": {
    "scrolled": true
   },
   "outputs": [],
   "source": [
    "# split data into train vs test\n",
    "x_fix_train = x_fix_s[house['YrSold']<2010]\n",
    "x_fix_test = x_fix_s[house['YrSold']==2010]\n",
    "y_price_train = y_price[house['YrSold']<2010]\n",
    "y_price_test = y_price[house['YrSold']==2010]"
   ]
  },
  {
   "cell_type": "code",
   "execution_count": 20,
   "metadata": {},
   "outputs": [
    {
     "name": "stderr",
     "output_type": "stream",
     "text": [
      "[Parallel(n_jobs=-1)]: Done   6 out of  10 | elapsed:    8.8s remaining:    5.8s\n"
     ]
    },
    {
     "name": "stdout",
     "output_type": "stream",
     "text": [
      "Mean score of model using only GrLiveArea to predict SalePrice: 0.492533356114\n",
      "Baseline accuracy on test data: 0.509216876058\n"
     ]
    },
    {
     "name": "stderr",
     "output_type": "stream",
     "text": [
      "[Parallel(n_jobs=-1)]: Done  10 out of  10 | elapsed:   11.3s finished\n"
     ]
    }
   ],
   "source": [
    "# Define baseline accuracy - GrLiveArea (Above Ground Living area in sqft) to predict sales price\n",
    "base_x_train = x_fix_train['GrLivArea'].values.reshape(-1,1)\n",
    "base_x_test = x_fix_test['GrLivArea'].values.reshape(-1,1)\n",
    "\n",
    "from sklearn.linear_model import LinearRegression\n",
    "from sklearn.model_selection import cross_val_score\n",
    "\n",
    "# Use cross validation to get mean baseline accuracy score\n",
    "base_lr = LinearRegression()\n",
    "base_scores = cross_val_score(base_lr, X=base_x_train, y=y_price_train, cv=10, n_jobs=-1, verbose=1)\n",
    "print('Mean score of model using only GrLiveArea to predict SalePrice: {}'.format(np.mean(base_scores)))\n",
    "\n",
    "base_lr.fit(base_x_train, y_price_train)\n",
    "print('Baseline accuracy on test data: {}'.format(base_lr.score(base_x_test, y_price_test)))"
   ]
  },
  {
   "cell_type": "markdown",
   "metadata": {},
   "source": [
    "from Chenghan\n",
    "\n",
    "Use SelectKBest(f_classif) to select best features to predict SalePrice  "
   ]
  },
  {
   "cell_type": "code",
   "execution_count": 21,
   "metadata": {},
   "outputs": [],
   "source": [
    "from sklearn.feature_selection import SelectKBest, chi2, f_classif\n",
    "\n",
    "# Define function that takes in the number of features to choose and returns the list of best features\n",
    "def choose_features(n, x_train, y_train):\n",
    "    skb = SelectKBest(f_classif, k=n)\n",
    "    skb.fit(x_train, y_train)\n",
    "    best_features = pd.DataFrame([x_train.columns, list(skb.scores_)],\\\n",
    "                                 index=['feature','f_score']).T.sort_values('f_score', ascending=False)\n",
    "    return list(best_features[0:n]['feature'])"
   ]
  },
  {
   "cell_type": "code",
   "execution_count": 24,
   "metadata": {},
   "outputs": [],
   "source": [
    "# Define function that takes the list of features and prints out the cross validation score\n",
    "# and score of model on test data\n",
    "\n",
    "def score_model(features, x_train, y_train, x_test, y_test):\n",
    "    select_x_train = x_train[features]\n",
    "    select_x_test = x_test[features]\n",
    "    \n",
    "    lr = LinearRegression()\n",
    "    mean_score = np.mean(cross_val_score(lr, X=select_x_train, y=y_train, cv=5, n_jobs=-1, verbose=1))\n",
    "#    print('Mean score of model with {} features: {}'.format(len(features), mean_score)\n",
    "    \n",
    "    lr.fit(select_x_train, y_train)\n",
    "    test_score = lr.score(select_x_test, y_test)\n",
    "#    print('Model accuracy on test data: {}'.format(test_score))\n",
    "    return mean_score, test_score"
   ]
  },
  {
   "cell_type": "code",
   "execution_count": 25,
   "metadata": {},
   "outputs": [
    {
     "name": "stderr",
     "output_type": "stream",
     "text": [
      "[Parallel(n_jobs=-1)]: Done   6 out of  10 | elapsed:    8.8s remaining:    5.9s\n",
      "[Parallel(n_jobs=-1)]: Done  10 out of  10 | elapsed:   11.6s finished\n",
      "[Parallel(n_jobs=-1)]: Done   6 out of  10 | elapsed:    8.6s remaining:    5.7s\n",
      "[Parallel(n_jobs=-1)]: Done  10 out of  10 | elapsed:   11.2s finished\n",
      "[Parallel(n_jobs=-1)]: Done   6 out of  10 | elapsed:    8.5s remaining:    5.6s\n",
      "[Parallel(n_jobs=-1)]: Done  10 out of  10 | elapsed:   11.0s finished\n",
      "[Parallel(n_jobs=-1)]: Done   6 out of  10 | elapsed:    8.5s remaining:    5.6s\n",
      "[Parallel(n_jobs=-1)]: Done  10 out of  10 | elapsed:   11.2s finished\n",
      "[Parallel(n_jobs=-1)]: Done   6 out of  10 | elapsed:    8.3s remaining:    5.5s\n",
      "[Parallel(n_jobs=-1)]: Done  10 out of  10 | elapsed:   10.8s finished\n",
      "[Parallel(n_jobs=-1)]: Done   6 out of  10 | elapsed:    8.6s remaining:    5.7s\n",
      "[Parallel(n_jobs=-1)]: Done  10 out of  10 | elapsed:   11.2s finished\n",
      "[Parallel(n_jobs=-1)]: Done   6 out of  10 | elapsed:    8.6s remaining:    5.7s\n",
      "[Parallel(n_jobs=-1)]: Done  10 out of  10 | elapsed:   11.2s finished\n",
      "[Parallel(n_jobs=-1)]: Done   6 out of  10 | elapsed:    8.6s remaining:    5.7s\n",
      "[Parallel(n_jobs=-1)]: Done  10 out of  10 | elapsed:   11.2s finished\n",
      "[Parallel(n_jobs=-1)]: Done   6 out of  10 | elapsed:    8.7s remaining:    5.8s\n",
      "[Parallel(n_jobs=-1)]: Done  10 out of  10 | elapsed:   11.4s finished\n",
      "[Parallel(n_jobs=-1)]: Done   6 out of  10 | elapsed:    8.8s remaining:    5.8s\n",
      "[Parallel(n_jobs=-1)]: Done  10 out of  10 | elapsed:   11.4s finished\n",
      "[Parallel(n_jobs=-1)]: Done   6 out of  10 | elapsed:    8.5s remaining:    5.6s\n",
      "[Parallel(n_jobs=-1)]: Done  10 out of  10 | elapsed:   11.1s finished\n",
      "[Parallel(n_jobs=-1)]: Done   6 out of  10 | elapsed:    8.7s remaining:    5.7s\n",
      "[Parallel(n_jobs=-1)]: Done  10 out of  10 | elapsed:   11.1s finished\n",
      "[Parallel(n_jobs=-1)]: Done   6 out of  10 | elapsed:    8.8s remaining:    5.8s\n",
      "[Parallel(n_jobs=-1)]: Done  10 out of  10 | elapsed:   11.3s finished\n",
      "[Parallel(n_jobs=-1)]: Done   6 out of  10 | elapsed:    8.5s remaining:    5.6s\n",
      "[Parallel(n_jobs=-1)]: Done  10 out of  10 | elapsed:   11.1s finished\n",
      "[Parallel(n_jobs=-1)]: Done   6 out of  10 | elapsed:    8.6s remaining:    5.7s\n",
      "[Parallel(n_jobs=-1)]: Done  10 out of  10 | elapsed:   11.1s finished\n",
      "[Parallel(n_jobs=-1)]: Done   6 out of  10 | elapsed:    8.7s remaining:    5.8s\n",
      "[Parallel(n_jobs=-1)]: Done  10 out of  10 | elapsed:   11.3s finished\n",
      "[Parallel(n_jobs=-1)]: Done   6 out of  10 | elapsed:    8.6s remaining:    5.7s\n",
      "[Parallel(n_jobs=-1)]: Done  10 out of  10 | elapsed:   11.2s finished\n",
      "[Parallel(n_jobs=-1)]: Done   6 out of  10 | elapsed:    8.7s remaining:    5.7s\n",
      "[Parallel(n_jobs=-1)]: Done  10 out of  10 | elapsed:   11.4s finished\n",
      "[Parallel(n_jobs=-1)]: Done   6 out of  10 | elapsed:    8.7s remaining:    5.8s\n",
      "[Parallel(n_jobs=-1)]: Done  10 out of  10 | elapsed:   11.3s finished\n",
      "[Parallel(n_jobs=-1)]: Done   6 out of  10 | elapsed:    8.7s remaining:    5.8s\n",
      "[Parallel(n_jobs=-1)]: Done  10 out of  10 | elapsed:   11.2s finished\n",
      "[Parallel(n_jobs=-1)]: Done   6 out of  10 | elapsed:    8.9s remaining:    5.9s\n",
      "[Parallel(n_jobs=-1)]: Done  10 out of  10 | elapsed:   11.6s finished\n",
      "[Parallel(n_jobs=-1)]: Done   6 out of  10 | elapsed:    8.5s remaining:    5.7s\n",
      "[Parallel(n_jobs=-1)]: Done  10 out of  10 | elapsed:   11.1s finished\n",
      "[Parallel(n_jobs=-1)]: Done   6 out of  10 | elapsed:    8.5s remaining:    5.6s\n",
      "[Parallel(n_jobs=-1)]: Done  10 out of  10 | elapsed:   11.1s finished\n",
      "[Parallel(n_jobs=-1)]: Done   6 out of  10 | elapsed:    8.9s remaining:    5.9s\n",
      "[Parallel(n_jobs=-1)]: Done  10 out of  10 | elapsed:   11.4s finished\n",
      "[Parallel(n_jobs=-1)]: Done   6 out of  10 | elapsed:    8.6s remaining:    5.7s\n",
      "[Parallel(n_jobs=-1)]: Done  10 out of  10 | elapsed:   11.1s finished\n",
      "[Parallel(n_jobs=-1)]: Done   6 out of  10 | elapsed:    8.6s remaining:    5.7s\n",
      "[Parallel(n_jobs=-1)]: Done  10 out of  10 | elapsed:   11.1s finished\n",
      "[Parallel(n_jobs=-1)]: Done   6 out of  10 | elapsed:    8.8s remaining:    5.8s\n",
      "[Parallel(n_jobs=-1)]: Done  10 out of  10 | elapsed:   11.3s finished\n",
      "[Parallel(n_jobs=-1)]: Done   6 out of  10 | elapsed:    8.5s remaining:    5.6s\n",
      "[Parallel(n_jobs=-1)]: Done  10 out of  10 | elapsed:   11.0s finished\n",
      "[Parallel(n_jobs=-1)]: Done   6 out of  10 | elapsed:    8.7s remaining:    5.8s\n",
      "[Parallel(n_jobs=-1)]: Done  10 out of  10 | elapsed:   11.4s finished\n",
      "[Parallel(n_jobs=-1)]: Done   6 out of  10 | elapsed:    8.4s remaining:    5.6s\n",
      "[Parallel(n_jobs=-1)]: Done  10 out of  10 | elapsed:   11.1s finished\n",
      "[Parallel(n_jobs=-1)]: Done   6 out of  10 | elapsed:    8.6s remaining:    5.7s\n",
      "[Parallel(n_jobs=-1)]: Done  10 out of  10 | elapsed:   11.2s finished\n",
      "[Parallel(n_jobs=-1)]: Done   6 out of  10 | elapsed:    8.7s remaining:    5.8s\n",
      "[Parallel(n_jobs=-1)]: Done  10 out of  10 | elapsed:   11.2s finished\n",
      "[Parallel(n_jobs=-1)]: Done   6 out of  10 | elapsed:    8.6s remaining:    5.7s\n",
      "[Parallel(n_jobs=-1)]: Done  10 out of  10 | elapsed:   11.1s finished\n",
      "[Parallel(n_jobs=-1)]: Done   6 out of  10 | elapsed:    8.4s remaining:    5.6s\n",
      "[Parallel(n_jobs=-1)]: Done  10 out of  10 | elapsed:   11.0s finished\n",
      "[Parallel(n_jobs=-1)]: Done   6 out of  10 | elapsed:    8.7s remaining:    5.8s\n",
      "[Parallel(n_jobs=-1)]: Done  10 out of  10 | elapsed:   11.2s finished\n",
      "[Parallel(n_jobs=-1)]: Done   6 out of  10 | elapsed:    8.6s remaining:    5.7s\n",
      "[Parallel(n_jobs=-1)]: Done  10 out of  10 | elapsed:   11.1s finished\n",
      "[Parallel(n_jobs=-1)]: Done   6 out of  10 | elapsed:    8.5s remaining:    5.7s\n",
      "[Parallel(n_jobs=-1)]: Done  10 out of  10 | elapsed:   11.1s finished\n",
      "[Parallel(n_jobs=-1)]: Done   6 out of  10 | elapsed:    8.7s remaining:    5.8s\n",
      "[Parallel(n_jobs=-1)]: Done  10 out of  10 | elapsed:   11.3s finished\n",
      "[Parallel(n_jobs=-1)]: Done   6 out of  10 | elapsed:    8.5s remaining:    5.7s\n",
      "[Parallel(n_jobs=-1)]: Done  10 out of  10 | elapsed:   11.2s finished\n",
      "[Parallel(n_jobs=-1)]: Done   6 out of  10 | elapsed:    8.7s remaining:    5.8s\n",
      "[Parallel(n_jobs=-1)]: Done  10 out of  10 | elapsed:   11.3s finished\n",
      "[Parallel(n_jobs=-1)]: Done   6 out of  10 | elapsed:    8.7s remaining:    5.7s\n",
      "[Parallel(n_jobs=-1)]: Done  10 out of  10 | elapsed:   11.2s finished\n",
      "[Parallel(n_jobs=-1)]: Done   6 out of  10 | elapsed:    8.7s remaining:    5.8s\n",
      "[Parallel(n_jobs=-1)]: Done  10 out of  10 | elapsed:   11.2s finished\n",
      "[Parallel(n_jobs=-1)]: Done   6 out of  10 | elapsed:    8.7s remaining:    5.8s\n",
      "[Parallel(n_jobs=-1)]: Done  10 out of  10 | elapsed:   11.3s finished\n",
      "[Parallel(n_jobs=-1)]: Done   6 out of  10 | elapsed:    8.6s remaining:    5.7s\n",
      "[Parallel(n_jobs=-1)]: Done  10 out of  10 | elapsed:   11.2s finished\n",
      "[Parallel(n_jobs=-1)]: Done   6 out of  10 | elapsed:    8.5s remaining:    5.7s\n",
      "[Parallel(n_jobs=-1)]: Done  10 out of  10 | elapsed:   11.1s finished\n",
      "[Parallel(n_jobs=-1)]: Done   6 out of  10 | elapsed:    8.7s remaining:    5.8s\n",
      "[Parallel(n_jobs=-1)]: Done  10 out of  10 | elapsed:   11.3s finished\n",
      "[Parallel(n_jobs=-1)]: Done   6 out of  10 | elapsed:    8.7s remaining:    5.8s\n",
      "[Parallel(n_jobs=-1)]: Done  10 out of  10 | elapsed:   11.2s finished\n",
      "[Parallel(n_jobs=-1)]: Done   6 out of  10 | elapsed:    8.7s remaining:    5.7s\n",
      "[Parallel(n_jobs=-1)]: Done  10 out of  10 | elapsed:   11.3s finished\n",
      "[Parallel(n_jobs=-1)]: Done   6 out of  10 | elapsed:    8.6s remaining:    5.7s\n",
      "[Parallel(n_jobs=-1)]: Done  10 out of  10 | elapsed:   11.1s finished\n",
      "[Parallel(n_jobs=-1)]: Done   6 out of  10 | elapsed:    8.8s remaining:    5.8s\n",
      "[Parallel(n_jobs=-1)]: Done  10 out of  10 | elapsed:   11.3s finished\n",
      "[Parallel(n_jobs=-1)]: Done   6 out of  10 | elapsed:    8.7s remaining:    5.8s\n",
      "[Parallel(n_jobs=-1)]: Done  10 out of  10 | elapsed:   11.4s finished\n",
      "[Parallel(n_jobs=-1)]: Done   6 out of  10 | elapsed:    8.5s remaining:    5.6s\n",
      "[Parallel(n_jobs=-1)]: Done  10 out of  10 | elapsed:   11.1s finished\n",
      "[Parallel(n_jobs=-1)]: Done   6 out of  10 | elapsed:    8.5s remaining:    5.7s\n",
      "[Parallel(n_jobs=-1)]: Done  10 out of  10 | elapsed:   11.1s finished\n",
      "[Parallel(n_jobs=-1)]: Done   6 out of  10 | elapsed:    8.9s remaining:    5.9s\n",
      "[Parallel(n_jobs=-1)]: Done  10 out of  10 | elapsed:   11.4s finished\n",
      "[Parallel(n_jobs=-1)]: Done   6 out of  10 | elapsed:    8.5s remaining:    5.7s\n",
      "[Parallel(n_jobs=-1)]: Done  10 out of  10 | elapsed:   11.1s finished\n",
      "[Parallel(n_jobs=-1)]: Done   6 out of  10 | elapsed:    8.6s remaining:    5.7s\n",
      "[Parallel(n_jobs=-1)]: Done  10 out of  10 | elapsed:   11.1s finished\n",
      "[Parallel(n_jobs=-1)]: Done   6 out of  10 | elapsed:    8.5s remaining:    5.6s\n",
      "[Parallel(n_jobs=-1)]: Done  10 out of  10 | elapsed:   11.0s finished\n",
      "[Parallel(n_jobs=-1)]: Done   6 out of  10 | elapsed:    8.5s remaining:    5.7s\n",
      "[Parallel(n_jobs=-1)]: Done  10 out of  10 | elapsed:   11.2s finished\n",
      "[Parallel(n_jobs=-1)]: Done   6 out of  10 | elapsed:    8.8s remaining:    5.8s\n",
      "[Parallel(n_jobs=-1)]: Done  10 out of  10 | elapsed:   11.6s finished\n",
      "[Parallel(n_jobs=-1)]: Done   6 out of  10 | elapsed:    9.0s remaining:    6.0s\n",
      "[Parallel(n_jobs=-1)]: Done  10 out of  10 | elapsed:   11.7s finished\n",
      "[Parallel(n_jobs=-1)]: Done   6 out of  10 | elapsed:   10.2s remaining:    6.7s\n",
      "[Parallel(n_jobs=-1)]: Done  10 out of  10 | elapsed:   12.8s finished\n",
      "[Parallel(n_jobs=-1)]: Done   6 out of  10 | elapsed:    8.7s remaining:    5.8s\n",
      "[Parallel(n_jobs=-1)]: Done  10 out of  10 | elapsed:   11.2s finished\n",
      "[Parallel(n_jobs=-1)]: Done   6 out of  10 | elapsed:    9.2s remaining:    6.1s\n",
      "[Parallel(n_jobs=-1)]: Done  10 out of  10 | elapsed:   11.9s finished\n",
      "[Parallel(n_jobs=-1)]: Done   6 out of  10 | elapsed:    8.5s remaining:    5.6s\n",
      "[Parallel(n_jobs=-1)]: Done  10 out of  10 | elapsed:   11.1s finished\n",
      "[Parallel(n_jobs=-1)]: Done   6 out of  10 | elapsed:    8.6s remaining:    5.7s\n",
      "[Parallel(n_jobs=-1)]: Done  10 out of  10 | elapsed:   11.0s finished\n",
      "[Parallel(n_jobs=-1)]: Done   6 out of  10 | elapsed:    8.6s remaining:    5.7s\n",
      "[Parallel(n_jobs=-1)]: Done  10 out of  10 | elapsed:   11.1s finished\n",
      "[Parallel(n_jobs=-1)]: Done   6 out of  10 | elapsed:    8.6s remaining:    5.7s\n",
      "[Parallel(n_jobs=-1)]: Done  10 out of  10 | elapsed:   11.2s finished\n",
      "[Parallel(n_jobs=-1)]: Done   6 out of  10 | elapsed:    8.9s remaining:    5.9s\n",
      "[Parallel(n_jobs=-1)]: Done  10 out of  10 | elapsed:   11.6s finished\n",
      "[Parallel(n_jobs=-1)]: Done   6 out of  10 | elapsed:    8.9s remaining:    5.9s\n",
      "[Parallel(n_jobs=-1)]: Done  10 out of  10 | elapsed:   11.4s finished\n",
      "[Parallel(n_jobs=-1)]: Done   6 out of  10 | elapsed:    8.6s remaining:    5.7s\n",
      "[Parallel(n_jobs=-1)]: Done  10 out of  10 | elapsed:   11.1s finished\n",
      "[Parallel(n_jobs=-1)]: Done   6 out of  10 | elapsed:    8.5s remaining:    5.6s\n",
      "[Parallel(n_jobs=-1)]: Done  10 out of  10 | elapsed:   11.1s finished\n",
      "[Parallel(n_jobs=-1)]: Done   6 out of  10 | elapsed:    8.5s remaining:    5.6s\n",
      "[Parallel(n_jobs=-1)]: Done  10 out of  10 | elapsed:   11.1s finished\n",
      "[Parallel(n_jobs=-1)]: Done   6 out of  10 | elapsed:    8.8s remaining:    5.8s\n",
      "[Parallel(n_jobs=-1)]: Done  10 out of  10 | elapsed:   11.4s finished\n",
      "[Parallel(n_jobs=-1)]: Done   6 out of  10 | elapsed:    8.6s remaining:    5.7s\n",
      "[Parallel(n_jobs=-1)]: Done  10 out of  10 | elapsed:   11.1s finished\n",
      "[Parallel(n_jobs=-1)]: Done   6 out of  10 | elapsed:    8.7s remaining:    5.8s\n",
      "[Parallel(n_jobs=-1)]: Done  10 out of  10 | elapsed:   11.2s finished\n",
      "[Parallel(n_jobs=-1)]: Done   6 out of  10 | elapsed:    8.6s remaining:    5.7s\n",
      "[Parallel(n_jobs=-1)]: Done  10 out of  10 | elapsed:   11.1s finished\n",
      "[Parallel(n_jobs=-1)]: Done   6 out of  10 | elapsed:    8.7s remaining:    5.8s\n",
      "[Parallel(n_jobs=-1)]: Done  10 out of  10 | elapsed:   11.4s finished\n",
      "[Parallel(n_jobs=-1)]: Done   6 out of  10 | elapsed:    8.8s remaining:    5.8s\n",
      "[Parallel(n_jobs=-1)]: Done  10 out of  10 | elapsed:   11.3s finished\n",
      "[Parallel(n_jobs=-1)]: Done   6 out of  10 | elapsed:    8.6s remaining:    5.7s\n",
      "[Parallel(n_jobs=-1)]: Done  10 out of  10 | elapsed:   11.1s finished\n",
      "[Parallel(n_jobs=-1)]: Done   6 out of  10 | elapsed:    8.5s remaining:    5.6s\n",
      "[Parallel(n_jobs=-1)]: Done  10 out of  10 | elapsed:   11.0s finished\n",
      "[Parallel(n_jobs=-1)]: Done   6 out of  10 | elapsed:    8.6s remaining:    5.7s\n",
      "[Parallel(n_jobs=-1)]: Done  10 out of  10 | elapsed:   11.1s finished\n",
      "[Parallel(n_jobs=-1)]: Done   6 out of  10 | elapsed:    8.7s remaining:    5.7s\n",
      "[Parallel(n_jobs=-1)]: Done  10 out of  10 | elapsed:   11.3s finished\n",
      "[Parallel(n_jobs=-1)]: Done   6 out of  10 | elapsed:    8.8s remaining:    5.8s\n",
      "[Parallel(n_jobs=-1)]: Done  10 out of  10 | elapsed:   11.3s finished\n",
      "[Parallel(n_jobs=-1)]: Done   6 out of  10 | elapsed:    8.8s remaining:    5.8s\n",
      "[Parallel(n_jobs=-1)]: Done  10 out of  10 | elapsed:   11.4s finished\n",
      "[Parallel(n_jobs=-1)]: Done   6 out of  10 | elapsed:    8.5s remaining:    5.6s\n",
      "[Parallel(n_jobs=-1)]: Done  10 out of  10 | elapsed:   11.1s finished\n",
      "[Parallel(n_jobs=-1)]: Done   6 out of  10 | elapsed:    8.6s remaining:    5.7s\n",
      "[Parallel(n_jobs=-1)]: Done  10 out of  10 | elapsed:   11.3s finished\n",
      "[Parallel(n_jobs=-1)]: Done   6 out of  10 | elapsed:    8.7s remaining:    5.7s\n",
      "[Parallel(n_jobs=-1)]: Done  10 out of  10 | elapsed:   11.1s finished\n",
      "[Parallel(n_jobs=-1)]: Done   6 out of  10 | elapsed:    8.9s remaining:    5.9s\n",
      "[Parallel(n_jobs=-1)]: Done  10 out of  10 | elapsed:   11.5s finished\n",
      "[Parallel(n_jobs=-1)]: Done   6 out of  10 | elapsed:    8.9s remaining:    5.9s\n",
      "[Parallel(n_jobs=-1)]: Done  10 out of  10 | elapsed:   11.5s finished\n",
      "[Parallel(n_jobs=-1)]: Done   6 out of  10 | elapsed:    8.5s remaining:    5.7s\n",
      "[Parallel(n_jobs=-1)]: Done  10 out of  10 | elapsed:   11.1s finished\n",
      "[Parallel(n_jobs=-1)]: Done   6 out of  10 | elapsed:    8.7s remaining:    5.8s\n",
      "[Parallel(n_jobs=-1)]: Done  10 out of  10 | elapsed:   11.2s finished\n",
      "[Parallel(n_jobs=-1)]: Done   6 out of  10 | elapsed:    8.8s remaining:    5.8s\n",
      "[Parallel(n_jobs=-1)]: Done  10 out of  10 | elapsed:   11.4s finished\n",
      "[Parallel(n_jobs=-1)]: Done   6 out of  10 | elapsed:    8.8s remaining:    5.8s\n",
      "[Parallel(n_jobs=-1)]: Done  10 out of  10 | elapsed:   11.3s finished\n",
      "[Parallel(n_jobs=-1)]: Done   6 out of  10 | elapsed:    8.7s remaining:    5.8s\n",
      "[Parallel(n_jobs=-1)]: Done  10 out of  10 | elapsed:   11.3s finished\n",
      "[Parallel(n_jobs=-1)]: Done   6 out of  10 | elapsed:    8.8s remaining:    5.8s\n",
      "[Parallel(n_jobs=-1)]: Done  10 out of  10 | elapsed:   11.4s finished\n",
      "[Parallel(n_jobs=-1)]: Done   6 out of  10 | elapsed:    8.8s remaining:    5.8s\n",
      "[Parallel(n_jobs=-1)]: Done  10 out of  10 | elapsed:   11.3s finished\n",
      "[Parallel(n_jobs=-1)]: Done   6 out of  10 | elapsed:    8.6s remaining:    5.7s\n",
      "[Parallel(n_jobs=-1)]: Done  10 out of  10 | elapsed:   11.3s finished\n",
      "[Parallel(n_jobs=-1)]: Done   6 out of  10 | elapsed:    8.8s remaining:    5.8s\n",
      "[Parallel(n_jobs=-1)]: Done  10 out of  10 | elapsed:   11.3s finished\n",
      "[Parallel(n_jobs=-1)]: Done   6 out of  10 | elapsed:    8.6s remaining:    5.7s\n",
      "[Parallel(n_jobs=-1)]: Done  10 out of  10 | elapsed:   11.1s finished\n",
      "[Parallel(n_jobs=-1)]: Done   6 out of  10 | elapsed:    8.7s remaining:    5.8s\n",
      "[Parallel(n_jobs=-1)]: Done  10 out of  10 | elapsed:   11.3s finished\n",
      "[Parallel(n_jobs=-1)]: Done   6 out of  10 | elapsed:    8.8s remaining:    5.9s\n",
      "[Parallel(n_jobs=-1)]: Done  10 out of  10 | elapsed:   11.5s finished\n",
      "[Parallel(n_jobs=-1)]: Done   6 out of  10 | elapsed:    8.5s remaining:    5.6s\n",
      "[Parallel(n_jobs=-1)]: Done  10 out of  10 | elapsed:   11.1s finished\n",
      "[Parallel(n_jobs=-1)]: Done   6 out of  10 | elapsed:    8.7s remaining:    5.8s\n",
      "[Parallel(n_jobs=-1)]: Done  10 out of  10 | elapsed:   11.3s finished\n",
      "[Parallel(n_jobs=-1)]: Done   6 out of  10 | elapsed:    8.6s remaining:    5.7s\n",
      "[Parallel(n_jobs=-1)]: Done  10 out of  10 | elapsed:   11.1s finished\n",
      "[Parallel(n_jobs=-1)]: Done   6 out of  10 | elapsed:    8.5s remaining:    5.6s\n",
      "[Parallel(n_jobs=-1)]: Done  10 out of  10 | elapsed:   11.1s finished\n",
      "[Parallel(n_jobs=-1)]: Done   6 out of  10 | elapsed:    9.0s remaining:    5.9s\n",
      "[Parallel(n_jobs=-1)]: Done  10 out of  10 | elapsed:   11.5s finished\n",
      "[Parallel(n_jobs=-1)]: Done   6 out of  10 | elapsed:    8.7s remaining:    5.8s\n",
      "[Parallel(n_jobs=-1)]: Done  10 out of  10 | elapsed:   11.2s finished\n",
      "[Parallel(n_jobs=-1)]: Done   6 out of  10 | elapsed:    8.8s remaining:    5.9s\n",
      "[Parallel(n_jobs=-1)]: Done  10 out of  10 | elapsed:   11.4s finished\n",
      "[Parallel(n_jobs=-1)]: Done   6 out of  10 | elapsed:    8.8s remaining:    5.8s\n",
      "[Parallel(n_jobs=-1)]: Done  10 out of  10 | elapsed:   11.4s finished\n",
      "[Parallel(n_jobs=-1)]: Done   6 out of  10 | elapsed:    8.6s remaining:    5.7s\n",
      "[Parallel(n_jobs=-1)]: Done  10 out of  10 | elapsed:   11.2s finished\n",
      "[Parallel(n_jobs=-1)]: Done   6 out of  10 | elapsed:    8.5s remaining:    5.6s\n",
      "[Parallel(n_jobs=-1)]: Done  10 out of  10 | elapsed:   11.1s finished\n",
      "[Parallel(n_jobs=-1)]: Done   6 out of  10 | elapsed:    8.6s remaining:    5.7s\n",
      "[Parallel(n_jobs=-1)]: Done  10 out of  10 | elapsed:   11.1s finished\n",
      "[Parallel(n_jobs=-1)]: Done   6 out of  10 | elapsed:    8.7s remaining:    5.7s\n",
      "[Parallel(n_jobs=-1)]: Done  10 out of  10 | elapsed:   11.2s finished\n",
      "[Parallel(n_jobs=-1)]: Done   6 out of  10 | elapsed:    8.8s remaining:    5.8s\n",
      "[Parallel(n_jobs=-1)]: Done  10 out of  10 | elapsed:   11.3s finished\n",
      "[Parallel(n_jobs=-1)]: Done   6 out of  10 | elapsed:    8.9s remaining:    5.9s\n",
      "[Parallel(n_jobs=-1)]: Done  10 out of  10 | elapsed:   11.4s finished\n",
      "[Parallel(n_jobs=-1)]: Done   6 out of  10 | elapsed:    8.7s remaining:    5.7s\n",
      "[Parallel(n_jobs=-1)]: Done  10 out of  10 | elapsed:   11.3s finished\n",
      "[Parallel(n_jobs=-1)]: Done   6 out of  10 | elapsed:    8.6s remaining:    5.7s\n",
      "[Parallel(n_jobs=-1)]: Done  10 out of  10 | elapsed:   11.1s finished\n",
      "[Parallel(n_jobs=-1)]: Done   6 out of  10 | elapsed:    8.7s remaining:    5.7s\n",
      "[Parallel(n_jobs=-1)]: Done  10 out of  10 | elapsed:   11.2s finished\n",
      "[Parallel(n_jobs=-1)]: Done   6 out of  10 | elapsed:    8.7s remaining:    5.8s\n",
      "[Parallel(n_jobs=-1)]: Done  10 out of  10 | elapsed:   11.2s finished\n"
     ]
    }
   ],
   "source": [
    "# Iterate through the number of features to record the scores\n",
    "n_feat = range(1, len(x_fix_train.columns)+1)\n",
    "mean_score_list = []\n",
    "test_score_list = []\n",
    "\n",
    "for n in n_feat:\n",
    "    feat_list = choose_features(n, x_fix_train, y_price_train)\n",
    "    mean_score, test_score = score_model(feat_list, x_fix_train, y_price_train, x_fix_test, y_price_test)\n",
    "    mean_score_list.append(mean_score)\n",
    "    test_score_list.append(test_score)"
   ]
  },
  {
   "cell_type": "code",
   "execution_count": 29,
   "metadata": {},
   "outputs": [
    {
     "data": {
      "image/png": "[encoded data removed]",
      "text/plain": [
       "<Figure size 720x720 with 1 Axes>"
      ]
     },
     "metadata": {
      "image/png": {
       "height": 599,
       "width": 603
      }
     },
     "output_type": "display_data"
    }
   ],
   "source": [
    "# Plot the R2 of test data vs number of features\n",
    "fig = plt.figure(figsize=(10,10))\n",
    "ax1 = fig.add_subplot(111)\n",
    "ax1.plot(n_feat[1:70], mean_score_list[1:70], color='r', label='Mean Score')\n",
    "ax1.plot(n_feat, test_score_list, color='b', label='Test Score')\n",
    "plt.xlabel('Number of features')\n",
    "plt.ylabel('R2 score')\n",
    "plt.title('R2 score vs Number of Features')\n",
    "plt.legend(loc=1)\n",
    "plt.show()"
   ]
  },
  {
   "cell_type": "code",
   "execution_count": 27,
   "metadata": {},
   "outputs": [
    {
     "data": {
      "image/png": "[encoded data removed]",
      "text/plain": [
       "<Figure size 720x720 with 1 Axes>"
      ]
     },
     "metadata": {
      "image/png": {
       "height": 599,
       "width": 609
      }
     },
     "output_type": "display_data"
    }
   ],
   "source": [
    "# Plot the mean of cross validation score vs number of features\n",
    "fig = plt.figure(figsize=(10,10))\n",
    "ax1 = fig.add_subplot(111)\n",
    "ax1.plot(n_feat, mean_score_list, color='r', label='Mean Score')\n",
    "# ax1.plot(n_feat, test_score_list, color='b', label='Test Score')\n",
    "plt.xlabel('Number of features')\n",
    "plt.ylabel('Mean Cross Val Score')\n",
    "plt.title('Mean Cross-Val score vs Number of Features')\n",
    "plt.legend(loc=1)\n",
    "plt.show()"
   ]
  },
  {
   "cell_type": "markdown",
   "metadata": {},
   "source": [
    "from Chenghan  \n",
    "\n",
    " 5 features: Cross validation score = 0.4192 , Score on test data = 0.3546  \n",
    "10 features: Cross validation score = 0.7161 , Score on test data = 0.7248  \n",
    "20 features: Cross validation score = 0.7406 , Score on test data = 0.7956  \n",
    "30 features: Cross validation score = 0.7565 , Score on test data = 0.8208  \n",
    "40 features: Cross validation score = 0.7709 , Score on test data = 0.8494  \n",
    "50 features: Cross validation score = 0.7738 , Score on test data = 0.8551  \n",
    "\n",
    "From 40 to 50 features, it is noted that the score improvement is not significant anymore.  \n",
    "\n",
    "41 features: Cross validation score = 0.7708 , Score on test data = 0.8494  \n",
    "35 features: Cross validation score = 0.7669 , Score on test data = 0.8430  \n",
    "\n",
    "From 35 to 40 features, there is slight improvement cross validation score  \n",
    "but the improvement on test data is not significant anymore."
   ]
  },
  {
   "cell_type": "code",
   "execution_count": 31,
   "metadata": {},
   "outputs": [
    {
     "name": "stderr",
     "output_type": "stream",
     "text": [
      "[Parallel(n_jobs=-1)]: Done   6 out of  10 | elapsed:    8.9s remaining:    5.9s\n"
     ]
    },
    {
     "name": "stdout",
     "output_type": "stream",
     "text": [
      "Mean score of model with all features: -1.15807647933e+21\n",
      "Model accuracy on test data: 0.873052063936\n"
     ]
    },
    {
     "name": "stderr",
     "output_type": "stream",
     "text": [
      "[Parallel(n_jobs=-1)]: Done  10 out of  10 | elapsed:   11.7s finished\n"
     ]
    }
   ],
   "source": [
    "# Predict the SalePrice with all the features included\n",
    "lr_all = LinearRegression()\n",
    "all_scores = cross_val_score(lr_all, X=x_fix_train, y=y_price_train, cv=10, n_jobs=-1, verbose=1)\n",
    "print('Mean score of model with all features: {}'.format(np.mean(all_scores)))\n",
    "\n",
    "lr_all.fit(x_fix_train, y_price_train)\n",
    "print('Model accuracy on test data: {}'.format(lr_all.score(x_fix_test, y_price_test)))"
   ]
  },
  {
   "cell_type": "markdown",
   "metadata": {},
   "source": [
    "from Chenghan\n",
    "\n",
    "Try using RFECV to select features"
   ]
  },
  {
   "cell_type": "code",
   "execution_count": 32,
   "metadata": {},
   "outputs": [
    {
     "name": "stdout",
     "output_type": "stream",
     "text": [
      "Number of features selected by RFE: 26\n",
      "Index([u'LotArea', u'YearBuilt', u'YearRemodAdd', u'BsmtFinSF1',\n",
      "       u'TotalBsmtSF', u'1stFlrSF', u'2ndFlrSF', u'GrLivArea', u'FullBath',\n",
      "       u'BedroomAbvGr', u'KitchenAbvGr', u'Fireplaces', u'GarageCars',\n",
      "       u'MS_2S_New', u'MSZ_FV', u'MSZ_RH', u'MSZ_RL', u'MSZ_RM', u'LtShp_IR3',\n",
      "       u'Nbrhd_NoRidge', u'Nbrhd_NridgHt', u'Nbrhd_StoneBr', u'BlgTy_Twnhs',\n",
      "       u'BlgTy_TwnhsE', u'Cnd2_PosN', u'Bsmt_Ex'],\n",
      "      dtype='object')\n"
     ]
    }
   ],
   "source": [
    "from sklearn.feature_selection import RFECV\n",
    "\n",
    "rfe_lr = LinearRegression()\n",
    "rfe1 = RFECV(rfe_lr, step=1, cv=10, n_jobs=-1, verbose=1)\n",
    "rfe1.fit(x_fix_train, y_price_train)\n",
    "\n",
    "print('Number of features selected by RFE: {}'.format(rfe1.n_features_))\n",
    "rfe1_list = x_fix_train.columns[rfe1.support_]\n",
    "print(rfe1_list)"
   ]
  },
  {
   "cell_type": "code",
   "execution_count": 33,
   "metadata": {},
   "outputs": [
    {
     "name": "stderr",
     "output_type": "stream",
     "text": [
      "[Parallel(n_jobs=-1)]: Done   6 out of  10 | elapsed:    8.5s remaining:    5.6s\n",
      "[Parallel(n_jobs=-1)]: Done  10 out of  10 | elapsed:   11.1s finished\n"
     ]
    },
    {
     "data": {
      "text/plain": [
       "(0.7862535906529657, 0.859949772282402)"
      ]
     },
     "execution_count": 33,
     "metadata": {},
     "output_type": "execute_result"
    }
   ],
   "source": [
    "# check score of model with the features selected by RFE\n",
    "score_model(rfe1_list, x_fix_train, y_price_train, x_fix_test, y_price_test)"
   ]
  },
  {
   "cell_type": "markdown",
   "metadata": {},
   "source": [
    "from Chenghan  \n",
    "The 26 features selected by RFE method scores higher than the 26 features selected by f_classifier method  \n",
    "F classifier (26 features):  Cross validation mean score = 0.7412 , Score on test data = 0.7958  \n",
    "RFE (26 features):  Cross validation mean score = 0.7863 , Score on test data = 0.8599  \n",
    "\n",
    "The score of 26 features selected by RFE is 0.8599 vs 0.8731 of model using all 119 features but it is  \n",
    "much simpler, 26 features vs 119"
   ]
  },
  {
   "cell_type": "markdown",
   "metadata": {},
   "source": [
    "<img src=\"http://imgur.com/l5NasQj.png\" style=\"float: left; margin: 25px 15px 0px 0px; height: 25px\">\n",
    "\n",
    "## 2. Determine any value of *changeable* property characteristics unexplained by the *fixed* ones.\n",
    "\n",
    "---\n",
    "\n",
    "Now that you have a model that estimates the price of a house based on its static characteristics, we can move forward with part 2 and 3 of the plan: what are the costs/benefits of quality, condition, and renovations?\n",
    "\n",
    "There are two specific requirements for these estimates:\n",
    "1. The estimates of effects must be in terms of dollars added or subtracted from the house value. \n",
    "2. The effects must be on the variance in price remaining from the first model.\n",
    "\n",
    "The residuals from the first model (training and testing) represent the variance in price unexplained by the fixed characteristics. Of that variance in price remaining, how much of it can be explained by the easy-to-change aspects of the property?\n",
    "\n",
    "---\n",
    "\n",
    "**Your goals:**\n",
    "1. Evaluate the effect in dollars of the renovate-able features. \n",
    "- How would your company use this second model and its coefficients to determine whether they should buy a property or not? Explain how the company can use the two models you have built to determine if they can make money. \n",
    "- Investigate how much of the variance in price remaining is explained by these features.\n",
    "- Do you trust your model? Should it be used to evaluate which properties to buy and fix up?"
   ]
  },
  {
   "cell_type": "markdown",
   "metadata": {},
   "source": [
    "from Chenghan  \n",
    "\n",
    "Use the model with features selected by RFE to predict the SalePrice of each property.  \n",
    "Calculate the difference as (Actual SalePrice - Predicted SalePrice).  \n",
    "Assign this difference as the new target variable to be predicted from the renovate-able features"
   ]
  },
  {
   "cell_type": "code",
   "execution_count": 34,
   "metadata": {},
   "outputs": [],
   "source": [
    "# Setting up the predictor matrix with the 26 features selected by RFE\n",
    "x_pred = x_fix_s[rfe1_list]\n",
    "\n",
    "lr2 = LinearRegression(n_jobs=-1)\n",
    "lr2.fit(x_pred, y_price)\n",
    "y_pred = lr2.predict(x_pred)\n",
    "\n",
    "y_var = y_price - y_pred"
   ]
  },
  {
   "cell_type": "code",
   "execution_count": 35,
   "metadata": {},
   "outputs": [],
   "source": [
    "# Setting up the train and test data of the new y_var data\n",
    "y_var_train = y_var[house['YrSold']<2010]\n",
    "y_var_test = y_var[house['YrSold']==2010]"
   ]
  },
  {
   "cell_type": "code",
   "execution_count": 36,
   "metadata": {},
   "outputs": [],
   "source": [
    "# Creating a list of the 'renovate-able' characteristics\n",
    "\n",
    "cols_2 = ['Utilities','OverallQual','OverallCond','RoofStyle','RoofMatl','Exterior1st','Exterior2nd',\\\n",
    "          'MasVnrType','MasVnrArea','ExterQual','ExterCond','BsmtCond','BsmtExposure','BsmtFinType1',\\\n",
    "          'BsmtFinType2','Heating','HeatingQC','CentralAir','Electrical','KitchenQual','Functional',\\\n",
    "          'FireplaceQu','GarageFinish','GarageQual','GarageCond','PavedDrive','WoodDeckSF','OpenPorchSF',\\\n",
    "          'EnclosedPorch','3SsnPorch','ScreenPorch','PoolArea','PoolQC','Fence','MiscFeature','MiscVal']"
   ]
  },
  {
   "cell_type": "code",
   "execution_count": 37,
   "metadata": {
    "scrolled": true
   },
   "outputs": [],
   "source": [
    "# Creating a new dataframe with the renovate-able features\n",
    "df2 = house[cols_2].copy()"
   ]
  },
  {
   "cell_type": "code",
   "execution_count": 38,
   "metadata": {},
   "outputs": [],
   "source": [
    "df2 = pd.concat([df2, pd.get_dummies(df2['Utilities'], prefix='Ut',drop_first=True).copy()],axis=1)\n",
    "df2 = pd.concat([df2, pd.get_dummies(df2['RoofStyle'], prefix='RfSty',drop_first=True).copy()],axis=1)\n",
    "df2 = pd.concat([df2, pd.get_dummies(df2['RoofMatl'], prefix='RfMat',drop_first=True).copy()],axis=1)\n",
    "df2 = pd.concat([df2, pd.get_dummies(df2['Exterior1st'], prefix='Ext1',drop_first=True).copy()],axis=1)\n",
    "df2 = pd.concat([df2, pd.get_dummies(df2['ExterQual'], prefix='ExtQu',drop_first=True).copy()],axis=1)\n",
    "df2 = pd.concat([df2, pd.get_dummies(df2['ExterCond'], prefix='ExtCnd',drop_first=True).copy()],axis=1)\n",
    "df2 = pd.concat([df2, pd.get_dummies(df2['Heating'], prefix='Heat',drop_first=True).copy()],axis=1)\n",
    "df2 = pd.concat([df2, pd.get_dummies(df2['HeatingQC'], prefix='HeatQC',drop_first=True).copy()],axis=1)\n",
    "df2 = pd.concat([df2, pd.get_dummies(df2['CentralAir'], prefix='CAir',drop_first=True).copy()],axis=1)\n",
    "df2 = pd.concat([df2, pd.get_dummies(df2['Electrical'], prefix='Elec',drop_first=True).copy()],axis=1)\n",
    "df2 = pd.concat([df2, pd.get_dummies(df2['KitchenQual'], prefix='KitQual',drop_first=True).copy()],axis=1)\n",
    "df2 = pd.concat([df2, pd.get_dummies(df2['Functional'], prefix='Func',drop_first=True).copy()],axis=1)\n",
    "df2 = pd.concat([df2, pd.get_dummies(df2['PavedDrive'], prefix='PvDr',drop_first=True).copy()],axis=1)\n",
    "\n",
    "df2 = pd.concat([df2, pd.get_dummies(df2['Exterior2nd'], prefix='Ext2').copy()],axis=1)\n",
    "df2 = pd.concat([df2, pd.get_dummies(df2['MasVnrType'], prefix='MasVTy').copy()],axis=1)\n",
    "df2 = pd.concat([df2, pd.get_dummies(df2['BsmtCond'], prefix='BsCnd').copy()],axis=1)\n",
    "df2 = pd.concat([df2, pd.get_dummies(df2['BsmtExposure'], prefix='BsExp').copy()],axis=1)\n",
    "df2 = pd.concat([df2, pd.get_dummies(df2['BsmtFinType1'], prefix='BsTy1').copy()],axis=1)\n",
    "df2 = pd.concat([df2, pd.get_dummies(df2['BsmtFinType2'], prefix='BsTy2').copy()],axis=1)\n",
    "df2 = pd.concat([df2, pd.get_dummies(df2['FireplaceQu'], prefix='FireQu').copy()],axis=1)\n",
    "df2 = pd.concat([df2, pd.get_dummies(df2['GarageFinish'], prefix='GrgeFin').copy()],axis=1)\n",
    "df2 = pd.concat([df2, pd.get_dummies(df2['GarageQual'], prefix='GrgeQu').copy()],axis=1)\n",
    "df2 = pd.concat([df2, pd.get_dummies(df2['GarageCond'], prefix='GrgeCnd').copy()],axis=1)\n",
    "df2 = pd.concat([df2, pd.get_dummies(df2['PoolQC'], prefix='Pool').copy()],axis=1)\n",
    "df2 = pd.concat([df2, pd.get_dummies(df2['Fence'], prefix='Fen').copy()],axis=1)\n",
    "df2 = pd.concat([df2, pd.get_dummies(df2['MiscFeature'], prefix='MiscFea').copy()],axis=1)\n",
    "\n",
    "# Drop the negative binary dummy variable\n",
    "df2 = df2.drop(columns=['Ext2_Other','MasVTy_None','BsCnd_NoBsmt','BsExp_NoBsmt','BsTy1_NoBsmt'\\\n",
    "                       ,'BsTy2_NoBsmt','FireQu_NoFirepl','GrgeFin_NoGarage','GrgeQu_NoGarage'\\\n",
    "                       ,'GrgeCnd_NoGarage','Pool_NoPool','Fen_NoFence','MiscFea_None'])\n",
    "\n",
    "# Drop the original categorical columns\n",
    "df2 = df2.drop(columns=['Utilities','RoofStyle','RoofMatl','Exterior1st','Exterior2nd','MasVnrType'\\\n",
    "                       ,'ExterQual','ExterCond','BsmtCond','BsmtExposure','BsmtFinType1','BsmtFinType2'\\\n",
    "                       ,'Heating','HeatingQC','CentralAir','Electrical','KitchenQual','Functional'\\\n",
    "                       ,'FireplaceQu','GarageFinish','GarageQual','GarageCond','PavedDrive','PoolQC'\\\n",
    "                       ,'Fence','MiscFeature'])"
   ]
  },
  {
   "cell_type": "code",
   "execution_count": 39,
   "metadata": {
    "collapsed": true
   },
   "outputs": [
    {
     "data": {
      "image/png": "[encoded data removed]",
      "text/plain": [
       "<Figure size 1080x1080 with 2 Axes>"
      ]
     },
     "metadata": {
      "image/png": {
       "height": 912,
       "width": 871
      }
     },
     "output_type": "display_data"
    }
   ],
   "source": [
    "fig = plt.figure(figsize=(15,15))\n",
    "sns.heatmap(df2.corr())\n",
    "plt.savefig('proj3_2.pdf')"
   ]
  },
  {
   "cell_type": "code",
   "execution_count": 40,
   "metadata": {
    "scrolled": true
   },
   "outputs": [],
   "source": [
    "# standardise the predictor matrix\n",
    "\n",
    "ss2 = StandardScaler()\n",
    "x_renov_s = ss2.fit_transform(df2)\n",
    "x_renov_s = pd.DataFrame(x_renov_s, columns=df2.columns)\n",
    "\n",
    "x_renov_train = x_renov_s[house['YrSold']<2010]\n",
    "x_renov_test = x_renov_s[house['YrSold']==2010]"
   ]
  },
  {
   "cell_type": "code",
   "execution_count": 41,
   "metadata": {},
   "outputs": [
    {
     "name": "stderr",
     "output_type": "stream",
     "text": [
      "[Parallel(n_jobs=-1)]: Done   6 out of  10 | elapsed:    8.7s remaining:    5.8s\n"
     ]
    },
    {
     "name": "stdout",
     "output_type": "stream",
     "text": [
      "Mean cross validation score: 0.0257824635909\n",
      "Score on test data: -0.000437415783117\n"
     ]
    },
    {
     "name": "stderr",
     "output_type": "stream",
     "text": [
      "[Parallel(n_jobs=-1)]: Done  10 out of  10 | elapsed:   11.2s finished\n"
     ]
    }
   ],
   "source": [
    "# Define baseline as predict y_var with OverallCond (Overall Condition of House)\n",
    "\n",
    "mean_score, test_score = score_model(['OverallCond'], x_renov_train, y_var_train, x_renov_test, y_var_test)\n",
    "print('Mean cross validation score: {}'.format(mean_score))\n",
    "print('Score on test data: {}'.format(test_score))"
   ]
  },
  {
   "cell_type": "code",
   "execution_count": 42,
   "metadata": {},
   "outputs": [
    {
     "name": "stderr",
     "output_type": "stream",
     "text": [
      "C:\\Users\\Yang\\AppData\\Local\\Continuum\\anaconda2\\lib\\site-packages\\sklearn\\feature_selection\\univariate_selection.py:109: RuntimeWarning: invalid value encountered in divide\n",
      "  msw = sswn / float(dfwn)\n",
      "[Parallel(n_jobs=-1)]: Done   6 out of  10 | elapsed:    9.1s remaining:    6.0s\n"
     ]
    },
    {
     "name": "stdout",
     "output_type": "stream",
     "text": [
      "Mean cross validation score: -2.07910146711e+24\n",
      "Score on test data: 0.0442638781954\n"
     ]
    },
    {
     "name": "stderr",
     "output_type": "stream",
     "text": [
      "[Parallel(n_jobs=-1)]: Done  10 out of  10 | elapsed:   11.6s finished\n"
     ]
    }
   ],
   "source": [
    "# Manually iterate through the number of features to record the scores\n",
    "\n",
    "feat2_list = choose_features(30, x_renov_train, y_var_train)\n",
    "mean_score, test_score = score_model(feat2_list, x_renov_train, y_var_train, x_renov_test, y_var_test)\n",
    "print('Mean cross validation score: {}'.format(mean_score))\n",
    "print('Score on test data: {}'.format(test_score))"
   ]
  },
  {
   "cell_type": "markdown",
   "metadata": {},
   "source": [
    "from Chenghan  \n",
    "5 features: Cross validation score = 0.0305 , Score on test data = 0.0320  \n",
    "10 features: Cross validation score = 0.0203 , Score on test data = 0.0394  \n",
    "20 features: Cross validation score = -0.0283 , Score on test data = 0.0266  \n",
    "30 features: Cross validation score = -2.0791e+24 , Score on test data = 0.0443  \n",
    "\n",
    "The model is terrible at predicting the variance"
   ]
  },
  {
   "cell_type": "code",
   "execution_count": 43,
   "metadata": {},
   "outputs": [
    {
     "name": "stdout",
     "output_type": "stream",
     "text": [
      "Number of features selected by RFE: 2\n",
      "Index([u'BsTy1_GLQ', u'GrgeQu_Ex'], dtype='object')\n"
     ]
    }
   ],
   "source": [
    "# Try using RFE to select features\n",
    "\n",
    "rfe2_lr = LinearRegression()\n",
    "rfe2 = RFECV(rfe2_lr, step=1, cv=10, n_jobs=-1, verbose=1)\n",
    "rfe2.fit(x_renov_train, y_var_train)\n",
    "\n",
    "print('Number of features selected by RFE: {}'.format(rfe2.n_features_))\n",
    "rfe2_list = x_renov_train.columns[rfe2.support_]\n",
    "print(rfe2_list)"
   ]
  },
  {
   "cell_type": "code",
   "execution_count": 44,
   "metadata": {},
   "outputs": [
    {
     "name": "stderr",
     "output_type": "stream",
     "text": [
      "[Parallel(n_jobs=-1)]: Done   6 out of  10 | elapsed:    8.6s remaining:    5.7s\n"
     ]
    },
    {
     "name": "stdout",
     "output_type": "stream",
     "text": [
      "Mean cross validation score: 0.00253886130475\n",
      "Score on test data: 0.00104034965567\n"
     ]
    },
    {
     "name": "stderr",
     "output_type": "stream",
     "text": [
      "[Parallel(n_jobs=-1)]: Done  10 out of  10 | elapsed:   11.2s finished\n"
     ]
    }
   ],
   "source": [
    "# check score of model with the features selected by RFE\n",
    "mean_score, test_score = score_model(rfe2_list, x_renov_train, y_var_train, x_renov_test, y_var_test)\n",
    "print('Mean cross validation score: {}'.format(mean_score))\n",
    "print('Score on test data: {}'.format(test_score))"
   ]
  },
  {
   "cell_type": "markdown",
   "metadata": {},
   "source": [
    "from Chenghan  \n",
    "The RFE selected only 2 features, but the model is terrible at predicting the price variance"
   ]
  },
  {
   "cell_type": "markdown",
   "metadata": {},
   "source": [
    "from Chenghan  \n",
    "## Alternative approach  \n",
    "Copy the 26 features selected by RFE in the first part and include them into the predictor matrix  \n",
    "with renovate-able features.  \n",
    "Use this new combined predictor matrix to predict the SalePrice.  \n",
    "See which features from the renovate-able features are selected for the new model  \n",
    "Baseline accuracy is the score from Qn 1 above:  \n",
    "Cross validation mean score = 0.7863 , Score on test data = 0.8599"
   ]
  },
  {
   "cell_type": "code",
   "execution_count": 45,
   "metadata": {},
   "outputs": [],
   "source": [
    "x_new = pd.concat([x_renov_s, x_pred], axis=1)\n",
    "\n",
    "x_new_train = x_new[house['YrSold']<2010]\n",
    "x_new_test = x_new[house['YrSold']==2010]"
   ]
  },
  {
   "cell_type": "markdown",
   "metadata": {},
   "source": [
    "from Chenghan  \n",
    "Use SelectKBest on this new predictor matrix to predict SalePrice:  \n",
    "5 features: Cross validation score = 0.6385 , Score on test data = 0.6270  \n",
    "26 features: Cross validation score = 0.7841 , Score on test data = 0.8219  \n",
    "30 features: Cross validation score = -4.8117e+23 , Score on test data = 0.8298  \n",
    "\n",
    "At 30 features, the results are getting strange, so this approach is also wrong.  "
   ]
  },
  {
   "cell_type": "code",
   "execution_count": 46,
   "metadata": {
    "scrolled": true
   },
   "outputs": [
    {
     "name": "stderr",
     "output_type": "stream",
     "text": [
      "[Parallel(n_jobs=-1)]: Done   6 out of  10 | elapsed:    9.0s remaining:    6.0s\n"
     ]
    },
    {
     "name": "stdout",
     "output_type": "stream",
     "text": [
      "Mean cross validation score: -4.81173097247e+23\n",
      "Score on test data: 0.829801549845\n"
     ]
    },
    {
     "name": "stderr",
     "output_type": "stream",
     "text": [
      "[Parallel(n_jobs=-1)]: Done  10 out of  10 | elapsed:   11.5s finished\n"
     ]
    }
   ],
   "source": [
    "# \n",
    "feat3_list = choose_features(30, x_new_train, y_price_train)\n",
    "mean_score, test_score = score_model(feat3_list, x_new_train, y_price_train, x_new_test, y_price_test)\n",
    "print('Mean cross validation score: {}'.format(mean_score))\n",
    "print('Score on test data: {}'.format(test_score))"
   ]
  },
  {
   "cell_type": "markdown",
   "metadata": {},
   "source": [
    "from Chenghan  \n",
    "# Classify the difference between actual Sale Price and predicted Sale Price  \n",
    "y_var = y_data - y_pred  \n",
    "if y_var is positive set new classifier variable to 1  \n",
    "else set classifier variable to 0  \n",
    "use the renovate-able features to predict the classification  "
   ]
  },
  {
   "cell_type": "code",
   "execution_count": 47,
   "metadata": {},
   "outputs": [],
   "source": [
    "# Set up new y target vector\n",
    "y_var_class = [1 if val > 0 else 0 for val in y_var]\n",
    "y_var_class = pd.DataFrame(y_var_class)\n",
    "\n",
    "# Split into train and test data\n",
    "y_var_class_train = np.ravel(y_var_class[house['YrSold']<2010].copy())\n",
    "y_var_class_test = np.ravel(y_var_class[house['YrSold']==2010].copy())"
   ]
  },
  {
   "cell_type": "code",
   "execution_count": 48,
   "metadata": {},
   "outputs": [
    {
     "name": "stdout",
     "output_type": "stream",
     "text": [
      "Baseline classification score: 0.505479452055\n"
     ]
    }
   ],
   "source": [
    "# Baseline classification accuracy\n",
    "print('Baseline classification score: {}'.format(np.mean(y_var_class.values)))"
   ]
  },
  {
   "cell_type": "code",
   "execution_count": 49,
   "metadata": {},
   "outputs": [
    {
     "data": {
      "text/html": [
       "<div>\n",
       "<style scoped>\n",
       "    .dataframe tbody tr th:only-of-type {\n",
       "        vertical-align: middle;\n",
       "    }\n",
       "\n",
       "    .dataframe tbody tr th {\n",
       "        vertical-align: top;\n",
       "    }\n",
       "\n",
       "    .dataframe thead th {\n",
       "        text-align: right;\n",
       "    }\n",
       "</style>\n",
       "<table border=\"1\" class=\"dataframe\">\n",
       "  <thead>\n",
       "    <tr style=\"text-align: right;\">\n",
       "      <th></th>\n",
       "      <th>coef</th>\n",
       "      <th>feature</th>\n",
       "    </tr>\n",
       "  </thead>\n",
       "  <tbody>\n",
       "    <tr>\n",
       "      <th>0</th>\n",
       "      <td>0.017047</td>\n",
       "      <td>OverallQual</td>\n",
       "    </tr>\n",
       "    <tr>\n",
       "      <th>1</th>\n",
       "      <td>0.071330</td>\n",
       "      <td>OverallCond</td>\n",
       "    </tr>\n",
       "    <tr>\n",
       "      <th>13</th>\n",
       "      <td>0.006296</td>\n",
       "      <td>RfSty_Hip</td>\n",
       "    </tr>\n",
       "    <tr>\n",
       "      <th>22</th>\n",
       "      <td>0.006272</td>\n",
       "      <td>RfMat_WdShngl</td>\n",
       "    </tr>\n",
       "    <tr>\n",
       "      <th>25</th>\n",
       "      <td>0.035898</td>\n",
       "      <td>Ext1_BrkFace</td>\n",
       "    </tr>\n",
       "    <tr>\n",
       "      <th>30</th>\n",
       "      <td>-0.000184</td>\n",
       "      <td>Ext1_MetalSd</td>\n",
       "    </tr>\n",
       "    <tr>\n",
       "      <th>40</th>\n",
       "      <td>0.002132</td>\n",
       "      <td>ExtCnd_Fa</td>\n",
       "    </tr>\n",
       "    <tr>\n",
       "      <th>45</th>\n",
       "      <td>-0.000102</td>\n",
       "      <td>Heat_GasW</td>\n",
       "    </tr>\n",
       "    <tr>\n",
       "      <th>47</th>\n",
       "      <td>-0.001482</td>\n",
       "      <td>Heat_OthW</td>\n",
       "    </tr>\n",
       "    <tr>\n",
       "      <th>55</th>\n",
       "      <td>0.005223</td>\n",
       "      <td>Elec_FuseP</td>\n",
       "    </tr>\n",
       "    <tr>\n",
       "      <th>57</th>\n",
       "      <td>-0.002023</td>\n",
       "      <td>Elec_SBrkr</td>\n",
       "    </tr>\n",
       "    <tr>\n",
       "      <th>66</th>\n",
       "      <td>0.063017</td>\n",
       "      <td>Func_Typ</td>\n",
       "    </tr>\n",
       "    <tr>\n",
       "      <th>67</th>\n",
       "      <td>-0.007898</td>\n",
       "      <td>PvDr_P</td>\n",
       "    </tr>\n",
       "    <tr>\n",
       "      <th>74</th>\n",
       "      <td>0.015431</td>\n",
       "      <td>Ext2_CmentBd</td>\n",
       "    </tr>\n",
       "    <tr>\n",
       "      <th>75</th>\n",
       "      <td>-0.011386</td>\n",
       "      <td>Ext2_HdBoard</td>\n",
       "    </tr>\n",
       "    <tr>\n",
       "      <th>79</th>\n",
       "      <td>0.003351</td>\n",
       "      <td>Ext2_Stone</td>\n",
       "    </tr>\n",
       "    <tr>\n",
       "      <th>82</th>\n",
       "      <td>0.012289</td>\n",
       "      <td>Ext2_Wd Sdng</td>\n",
       "    </tr>\n",
       "    <tr>\n",
       "      <th>87</th>\n",
       "      <td>-0.006804</td>\n",
       "      <td>BsCnd_Fa</td>\n",
       "    </tr>\n",
       "    <tr>\n",
       "      <th>92</th>\n",
       "      <td>0.027601</td>\n",
       "      <td>BsExp_Gd</td>\n",
       "    </tr>\n",
       "    <tr>\n",
       "      <th>94</th>\n",
       "      <td>-0.010114</td>\n",
       "      <td>BsExp_No</td>\n",
       "    </tr>\n",
       "    <tr>\n",
       "      <th>100</th>\n",
       "      <td>-0.034986</td>\n",
       "      <td>BsTy1_Unf</td>\n",
       "    </tr>\n",
       "    <tr>\n",
       "      <th>106</th>\n",
       "      <td>-0.003190</td>\n",
       "      <td>BsTy2_Unf</td>\n",
       "    </tr>\n",
       "    <tr>\n",
       "      <th>111</th>\n",
       "      <td>-0.041809</td>\n",
       "      <td>FireQu_TA</td>\n",
       "    </tr>\n",
       "    <tr>\n",
       "      <th>119</th>\n",
       "      <td>-0.003910</td>\n",
       "      <td>GrgeQu_TA</td>\n",
       "    </tr>\n",
       "    <tr>\n",
       "      <th>121</th>\n",
       "      <td>-0.002563</td>\n",
       "      <td>GrgeCnd_Fa</td>\n",
       "    </tr>\n",
       "  </tbody>\n",
       "</table>\n",
       "</div>"
      ],
      "text/plain": [
       "         coef        feature\n",
       "0    0.017047    OverallQual\n",
       "1    0.071330    OverallCond\n",
       "13   0.006296      RfSty_Hip\n",
       "22   0.006272  RfMat_WdShngl\n",
       "25   0.035898   Ext1_BrkFace\n",
       "30  -0.000184   Ext1_MetalSd\n",
       "40   0.002132      ExtCnd_Fa\n",
       "45  -0.000102      Heat_GasW\n",
       "47  -0.001482      Heat_OthW\n",
       "55   0.005223     Elec_FuseP\n",
       "57  -0.002023     Elec_SBrkr\n",
       "66   0.063017       Func_Typ\n",
       "67  -0.007898         PvDr_P\n",
       "74   0.015431   Ext2_CmentBd\n",
       "75  -0.011386   Ext2_HdBoard\n",
       "79   0.003351     Ext2_Stone\n",
       "82   0.012289   Ext2_Wd Sdng\n",
       "87  -0.006804       BsCnd_Fa\n",
       "92   0.027601       BsExp_Gd\n",
       "94  -0.010114       BsExp_No\n",
       "100 -0.034986      BsTy1_Unf\n",
       "106 -0.003190      BsTy2_Unf\n",
       "111 -0.041809      FireQu_TA\n",
       "119 -0.003910      GrgeQu_TA\n",
       "121 -0.002563     GrgeCnd_Fa"
      ]
     },
     "execution_count": 49,
     "metadata": {},
     "output_type": "execute_result"
    }
   ],
   "source": [
    "# Use LassoCV to select the most important features\n",
    "from sklearn.linear_model import LassoCV\n",
    "\n",
    "# Fit the LassoCV with train data\n",
    "lcv = LassoCV(cv=10, n_jobs=-1, max_iter=10000)\n",
    "lcv.fit(x_renov_train, y_var_class_train)\n",
    "\n",
    "# Combine the coefficients returned by LassoCV with the features list to identify the most important ones\n",
    "feat_lcv = pd.DataFrame({'coef':lcv.coef_, 'feature':x_renov_train.columns})\n",
    "\n",
    "# Filter out features with coefficients = zero\n",
    "feat_lcv_selected = feat_lcv[feat_lcv['coef']!=0].copy()\n",
    "feat_lcv_selected"
   ]
  },
  {
   "cell_type": "code",
   "execution_count": 50,
   "metadata": {},
   "outputs": [
    {
     "data": {
      "text/plain": [
       "25"
      ]
     },
     "execution_count": 50,
     "metadata": {},
     "output_type": "execute_result"
    }
   ],
   "source": [
    "len(feat_lcv_selected['feature'])"
   ]
  },
  {
   "cell_type": "code",
   "execution_count": 51,
   "metadata": {},
   "outputs": [],
   "source": [
    "# Set up selected features as predictor matrix split into train and test datasets\n",
    "x3_train = x_renov_train[list(feat_lcv_selected['feature'])]\n",
    "x3_test = x_renov_test[list(feat_lcv_selected['feature'])]"
   ]
  },
  {
   "cell_type": "code",
   "execution_count": 52,
   "metadata": {},
   "outputs": [
    {
     "name": "stderr",
     "output_type": "stream",
     "text": [
      "[Parallel(n_jobs=-1)]: Done   6 out of  10 | elapsed:    8.3s remaining:    5.5s\n",
      "[Parallel(n_jobs=-1)]: Done  10 out of  10 | elapsed:   10.8s finished\n"
     ]
    },
    {
     "name": "stdout",
     "output_type": "stream",
     "text": [
      "Mean score of model: 0.619519137597\n",
      "Score on test data: 0.548571428571\n"
     ]
    }
   ],
   "source": [
    "from sklearn.neighbors import KNeighborsClassifier\n",
    "\n",
    "# Try the KNN classifier with default n=5 setting\n",
    "knn = KNeighborsClassifier(n_neighbors=5, n_jobs=-1)\n",
    "knn.fit(x3_train, y_var_class_train)\n",
    "knn_scores = cross_val_score(knn, X=x3_train, y=y_var_class_train, cv=10, n_jobs=-1, verbose=1)\n",
    "\n",
    "print('Mean score of model: {}'.format(np.mean(knn_scores)))\n",
    "print('Score on test data: {}'.format(knn.score(x3_test, y_var_class_test)))"
   ]
  },
  {
   "cell_type": "code",
   "execution_count": 53,
   "metadata": {},
   "outputs": [
    {
     "name": "stdout",
     "output_type": "stream",
     "text": [
      "Fitting 10 folds for each of 44 candidates, totalling 440 fits\n"
     ]
    },
    {
     "name": "stderr",
     "output_type": "stream",
     "text": [
      "[Parallel(n_jobs=-1)]: Done  34 tasks      | elapsed:   12.5s\n",
      "[Parallel(n_jobs=-1)]: Done 184 tasks      | elapsed:   19.7s\n"
     ]
    },
    {
     "name": "stdout",
     "output_type": "stream",
     "text": [
      "{'n_neighbors': 15, 'metric': 'euclidean', 'weights': 'uniform'}\n",
      "0.6396887159533073\n"
     ]
    },
    {
     "name": "stderr",
     "output_type": "stream",
     "text": [
      "[Parallel(n_jobs=-1)]: Done 440 out of 440 | elapsed:   32.3s finished\n"
     ]
    }
   ],
   "source": [
    "# Use GridSearch to optimise the n_neighbors parameter\n",
    "from sklearn.model_selection import GridSearchCV\n",
    "\n",
    "knn_params = {\n",
    "    'n_neighbors':range(1,22,2),\n",
    "    'weights':['uniform', 'distance'],\n",
    "    'metric':['euclidean','manhattan']\n",
    "}\n",
    "\n",
    "knn_gs = GridSearchCV(knn, knn_params, n_jobs=-1, verbose=1, cv=10)\n",
    "knn_gs.fit(x3_train, y_var_class_train)\n",
    "\n",
    "print(knn_gs.best_params_)\n",
    "print(knn_gs.best_score_)"
   ]
  },
  {
   "cell_type": "code",
   "execution_count": 54,
   "metadata": {},
   "outputs": [
    {
     "name": "stdout",
     "output_type": "stream",
     "text": [
      "Score on test data: 0.582857142857\n"
     ]
    }
   ],
   "source": [
    "# Score the KNN(n=15) model with test data\n",
    "knn_15 = KNeighborsClassifier(n_neighbors=15, metric='euclidean', weights='uniform')\n",
    "knn_15.fit(x3_train, y_var_class_train)\n",
    "\n",
    "print('Score on test data: {}'.format(knn_15.score(x3_test, y_var_class_test)))"
   ]
  },
  {
   "cell_type": "markdown",
   "metadata": {},
   "source": [
    "from Chenghan  \n",
    "Using LassoCV, 25 features were selected, with the default settings of KNN classifier, test score = 0.5486  \n",
    "Using Gridsearch to tune KNN classifier, the result of N = 15, improved the test score to 0.5829  "
   ]
  },
  {
   "cell_type": "code",
   "execution_count": 57,
   "metadata": {},
   "outputs": [
    {
     "name": "stderr",
     "output_type": "stream",
     "text": [
      "[Parallel(n_jobs=-1)]: Done   6 out of  10 | elapsed:    8.8s remaining:    5.8s\n"
     ]
    },
    {
     "name": "stdout",
     "output_type": "stream",
     "text": [
      "Mean cross validation score: 0.651398982558\n",
      "Score on test data: 0.537142857143\n"
     ]
    },
    {
     "name": "stderr",
     "output_type": "stream",
     "text": [
      "[Parallel(n_jobs=-1)]: Done  10 out of  10 | elapsed:   11.3s finished\n"
     ]
    }
   ],
   "source": [
    "from sklearn.linear_model import LogisticRegression, LogisticRegressionCV\n",
    "\n",
    "# Check Logistic Regression with the same 25 features\n",
    "logr1 = LogisticRegression()\n",
    "mean_score = np.mean(cross_val_score(logr1, x3_train, y_var_class_train, cv=10, n_jobs=-1, verbose=1))\n",
    "print('Mean cross validation score: {}'.format(mean_score))\n",
    "\n",
    "logr1.fit(x3_train, y_var_class_train)\n",
    "print('Score on test data: {}'.format(logr1.score(x3_test, y_var_class_test)))"
   ]
  },
  {
   "cell_type": "markdown",
   "metadata": {},
   "source": [
    "from Chenghan  \n",
    "\n",
    "LogisticRegression scored lower than KNN on test data, 0.5371 vs 0.5829"
   ]
  },
  {
   "cell_type": "code",
   "execution_count": 58,
   "metadata": {},
   "outputs": [
    {
     "name": "stdout",
     "output_type": "stream",
     "text": [
      "Number of features selected by RFE: 56\n",
      "Index([u'OverallQual', u'OverallCond', u'EnclosedPorch', u'PoolArea',\n",
      "       u'Ut_NoSeWa', u'RfSty_Shed', u'RfMat_CompShg', u'RfMat_Membran',\n",
      "       u'RfMat_Metal', u'RfMat_Tar&Grv', u'RfMat_WdShake', u'RfMat_WdShngl',\n",
      "       u'Ext1_BrkComm', u'Ext1_BrkFace', u'Ext1_CBlock', u'Ext1_CemntBd',\n",
      "       u'Ext1_HdBoard', u'Ext1_ImStucc', u'Ext1_MetalSd', u'Ext1_Stone',\n",
      "       u'Ext1_VinylSd', u'Ext1_Wd Sdng', u'ExtCnd_Fa', u'ExtCnd_Gd',\n",
      "       u'ExtCnd_TA', u'Heat_GasA', u'Heat_GasW', u'Heat_Grav', u'Heat_OthW',\n",
      "       u'HeatQC_Po', u'Elec_FuseP', u'KitQual_Gd', u'Func_Maj2', u'Func_Typ',\n",
      "       u'PvDr_Y', u'Ext2_AsphShn', u'Ext2_CmentBd', u'Ext2_ImStucc',\n",
      "       u'Ext2_MetalSd', u'Ext2_Stone', u'Ext2_Wd Sdng', u'BsCnd_Po',\n",
      "       u'BsExp_Gd', u'BsTy1_LwQ', u'BsTy1_Unf', u'FireQu_Ex', u'FireQu_Gd',\n",
      "       u'FireQu_TA', u'GrgeQu_Fa', u'GrgeQu_Po', u'GrgeQu_TA', u'GrgeCnd_Ex',\n",
      "       u'Pool_Ex', u'Pool_Gd', u'MiscFea_Othr', u'MiscFea_TenC'],\n",
      "      dtype='object')\n"
     ]
    }
   ],
   "source": [
    "# Try RFECV with LogisticRegression to select features\n",
    "\n",
    "logr2 = LogisticRegression()\n",
    "rfe_logr = RFECV(logr2, step=1, cv=10, n_jobs=-1, verbose=1)\n",
    "rfe_logr.fit(x_renov_train, y_var_class_train)\n",
    "\n",
    "print('Number of features selected by RFE: {}'.format(rfe_logr.n_features_))\n",
    "rfe_logr_list = x_renov_train.columns[rfe_logr.support_]\n",
    "print(rfe_logr_list)"
   ]
  },
  {
   "cell_type": "code",
   "execution_count": 59,
   "metadata": {},
   "outputs": [],
   "source": [
    "# Set up selected features as predictor matrix split into train and test datasets\n",
    "x4_train = x_renov_train[list(rfe_logr_list)]\n",
    "x4_test = x_renov_test[list(rfe_logr_list)]"
   ]
  },
  {
   "cell_type": "code",
   "execution_count": 60,
   "metadata": {},
   "outputs": [
    {
     "name": "stderr",
     "output_type": "stream",
     "text": [
      "[Parallel(n_jobs=-1)]: Done   6 out of  10 | elapsed:    8.7s remaining:    5.7s\n",
      "[Parallel(n_jobs=-1)]: Done  10 out of  10 | elapsed:   11.0s finished\n"
     ]
    },
    {
     "name": "stdout",
     "output_type": "stream",
     "text": [
      "Mean score of model: 0.592163275194\n",
      "Score on test data: 0.577142857143\n"
     ]
    }
   ],
   "source": [
    "# Try KNN classifier\n",
    "knn2 = KNeighborsClassifier(n_neighbors=5, n_jobs=-1)\n",
    "knn2.fit(x4_train, y_var_class_train)\n",
    "mean_score = np.mean(cross_val_score(knn2, X=x4_train, y=y_var_class_train, cv=10, n_jobs=-1, verbose=1))\n",
    "\n",
    "print('Mean score of model: {}'.format(mean_score))\n",
    "print('Score on test data: {}'.format(knn2.score(x4_test, y_var_class_test)))"
   ]
  },
  {
   "cell_type": "code",
   "execution_count": 61,
   "metadata": {},
   "outputs": [
    {
     "name": "stdout",
     "output_type": "stream",
     "text": [
      "Fitting 10 folds for each of 24 candidates, totalling 240 fits\n"
     ]
    },
    {
     "name": "stderr",
     "output_type": "stream",
     "text": [
      "[Parallel(n_jobs=-1)]: Done  34 tasks      | elapsed:   12.2s\n",
      "[Parallel(n_jobs=-1)]: Done 184 tasks      | elapsed:   20.6s\n"
     ]
    },
    {
     "name": "stdout",
     "output_type": "stream",
     "text": [
      "{'n_neighbors': 21, 'metric': 'euclidean', 'weights': 'distance'}\n",
      "0.6249027237354086\n"
     ]
    },
    {
     "name": "stderr",
     "output_type": "stream",
     "text": [
      "[Parallel(n_jobs=-1)]: Done 240 out of 240 | elapsed:   23.4s finished\n"
     ]
    }
   ],
   "source": [
    "# Tune KNN for n_neighbors\n",
    "knn2_params = {\n",
    "    'n_neighbors':range(17,28,2),\n",
    "    'weights':['uniform', 'distance'],\n",
    "    'metric':['euclidean','manhattan']\n",
    "}\n",
    "\n",
    "knn2_gs = GridSearchCV(KNeighborsClassifier(), knn2_params, n_jobs=-1, verbose=1, cv=10)\n",
    "knn2_gs.fit(x4_train, y_var_class_train)\n",
    "\n",
    "print(knn2_gs.best_params_)\n",
    "print(knn2_gs.best_score_)"
   ]
  },
  {
   "cell_type": "code",
   "execution_count": 62,
   "metadata": {},
   "outputs": [
    {
     "name": "stdout",
     "output_type": "stream",
     "text": [
      "Score on test data: 0.605714285714\n"
     ]
    }
   ],
   "source": [
    "# Score test data with KNN classifier, n_neighbors=21\n",
    "knn_21 = KNeighborsClassifier(n_neighbors=21, metric='euclidean', weights='distance', n_jobs=-1)\n",
    "knn_21.fit(x4_train, y_var_class_train)\n",
    "\n",
    "print('Score on test data: {}'.format(knn_21.score(x4_test, y_var_class_test)))"
   ]
  },
  {
   "cell_type": "code",
   "execution_count": 63,
   "metadata": {},
   "outputs": [
    {
     "name": "stderr",
     "output_type": "stream",
     "text": [
      "[Parallel(n_jobs=-1)]: Done   6 out of  10 | elapsed:    8.9s remaining:    5.9s\n"
     ]
    },
    {
     "name": "stdout",
     "output_type": "stream",
     "text": [
      "Mean cross validation score: 0.663039001938\n",
      "Score on test data: 0.582857142857\n"
     ]
    },
    {
     "name": "stderr",
     "output_type": "stream",
     "text": [
      "[Parallel(n_jobs=-1)]: Done  10 out of  10 | elapsed:   11.5s finished\n"
     ]
    }
   ],
   "source": [
    "# Check Logistic Regression with the same 56 features\n",
    "logr2 = LogisticRegression()\n",
    "mean_score = np.mean(cross_val_score(logr2, x4_train, y_var_class_train, cv=10, n_jobs=-1, verbose=1))\n",
    "print('Mean cross validation score: {}'.format(mean_score))\n",
    "\n",
    "logr2.fit(x4_train, y_var_class_train)\n",
    "print('Score on test data: {}'.format(logr2.score(x4_test, y_var_class_test)))"
   ]
  },
  {
   "cell_type": "markdown",
   "metadata": {},
   "source": [
    "from Chenghan  \n",
    "\n",
    "RFECV method to select 56 features and KNN classifier with n_neighbors = 21 gave the best results with a score of 0.6057 on test data"
   ]
  },
  {
   "cell_type": "markdown",
   "metadata": {},
   "source": [
    "<img src=\"http://imgur.com/GCAf1UX.png\" style=\"float: left; margin: 25px 15px 0px 0px; height: 25px\">\n",
    "\n",
    "## 3. What property characteristics predict an \"abnormal\" sale?\n",
    "\n",
    "---\n",
    "\n",
    "The `SaleCondition` feature indicates the circumstances of the house sale. From the data file, we can see that the possibilities are:\n",
    "\n",
    "       Normal\tNormal Sale\n",
    "       Abnorml\tAbnormal Sale -  trade, foreclosure, short sale\n",
    "       AdjLand\tAdjoining Land Purchase\n",
    "       Alloca\tAllocation - two linked properties with separate deeds, typically condo with a garage unit\t\n",
    "       Family\tSale between family members\n",
    "       Partial\tHome was not completed when last assessed (associated with New Homes)\n",
    "       \n",
    "One of the executives at your company has an \"in\" with higher-ups at the major regional bank. His friends at the bank have made him a proposal: if he can reliably indicate what features, if any, predict \"abnormal\" sales (foreclosures, short sales, etc.), then in return the bank will give him first dibs on the pre-auction purchase of those properties (at a dirt-cheap price).\n",
    "\n",
    "He has tasked you with determining (and adequately validating) which features of a property predict this type of sale. \n",
    "\n",
    "---\n",
    "\n",
    "**Your task:**\n",
    "1. Determine which features predict the `Abnorml` category in the `SaleCondition` feature.\n",
    "- Justify your results.\n",
    "\n",
    "This is a challenging task that tests your ability to perform classification analysis in the face of severe class imbalance. You may find that simply running a classifier on the full dataset to predict the category ends up useless: when there is bad class imbalance classifiers often tend to simply guess the majority class.\n",
    "\n",
    "It is up to you to determine how you will tackle this problem. I recommend doing some research to find out how others have dealt with the problem in the past. Make sure to justify your solution. Don't worry about it being \"the best\" solution, but be rigorous.\n",
    "\n",
    "Be sure to indicate which features are predictive (if any) and whether they are positive or negative predictors of abnormal sales."
   ]
  },
  {
   "cell_type": "code",
   "execution_count": 64,
   "metadata": {},
   "outputs": [],
   "source": [
    "from imblearn.under_sampling import RandomUnderSampler\n",
    "from collections import Counter\n",
    "from sklearn.model_selection import StratifiedKFold\n",
    "\n",
    "# Combine the fixed and renovate-able features into one predictor matrix\n",
    "df3 = pd.concat([df1, df2], axis=1)\n",
    "\n",
    "# Convert the SaleCondition column into binary target variable\n",
    "y3 = [1 if value=='Abnorml' else 0 for value in house['SaleCondition']]\n",
    "y3 = pd.DataFrame(y3)\n",
    "\n",
    "# Split into train and test data\n",
    "y3_train = np.ravel(y3[house['YrSold']<2010].copy())\n",
    "y3_test = np.ravel(y3[house['YrSold']==2010].copy())"
   ]
  },
  {
   "cell_type": "code",
   "execution_count": 65,
   "metadata": {},
   "outputs": [],
   "source": [
    "# Standardise the predictor matrix\n",
    "ss3 = StandardScaler()\n",
    "x_abnor = ss3.fit_transform(df3)\n",
    "x_abnor = pd.DataFrame(x_abnor, columns=df3.columns)\n",
    "\n",
    "# Set up training and test data\n",
    "x_abnor_train = x_abnor[house['YrSold']<2010].copy()\n",
    "x_abnor_test = x_abnor[house['YrSold']==2010].copy()"
   ]
  },
  {
   "cell_type": "code",
   "execution_count": 66,
   "metadata": {},
   "outputs": [
    {
     "name": "stdout",
     "output_type": "stream",
     "text": [
      "Distribution of class labels before undersampling: Counter({0: 1195, 1: 90})\n",
      "Distribution of class labels after undersampling: Counter({0: 90, 1: 90})\n"
     ]
    },
    {
     "name": "stderr",
     "output_type": "stream",
     "text": [
      "[Parallel(n_jobs=-1)]: Done   2 out of   5 | elapsed:    3.2s remaining:    4.9s\n",
      "[Parallel(n_jobs=-1)]: Done   5 out of   5 | elapsed:    5.0s finished\n"
     ]
    },
    {
     "data": {
      "text/plain": [
       "LogisticRegressionCV(Cs=100, class_weight='balanced', cv=5, dual=False,\n",
       "           fit_intercept=True, intercept_scaling=1.0, max_iter=100,\n",
       "           multi_class='ovr', n_jobs=-1, penalty='l1', random_state=None,\n",
       "           refit=True, scoring=None, solver='liblinear', tol=0.0001,\n",
       "           verbose=1)"
      ]
     },
     "execution_count": 66,
     "metadata": {},
     "output_type": "execute_result"
    }
   ],
   "source": [
    "# Use RandomUnderSampler to sample even classes\n",
    "us = RandomUnderSampler(ratio='majority', random_state=29)\n",
    "x_train_res, y_train_res = us.fit_sample(x_abnor_train, y3_train)\n",
    "\n",
    "print('Distribution of class labels before undersampling: {}'.format(Counter(y3_train)))\n",
    "print('Distribution of class labels after undersampling: {}'.format(Counter(y_train_res)))\n",
    "\n",
    "# Use LogisticRegressionCV to select features using lasso\n",
    "logr_cv = LogisticRegressionCV(Cs=100,penalty='l1',cv=5, solver='liblinear', class_weight='balanced', n_jobs=-1, verbose=1)\n",
    "logr_cv.fit(x_train_res, y_train_res)"
   ]
  },
  {
   "cell_type": "code",
   "execution_count": 67,
   "metadata": {},
   "outputs": [
    {
     "data": {
      "text/plain": [
       "array([0.24770764])"
      ]
     },
     "execution_count": 67,
     "metadata": {},
     "output_type": "execute_result"
    }
   ],
   "source": [
    "logr_cv.C_"
   ]
  },
  {
   "cell_type": "code",
   "execution_count": 68,
   "metadata": {},
   "outputs": [],
   "source": [
    "# Identify the features selected\n",
    "coefs = pd.DataFrame(logr_cv.coef_, columns=x_abnor_train.columns).T\n",
    "coefs.columns=['lasso_coefs']\n",
    "coefs_list = coefs[coefs['lasso_coefs']!=0]"
   ]
  },
  {
   "cell_type": "code",
   "execution_count": 69,
   "metadata": {},
   "outputs": [
    {
     "name": "stdout",
     "output_type": "stream",
     "text": [
      "[LibLinear]Score on test data: 0.451428571429\n"
     ]
    }
   ],
   "source": [
    "# Set up the predictor matrix\n",
    "x_train_res = pd.DataFrame(x_train_res, columns=x_abnor_train.columns)\n",
    "x_train_res_new = x_train_res[coefs_list.index].copy()\n",
    "x_test_new = x_abnor_test[coefs_list.index].copy()\n",
    "\n",
    "# Train LogisticRegression model\n",
    "logr_new = LogisticRegression(C=logr_cv.C_[0], penalty='l1', solver='liblinear', class_weight='balanced', verbose=1)\n",
    "logr_new.fit(x_train_res_new, y_train_res)\n",
    "\n",
    "print('Score on test data: {}'.format(logr_new.score(x_test_new, y3_test)))"
   ]
  },
  {
   "cell_type": "code",
   "execution_count": null,
   "metadata": {},
   "outputs": [],
   "source": []
  }
 ],
 "metadata": {
  "kernelspec": {
   "display_name": "Python 2",
   "language": "python",
   "name": "python2"
  },
  "language_info": {
   "codemirror_mode": {
    "name": "ipython",
    "version": 2
   },
   "file_extension": ".py",
   "mimetype": "text/x-python",
   "name": "python",
   "nbconvert_exporter": "python",
   "pygments_lexer": "ipython2",
   "version": "2.7.14"
  }
 },
 "nbformat": 4,
 "nbformat_minor": 2
}
